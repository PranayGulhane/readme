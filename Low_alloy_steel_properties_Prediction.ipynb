{
  "nbformat": 4,
  "nbformat_minor": 0,
  "metadata": {
    "colab": {
      "provenance": [],
      "authorship_tag": "ABX9TyOcUpMl60xsLeeuJK28ZkNo",
      "include_colab_link": true
    },
    "kernelspec": {
      "display_name": "Python 3",
      "name": "python3"
    },
    "language_info": {
      "name": "python"
    }
  },
  "cells": [
    {
      "cell_type": "markdown",
      "metadata": {
        "id": "view-in-github",
        "colab_type": "text"
      },
      "source": [
        "<a href=\"https://colab.research.google.com/github/PranayGulhane/readme/blob/main/Low_alloy_steel_properties_Prediction.ipynb\" target=\"_parent\"><img src=\"https://colab.research.google.com/assets/colab-badge.svg\" alt=\"Open In Colab\"/></a>"
      ]
    },
    {
      "cell_type": "markdown",
      "source": [
        "# Low Alloy Steel Properties Prediction\n"
      ],
      "metadata": {
        "id": "9n2YXwdiFNDR"
      }
    },
    {
      "cell_type": "markdown",
      "metadata": {
        "id": "tQ_LEydvOEdn"
      },
      "source": [
        "**Project: prediction of the mechanical properties of steel using the alloy composition.**\n"
      ]
    },
    {
      "cell_type": "markdown",
      "metadata": {
        "id": "uPQSBb9oPZUz"
      },
      "source": [
        "#Data Analysis and Cleaning"
      ]
    },
    {
      "cell_type": "code",
      "source": [
        "from google.colab import drive\n",
        "drive.mount(\"/content/drive\")"
      ],
      "metadata": {
        "colab": {
          "base_uri": "https://localhost:8080/"
        },
        "id": "Qvkuo00FeU0b",
        "outputId": "6e02811c-4712-441f-f13c-52afe3324517"
      },
      "execution_count": null,
      "outputs": [
        {
          "output_type": "stream",
          "name": "stdout",
          "text": [
            "Drive already mounted at /content/drive; to attempt to forcibly remount, call drive.mount(\"/content/drive\", force_remount=True).\n"
          ]
        }
      ]
    },
    {
      "cell_type": "code",
      "metadata": {
        "id": "4eRj_ugzOeDh"
      },
      "source": [
        "# importing libraries\n",
        "import numpy as np\n",
        "import pandas as pd\n",
        "import matplotlib.pyplot as plt\n",
        "import seaborn as sns"
      ],
      "execution_count": null,
      "outputs": []
    },
    {
      "cell_type": "code",
      "metadata": {
        "colab": {
          "base_uri": "https://localhost:8080/",
          "height": 267
        },
        "id": "wzN8q0WxPf5f",
        "outputId": "0ed70805-76c0-4fff-cd8c-2d3c16daf9b9"
      },
      "source": [
        "df = pd.read_csv('/content/drive/My Drive/Low_alloy_steel_dataset/Las.csv')\n",
        "df.head()"
      ],
      "execution_count": null,
      "outputs": [
        {
          "output_type": "execute_result",
          "data": {
            "text/plain": [
              "  Alloy code     C    Si    Mn      P      S     Ni    Cr    Mo    Cu    V  \\\n",
              "0        MBB  0.12  0.36  0.52  0.009  0.003  0.089  0.97  0.61  0.04  0.0   \n",
              "1        MBB  0.12  0.36  0.52  0.009  0.003  0.089  0.97  0.61  0.04  0.0   \n",
              "2        MBB  0.12  0.36  0.52  0.009  0.003  0.089  0.97  0.61  0.04  0.0   \n",
              "3        MBB  0.12  0.36  0.52  0.009  0.003  0.089  0.97  0.61  0.04  0.0   \n",
              "4        MBB  0.12  0.36  0.52  0.009  0.003  0.089  0.97  0.61  0.04  0.0   \n",
              "\n",
              "      Al       N  Ceq  Nb + Ta   Temperature (°C)   0.2% Proof Stress (MPa)  \\\n",
              "0  0.003  0.0066  0.0      0.0                 27                       342   \n",
              "1  0.003  0.0066  0.0      0.0                100                       338   \n",
              "2  0.003  0.0066  0.0      0.0                200                       337   \n",
              "3  0.003  0.0066  0.0      0.0                300                       346   \n",
              "4  0.003  0.0066  0.0      0.0                400                       316   \n",
              "\n",
              "    Tensile Strength (MPa)   Elongation (%)   Reduction in Area (%)  \n",
              "0                      490               30                      71  \n",
              "1                      454               27                      72  \n",
              "2                      465               23                      69  \n",
              "3                      495               21                      70  \n",
              "4                      489               26                      79  "
            ],
            "text/html": [
              "\n",
              "  <div id=\"df-bb9e8a57-e864-432a-9582-c298b37a7f8c\">\n",
              "    <div class=\"colab-df-container\">\n",
              "      <div>\n",
              "<style scoped>\n",
              "    .dataframe tbody tr th:only-of-type {\n",
              "        vertical-align: middle;\n",
              "    }\n",
              "\n",
              "    .dataframe tbody tr th {\n",
              "        vertical-align: top;\n",
              "    }\n",
              "\n",
              "    .dataframe thead th {\n",
              "        text-align: right;\n",
              "    }\n",
              "</style>\n",
              "<table border=\"1\" class=\"dataframe\">\n",
              "  <thead>\n",
              "    <tr style=\"text-align: right;\">\n",
              "      <th></th>\n",
              "      <th>Alloy code</th>\n",
              "      <th>C</th>\n",
              "      <th>Si</th>\n",
              "      <th>Mn</th>\n",
              "      <th>P</th>\n",
              "      <th>S</th>\n",
              "      <th>Ni</th>\n",
              "      <th>Cr</th>\n",
              "      <th>Mo</th>\n",
              "      <th>Cu</th>\n",
              "      <th>V</th>\n",
              "      <th>Al</th>\n",
              "      <th>N</th>\n",
              "      <th>Ceq</th>\n",
              "      <th>Nb + Ta</th>\n",
              "      <th>Temperature (°C)</th>\n",
              "      <th>0.2% Proof Stress (MPa)</th>\n",
              "      <th>Tensile Strength (MPa)</th>\n",
              "      <th>Elongation (%)</th>\n",
              "      <th>Reduction in Area (%)</th>\n",
              "    </tr>\n",
              "  </thead>\n",
              "  <tbody>\n",
              "    <tr>\n",
              "      <th>0</th>\n",
              "      <td>MBB</td>\n",
              "      <td>0.12</td>\n",
              "      <td>0.36</td>\n",
              "      <td>0.52</td>\n",
              "      <td>0.009</td>\n",
              "      <td>0.003</td>\n",
              "      <td>0.089</td>\n",
              "      <td>0.97</td>\n",
              "      <td>0.61</td>\n",
              "      <td>0.04</td>\n",
              "      <td>0.0</td>\n",
              "      <td>0.003</td>\n",
              "      <td>0.0066</td>\n",
              "      <td>0.0</td>\n",
              "      <td>0.0</td>\n",
              "      <td>27</td>\n",
              "      <td>342</td>\n",
              "      <td>490</td>\n",
              "      <td>30</td>\n",
              "      <td>71</td>\n",
              "    </tr>\n",
              "    <tr>\n",
              "      <th>1</th>\n",
              "      <td>MBB</td>\n",
              "      <td>0.12</td>\n",
              "      <td>0.36</td>\n",
              "      <td>0.52</td>\n",
              "      <td>0.009</td>\n",
              "      <td>0.003</td>\n",
              "      <td>0.089</td>\n",
              "      <td>0.97</td>\n",
              "      <td>0.61</td>\n",
              "      <td>0.04</td>\n",
              "      <td>0.0</td>\n",
              "      <td>0.003</td>\n",
              "      <td>0.0066</td>\n",
              "      <td>0.0</td>\n",
              "      <td>0.0</td>\n",
              "      <td>100</td>\n",
              "      <td>338</td>\n",
              "      <td>454</td>\n",
              "      <td>27</td>\n",
              "      <td>72</td>\n",
              "    </tr>\n",
              "    <tr>\n",
              "      <th>2</th>\n",
              "      <td>MBB</td>\n",
              "      <td>0.12</td>\n",
              "      <td>0.36</td>\n",
              "      <td>0.52</td>\n",
              "      <td>0.009</td>\n",
              "      <td>0.003</td>\n",
              "      <td>0.089</td>\n",
              "      <td>0.97</td>\n",
              "      <td>0.61</td>\n",
              "      <td>0.04</td>\n",
              "      <td>0.0</td>\n",
              "      <td>0.003</td>\n",
              "      <td>0.0066</td>\n",
              "      <td>0.0</td>\n",
              "      <td>0.0</td>\n",
              "      <td>200</td>\n",
              "      <td>337</td>\n",
              "      <td>465</td>\n",
              "      <td>23</td>\n",
              "      <td>69</td>\n",
              "    </tr>\n",
              "    <tr>\n",
              "      <th>3</th>\n",
              "      <td>MBB</td>\n",
              "      <td>0.12</td>\n",
              "      <td>0.36</td>\n",
              "      <td>0.52</td>\n",
              "      <td>0.009</td>\n",
              "      <td>0.003</td>\n",
              "      <td>0.089</td>\n",
              "      <td>0.97</td>\n",
              "      <td>0.61</td>\n",
              "      <td>0.04</td>\n",
              "      <td>0.0</td>\n",
              "      <td>0.003</td>\n",
              "      <td>0.0066</td>\n",
              "      <td>0.0</td>\n",
              "      <td>0.0</td>\n",
              "      <td>300</td>\n",
              "      <td>346</td>\n",
              "      <td>495</td>\n",
              "      <td>21</td>\n",
              "      <td>70</td>\n",
              "    </tr>\n",
              "    <tr>\n",
              "      <th>4</th>\n",
              "      <td>MBB</td>\n",
              "      <td>0.12</td>\n",
              "      <td>0.36</td>\n",
              "      <td>0.52</td>\n",
              "      <td>0.009</td>\n",
              "      <td>0.003</td>\n",
              "      <td>0.089</td>\n",
              "      <td>0.97</td>\n",
              "      <td>0.61</td>\n",
              "      <td>0.04</td>\n",
              "      <td>0.0</td>\n",
              "      <td>0.003</td>\n",
              "      <td>0.0066</td>\n",
              "      <td>0.0</td>\n",
              "      <td>0.0</td>\n",
              "      <td>400</td>\n",
              "      <td>316</td>\n",
              "      <td>489</td>\n",
              "      <td>26</td>\n",
              "      <td>79</td>\n",
              "    </tr>\n",
              "  </tbody>\n",
              "</table>\n",
              "</div>\n",
              "      <button class=\"colab-df-convert\" onclick=\"convertToInteractive('df-bb9e8a57-e864-432a-9582-c298b37a7f8c')\"\n",
              "              title=\"Convert this dataframe to an interactive table.\"\n",
              "              style=\"display:none;\">\n",
              "        \n",
              "  <svg xmlns=\"http://www.w3.org/2000/svg\" height=\"24px\"viewBox=\"0 0 24 24\"\n",
              "       width=\"24px\">\n",
              "    <path d=\"M0 0h24v24H0V0z\" fill=\"none\"/>\n",
              "    <path d=\"M18.56 5.44l.94 2.06.94-2.06 2.06-.94-2.06-.94-.94-2.06-.94 2.06-2.06.94zm-11 1L8.5 8.5l.94-2.06 2.06-.94-2.06-.94L8.5 2.5l-.94 2.06-2.06.94zm10 10l.94 2.06.94-2.06 2.06-.94-2.06-.94-.94-2.06-.94 2.06-2.06.94z\"/><path d=\"M17.41 7.96l-1.37-1.37c-.4-.4-.92-.59-1.43-.59-.52 0-1.04.2-1.43.59L10.3 9.45l-7.72 7.72c-.78.78-.78 2.05 0 2.83L4 21.41c.39.39.9.59 1.41.59.51 0 1.02-.2 1.41-.59l7.78-7.78 2.81-2.81c.8-.78.8-2.07 0-2.86zM5.41 20L4 18.59l7.72-7.72 1.47 1.35L5.41 20z\"/>\n",
              "  </svg>\n",
              "      </button>\n",
              "      \n",
              "  <style>\n",
              "    .colab-df-container {\n",
              "      display:flex;\n",
              "      flex-wrap:wrap;\n",
              "      gap: 12px;\n",
              "    }\n",
              "\n",
              "    .colab-df-convert {\n",
              "      background-color: #E8F0FE;\n",
              "      border: none;\n",
              "      border-radius: 50%;\n",
              "      cursor: pointer;\n",
              "      display: none;\n",
              "      fill: #1967D2;\n",
              "      height: 32px;\n",
              "      padding: 0 0 0 0;\n",
              "      width: 32px;\n",
              "    }\n",
              "\n",
              "    .colab-df-convert:hover {\n",
              "      background-color: #E2EBFA;\n",
              "      box-shadow: 0px 1px 2px rgba(60, 64, 67, 0.3), 0px 1px 3px 1px rgba(60, 64, 67, 0.15);\n",
              "      fill: #174EA6;\n",
              "    }\n",
              "\n",
              "    [theme=dark] .colab-df-convert {\n",
              "      background-color: #3B4455;\n",
              "      fill: #D2E3FC;\n",
              "    }\n",
              "\n",
              "    [theme=dark] .colab-df-convert:hover {\n",
              "      background-color: #434B5C;\n",
              "      box-shadow: 0px 1px 3px 1px rgba(0, 0, 0, 0.15);\n",
              "      filter: drop-shadow(0px 1px 2px rgba(0, 0, 0, 0.3));\n",
              "      fill: #FFFFFF;\n",
              "    }\n",
              "  </style>\n",
              "\n",
              "      <script>\n",
              "        const buttonEl =\n",
              "          document.querySelector('#df-bb9e8a57-e864-432a-9582-c298b37a7f8c button.colab-df-convert');\n",
              "        buttonEl.style.display =\n",
              "          google.colab.kernel.accessAllowed ? 'block' : 'none';\n",
              "\n",
              "        async function convertToInteractive(key) {\n",
              "          const element = document.querySelector('#df-bb9e8a57-e864-432a-9582-c298b37a7f8c');\n",
              "          const dataTable =\n",
              "            await google.colab.kernel.invokeFunction('convertToInteractive',\n",
              "                                                     [key], {});\n",
              "          if (!dataTable) return;\n",
              "\n",
              "          const docLinkHtml = 'Like what you see? Visit the ' +\n",
              "            '<a target=\"_blank\" href=https://colab.research.google.com/notebooks/data_table.ipynb>data table notebook</a>'\n",
              "            + ' to learn more about interactive tables.';\n",
              "          element.innerHTML = '';\n",
              "          dataTable['output_type'] = 'display_data';\n",
              "          await google.colab.output.renderOutput(dataTable, element);\n",
              "          const docLink = document.createElement('div');\n",
              "          docLink.innerHTML = docLinkHtml;\n",
              "          element.appendChild(docLink);\n",
              "        }\n",
              "      </script>\n",
              "    </div>\n",
              "  </div>\n",
              "  "
            ]
          },
          "metadata": {},
          "execution_count": 3
        }
      ]
    },
    {
      "cell_type": "code",
      "metadata": {
        "colab": {
          "base_uri": "https://localhost:8080/"
        },
        "id": "k-QHwE6v2sff",
        "outputId": "ebed1db3-20db-43bd-c8cf-05d23f6208d8"
      },
      "source": [
        "df.shape"
      ],
      "execution_count": null,
      "outputs": [
        {
          "output_type": "execute_result",
          "data": {
            "text/plain": [
              "(915, 20)"
            ]
          },
          "metadata": {},
          "execution_count": 4
        }
      ]
    },
    {
      "cell_type": "code",
      "metadata": {
        "colab": {
          "base_uri": "https://localhost:8080/"
        },
        "id": "X0ONyv7xPuX8",
        "outputId": "9b1ea516-4b7e-470f-f767-052bf3c30e7a"
      },
      "source": [
        "list(df.columns)"
      ],
      "execution_count": null,
      "outputs": [
        {
          "output_type": "execute_result",
          "data": {
            "text/plain": [
              "['Alloy code',\n",
              " ' C',\n",
              " ' Si',\n",
              " ' Mn',\n",
              " ' P',\n",
              " ' S',\n",
              " ' Ni',\n",
              " ' Cr',\n",
              " ' Mo',\n",
              " ' Cu',\n",
              " 'V',\n",
              " ' Al',\n",
              " ' N',\n",
              " 'Ceq',\n",
              " 'Nb + Ta',\n",
              " ' Temperature (°C)',\n",
              " ' 0.2% Proof Stress (MPa)',\n",
              " ' Tensile Strength (MPa)',\n",
              " ' Elongation (%)',\n",
              " ' Reduction in Area (%)']"
            ]
          },
          "metadata": {},
          "execution_count": 5
        }
      ]
    },
    {
      "cell_type": "markdown",
      "metadata": {
        "id": "UXp-_R3tRZ8l"
      },
      "source": [
        "Checking if there are any NaN values in dataset"
      ]
    },
    {
      "cell_type": "code",
      "metadata": {
        "colab": {
          "base_uri": "https://localhost:8080/"
        },
        "id": "A5_uuzqVQFi5",
        "outputId": "d9efa3b4-114c-4414-d174-0f3b028a47cc"
      },
      "source": [
        "df.isnull().sum()"
      ],
      "execution_count": null,
      "outputs": [
        {
          "output_type": "execute_result",
          "data": {
            "text/plain": [
              "Alloy code                  0\n",
              " C                          0\n",
              " Si                         0\n",
              " Mn                         0\n",
              " P                          0\n",
              " S                          0\n",
              " Ni                         0\n",
              " Cr                         0\n",
              " Mo                         0\n",
              " Cu                         0\n",
              "V                           0\n",
              " Al                         0\n",
              " N                          0\n",
              "Ceq                         0\n",
              "Nb + Ta                     0\n",
              " Temperature (°C)           0\n",
              " 0.2% Proof Stress (MPa)    0\n",
              " Tensile Strength (MPa)     0\n",
              " Elongation (%)             0\n",
              " Reduction in Area (%)      0\n",
              "dtype: int64"
            ]
          },
          "metadata": {},
          "execution_count": 6
        }
      ]
    },
    {
      "cell_type": "markdown",
      "metadata": {
        "id": "yxkMkKX6RwAJ"
      },
      "source": [
        "Dataset do not have any NaN values"
      ]
    },
    {
      "cell_type": "code",
      "metadata": {
        "colab": {
          "base_uri": "https://localhost:8080/",
          "height": 416
        },
        "id": "YNE0E6TnQShS",
        "outputId": "f8fe7a39-b2f9-4adf-fd7c-8846943b4702"
      },
      "source": [
        "df.describe()"
      ],
      "execution_count": null,
      "outputs": [
        {
          "output_type": "execute_result",
          "data": {
            "text/plain": [
              "                C          Si          Mn           P           S          Ni  \\\n",
              "count  915.000000  915.000000  915.000000  915.000000  915.000000  915.000000   \n",
              "mean     0.174929    0.310918    0.812962    0.014543    0.010602    0.143016   \n",
              "std      0.059674    0.086871    0.342775    0.005244    0.004024    0.172746   \n",
              "min      0.090000    0.180000    0.420000    0.006000    0.003000    0.000000   \n",
              "25%      0.130000    0.240000    0.500000    0.010000    0.008000    0.023000   \n",
              "50%      0.160000    0.300000    0.680000    0.014000    0.010000    0.050000   \n",
              "75%      0.200000    0.370000    1.210000    0.018000    0.012000    0.210000   \n",
              "max      0.340000    0.520000    1.480000    0.030000    0.022000    0.600000   \n",
              "\n",
              "               Cr          Mo          Cu           V          Al           N  \\\n",
              "count  915.000000  915.000000  915.000000  915.000000  915.000000  915.000000   \n",
              "mean     0.427861    0.442870    0.079148    0.060190    0.012435    0.007652   \n",
              "std      0.457568    0.394383    0.058481    0.096403    0.013067    0.002321   \n",
              "min      0.000000    0.005000    0.000000    0.000000    0.002000    0.002500   \n",
              "25%      0.040000    0.050000    0.040000    0.000000    0.004000    0.006200   \n",
              "50%      0.110000    0.500000    0.070000    0.000000    0.006000    0.007600   \n",
              "75%      1.000000    0.560000    0.110000    0.070000    0.016000    0.009000   \n",
              "max      1.310000    1.350000    0.250000    0.300000    0.050000    0.015000   \n",
              "\n",
              "              Ceq     Nb + Ta   Temperature (°C)   0.2% Proof Stress (MPa)  \\\n",
              "count  915.000000  915.000000         915.000000                915.000000   \n",
              "mean     0.093989    0.000041         351.601093                328.218579   \n",
              "std      0.172533    0.000261         189.714773                131.653232   \n",
              "min      0.000000    0.000000          27.000000                 27.000000   \n",
              "25%      0.000000    0.000000         200.000000                220.000000   \n",
              "50%      0.000000    0.000000         400.000000                290.000000   \n",
              "75%      0.000000    0.000000         500.000000                432.500000   \n",
              "max      0.437000    0.001700         650.000000                690.000000   \n",
              "\n",
              "        Tensile Strength (MPa)   Elongation (%)   Reduction in Area (%)  \n",
              "count               915.000000       915.000000              915.000000  \n",
              "mean                496.248087        26.789071               70.206557  \n",
              "std                 239.710650         8.806595               12.389289  \n",
              "min                 162.000000        10.000000               18.000000  \n",
              "25%                 413.000000        20.000000               62.000000  \n",
              "50%                 479.000000        26.000000               71.000000  \n",
              "75%                 575.000000        31.000000               80.000000  \n",
              "max                6661.000000        78.000000               94.000000  "
            ],
            "text/html": [
              "\n",
              "  <div id=\"df-1b24d65e-2246-436d-9fda-dd10d964c9f0\">\n",
              "    <div class=\"colab-df-container\">\n",
              "      <div>\n",
              "<style scoped>\n",
              "    .dataframe tbody tr th:only-of-type {\n",
              "        vertical-align: middle;\n",
              "    }\n",
              "\n",
              "    .dataframe tbody tr th {\n",
              "        vertical-align: top;\n",
              "    }\n",
              "\n",
              "    .dataframe thead th {\n",
              "        text-align: right;\n",
              "    }\n",
              "</style>\n",
              "<table border=\"1\" class=\"dataframe\">\n",
              "  <thead>\n",
              "    <tr style=\"text-align: right;\">\n",
              "      <th></th>\n",
              "      <th>C</th>\n",
              "      <th>Si</th>\n",
              "      <th>Mn</th>\n",
              "      <th>P</th>\n",
              "      <th>S</th>\n",
              "      <th>Ni</th>\n",
              "      <th>Cr</th>\n",
              "      <th>Mo</th>\n",
              "      <th>Cu</th>\n",
              "      <th>V</th>\n",
              "      <th>Al</th>\n",
              "      <th>N</th>\n",
              "      <th>Ceq</th>\n",
              "      <th>Nb + Ta</th>\n",
              "      <th>Temperature (°C)</th>\n",
              "      <th>0.2% Proof Stress (MPa)</th>\n",
              "      <th>Tensile Strength (MPa)</th>\n",
              "      <th>Elongation (%)</th>\n",
              "      <th>Reduction in Area (%)</th>\n",
              "    </tr>\n",
              "  </thead>\n",
              "  <tbody>\n",
              "    <tr>\n",
              "      <th>count</th>\n",
              "      <td>915.000000</td>\n",
              "      <td>915.000000</td>\n",
              "      <td>915.000000</td>\n",
              "      <td>915.000000</td>\n",
              "      <td>915.000000</td>\n",
              "      <td>915.000000</td>\n",
              "      <td>915.000000</td>\n",
              "      <td>915.000000</td>\n",
              "      <td>915.000000</td>\n",
              "      <td>915.000000</td>\n",
              "      <td>915.000000</td>\n",
              "      <td>915.000000</td>\n",
              "      <td>915.000000</td>\n",
              "      <td>915.000000</td>\n",
              "      <td>915.000000</td>\n",
              "      <td>915.000000</td>\n",
              "      <td>915.000000</td>\n",
              "      <td>915.000000</td>\n",
              "      <td>915.000000</td>\n",
              "    </tr>\n",
              "    <tr>\n",
              "      <th>mean</th>\n",
              "      <td>0.174929</td>\n",
              "      <td>0.310918</td>\n",
              "      <td>0.812962</td>\n",
              "      <td>0.014543</td>\n",
              "      <td>0.010602</td>\n",
              "      <td>0.143016</td>\n",
              "      <td>0.427861</td>\n",
              "      <td>0.442870</td>\n",
              "      <td>0.079148</td>\n",
              "      <td>0.060190</td>\n",
              "      <td>0.012435</td>\n",
              "      <td>0.007652</td>\n",
              "      <td>0.093989</td>\n",
              "      <td>0.000041</td>\n",
              "      <td>351.601093</td>\n",
              "      <td>328.218579</td>\n",
              "      <td>496.248087</td>\n",
              "      <td>26.789071</td>\n",
              "      <td>70.206557</td>\n",
              "    </tr>\n",
              "    <tr>\n",
              "      <th>std</th>\n",
              "      <td>0.059674</td>\n",
              "      <td>0.086871</td>\n",
              "      <td>0.342775</td>\n",
              "      <td>0.005244</td>\n",
              "      <td>0.004024</td>\n",
              "      <td>0.172746</td>\n",
              "      <td>0.457568</td>\n",
              "      <td>0.394383</td>\n",
              "      <td>0.058481</td>\n",
              "      <td>0.096403</td>\n",
              "      <td>0.013067</td>\n",
              "      <td>0.002321</td>\n",
              "      <td>0.172533</td>\n",
              "      <td>0.000261</td>\n",
              "      <td>189.714773</td>\n",
              "      <td>131.653232</td>\n",
              "      <td>239.710650</td>\n",
              "      <td>8.806595</td>\n",
              "      <td>12.389289</td>\n",
              "    </tr>\n",
              "    <tr>\n",
              "      <th>min</th>\n",
              "      <td>0.090000</td>\n",
              "      <td>0.180000</td>\n",
              "      <td>0.420000</td>\n",
              "      <td>0.006000</td>\n",
              "      <td>0.003000</td>\n",
              "      <td>0.000000</td>\n",
              "      <td>0.000000</td>\n",
              "      <td>0.005000</td>\n",
              "      <td>0.000000</td>\n",
              "      <td>0.000000</td>\n",
              "      <td>0.002000</td>\n",
              "      <td>0.002500</td>\n",
              "      <td>0.000000</td>\n",
              "      <td>0.000000</td>\n",
              "      <td>27.000000</td>\n",
              "      <td>27.000000</td>\n",
              "      <td>162.000000</td>\n",
              "      <td>10.000000</td>\n",
              "      <td>18.000000</td>\n",
              "    </tr>\n",
              "    <tr>\n",
              "      <th>25%</th>\n",
              "      <td>0.130000</td>\n",
              "      <td>0.240000</td>\n",
              "      <td>0.500000</td>\n",
              "      <td>0.010000</td>\n",
              "      <td>0.008000</td>\n",
              "      <td>0.023000</td>\n",
              "      <td>0.040000</td>\n",
              "      <td>0.050000</td>\n",
              "      <td>0.040000</td>\n",
              "      <td>0.000000</td>\n",
              "      <td>0.004000</td>\n",
              "      <td>0.006200</td>\n",
              "      <td>0.000000</td>\n",
              "      <td>0.000000</td>\n",
              "      <td>200.000000</td>\n",
              "      <td>220.000000</td>\n",
              "      <td>413.000000</td>\n",
              "      <td>20.000000</td>\n",
              "      <td>62.000000</td>\n",
              "    </tr>\n",
              "    <tr>\n",
              "      <th>50%</th>\n",
              "      <td>0.160000</td>\n",
              "      <td>0.300000</td>\n",
              "      <td>0.680000</td>\n",
              "      <td>0.014000</td>\n",
              "      <td>0.010000</td>\n",
              "      <td>0.050000</td>\n",
              "      <td>0.110000</td>\n",
              "      <td>0.500000</td>\n",
              "      <td>0.070000</td>\n",
              "      <td>0.000000</td>\n",
              "      <td>0.006000</td>\n",
              "      <td>0.007600</td>\n",
              "      <td>0.000000</td>\n",
              "      <td>0.000000</td>\n",
              "      <td>400.000000</td>\n",
              "      <td>290.000000</td>\n",
              "      <td>479.000000</td>\n",
              "      <td>26.000000</td>\n",
              "      <td>71.000000</td>\n",
              "    </tr>\n",
              "    <tr>\n",
              "      <th>75%</th>\n",
              "      <td>0.200000</td>\n",
              "      <td>0.370000</td>\n",
              "      <td>1.210000</td>\n",
              "      <td>0.018000</td>\n",
              "      <td>0.012000</td>\n",
              "      <td>0.210000</td>\n",
              "      <td>1.000000</td>\n",
              "      <td>0.560000</td>\n",
              "      <td>0.110000</td>\n",
              "      <td>0.070000</td>\n",
              "      <td>0.016000</td>\n",
              "      <td>0.009000</td>\n",
              "      <td>0.000000</td>\n",
              "      <td>0.000000</td>\n",
              "      <td>500.000000</td>\n",
              "      <td>432.500000</td>\n",
              "      <td>575.000000</td>\n",
              "      <td>31.000000</td>\n",
              "      <td>80.000000</td>\n",
              "    </tr>\n",
              "    <tr>\n",
              "      <th>max</th>\n",
              "      <td>0.340000</td>\n",
              "      <td>0.520000</td>\n",
              "      <td>1.480000</td>\n",
              "      <td>0.030000</td>\n",
              "      <td>0.022000</td>\n",
              "      <td>0.600000</td>\n",
              "      <td>1.310000</td>\n",
              "      <td>1.350000</td>\n",
              "      <td>0.250000</td>\n",
              "      <td>0.300000</td>\n",
              "      <td>0.050000</td>\n",
              "      <td>0.015000</td>\n",
              "      <td>0.437000</td>\n",
              "      <td>0.001700</td>\n",
              "      <td>650.000000</td>\n",
              "      <td>690.000000</td>\n",
              "      <td>6661.000000</td>\n",
              "      <td>78.000000</td>\n",
              "      <td>94.000000</td>\n",
              "    </tr>\n",
              "  </tbody>\n",
              "</table>\n",
              "</div>\n",
              "      <button class=\"colab-df-convert\" onclick=\"convertToInteractive('df-1b24d65e-2246-436d-9fda-dd10d964c9f0')\"\n",
              "              title=\"Convert this dataframe to an interactive table.\"\n",
              "              style=\"display:none;\">\n",
              "        \n",
              "  <svg xmlns=\"http://www.w3.org/2000/svg\" height=\"24px\"viewBox=\"0 0 24 24\"\n",
              "       width=\"24px\">\n",
              "    <path d=\"M0 0h24v24H0V0z\" fill=\"none\"/>\n",
              "    <path d=\"M18.56 5.44l.94 2.06.94-2.06 2.06-.94-2.06-.94-.94-2.06-.94 2.06-2.06.94zm-11 1L8.5 8.5l.94-2.06 2.06-.94-2.06-.94L8.5 2.5l-.94 2.06-2.06.94zm10 10l.94 2.06.94-2.06 2.06-.94-2.06-.94-.94-2.06-.94 2.06-2.06.94z\"/><path d=\"M17.41 7.96l-1.37-1.37c-.4-.4-.92-.59-1.43-.59-.52 0-1.04.2-1.43.59L10.3 9.45l-7.72 7.72c-.78.78-.78 2.05 0 2.83L4 21.41c.39.39.9.59 1.41.59.51 0 1.02-.2 1.41-.59l7.78-7.78 2.81-2.81c.8-.78.8-2.07 0-2.86zM5.41 20L4 18.59l7.72-7.72 1.47 1.35L5.41 20z\"/>\n",
              "  </svg>\n",
              "      </button>\n",
              "      \n",
              "  <style>\n",
              "    .colab-df-container {\n",
              "      display:flex;\n",
              "      flex-wrap:wrap;\n",
              "      gap: 12px;\n",
              "    }\n",
              "\n",
              "    .colab-df-convert {\n",
              "      background-color: #E8F0FE;\n",
              "      border: none;\n",
              "      border-radius: 50%;\n",
              "      cursor: pointer;\n",
              "      display: none;\n",
              "      fill: #1967D2;\n",
              "      height: 32px;\n",
              "      padding: 0 0 0 0;\n",
              "      width: 32px;\n",
              "    }\n",
              "\n",
              "    .colab-df-convert:hover {\n",
              "      background-color: #E2EBFA;\n",
              "      box-shadow: 0px 1px 2px rgba(60, 64, 67, 0.3), 0px 1px 3px 1px rgba(60, 64, 67, 0.15);\n",
              "      fill: #174EA6;\n",
              "    }\n",
              "\n",
              "    [theme=dark] .colab-df-convert {\n",
              "      background-color: #3B4455;\n",
              "      fill: #D2E3FC;\n",
              "    }\n",
              "\n",
              "    [theme=dark] .colab-df-convert:hover {\n",
              "      background-color: #434B5C;\n",
              "      box-shadow: 0px 1px 3px 1px rgba(0, 0, 0, 0.15);\n",
              "      filter: drop-shadow(0px 1px 2px rgba(0, 0, 0, 0.3));\n",
              "      fill: #FFFFFF;\n",
              "    }\n",
              "  </style>\n",
              "\n",
              "      <script>\n",
              "        const buttonEl =\n",
              "          document.querySelector('#df-1b24d65e-2246-436d-9fda-dd10d964c9f0 button.colab-df-convert');\n",
              "        buttonEl.style.display =\n",
              "          google.colab.kernel.accessAllowed ? 'block' : 'none';\n",
              "\n",
              "        async function convertToInteractive(key) {\n",
              "          const element = document.querySelector('#df-1b24d65e-2246-436d-9fda-dd10d964c9f0');\n",
              "          const dataTable =\n",
              "            await google.colab.kernel.invokeFunction('convertToInteractive',\n",
              "                                                     [key], {});\n",
              "          if (!dataTable) return;\n",
              "\n",
              "          const docLinkHtml = 'Like what you see? Visit the ' +\n",
              "            '<a target=\"_blank\" href=https://colab.research.google.com/notebooks/data_table.ipynb>data table notebook</a>'\n",
              "            + ' to learn more about interactive tables.';\n",
              "          element.innerHTML = '';\n",
              "          dataTable['output_type'] = 'display_data';\n",
              "          await google.colab.output.renderOutput(dataTable, element);\n",
              "          const docLink = document.createElement('div');\n",
              "          docLink.innerHTML = docLinkHtml;\n",
              "          element.appendChild(docLink);\n",
              "        }\n",
              "      </script>\n",
              "    </div>\n",
              "  </div>\n",
              "  "
            ]
          },
          "metadata": {},
          "execution_count": 7
        }
      ]
    },
    {
      "cell_type": "code",
      "metadata": {
        "id": "1DwHbmckQbVc"
      },
      "source": [
        "# removeing Alloy code column because it is for information only\n",
        "df.drop('Alloy code', axis='columns', inplace=True)"
      ],
      "execution_count": null,
      "outputs": []
    },
    {
      "cell_type": "code",
      "metadata": {
        "colab": {
          "base_uri": "https://localhost:8080/",
          "height": 267
        },
        "id": "yWCQSoYfQhjF",
        "outputId": "90296013-aefb-495f-f3e4-842860bd97cf"
      },
      "source": [
        "df.head()"
      ],
      "execution_count": null,
      "outputs": [
        {
          "output_type": "execute_result",
          "data": {
            "text/plain": [
              "      C    Si    Mn      P      S     Ni    Cr    Mo    Cu    V     Al  \\\n",
              "0  0.12  0.36  0.52  0.009  0.003  0.089  0.97  0.61  0.04  0.0  0.003   \n",
              "1  0.12  0.36  0.52  0.009  0.003  0.089  0.97  0.61  0.04  0.0  0.003   \n",
              "2  0.12  0.36  0.52  0.009  0.003  0.089  0.97  0.61  0.04  0.0  0.003   \n",
              "3  0.12  0.36  0.52  0.009  0.003  0.089  0.97  0.61  0.04  0.0  0.003   \n",
              "4  0.12  0.36  0.52  0.009  0.003  0.089  0.97  0.61  0.04  0.0  0.003   \n",
              "\n",
              "        N  Ceq  Nb + Ta   Temperature (°C)   0.2% Proof Stress (MPa)  \\\n",
              "0  0.0066  0.0      0.0                 27                       342   \n",
              "1  0.0066  0.0      0.0                100                       338   \n",
              "2  0.0066  0.0      0.0                200                       337   \n",
              "3  0.0066  0.0      0.0                300                       346   \n",
              "4  0.0066  0.0      0.0                400                       316   \n",
              "\n",
              "    Tensile Strength (MPa)   Elongation (%)   Reduction in Area (%)  \n",
              "0                      490               30                      71  \n",
              "1                      454               27                      72  \n",
              "2                      465               23                      69  \n",
              "3                      495               21                      70  \n",
              "4                      489               26                      79  "
            ],
            "text/html": [
              "\n",
              "  <div id=\"df-08a650bc-604c-4b49-9c36-93617458c6de\">\n",
              "    <div class=\"colab-df-container\">\n",
              "      <div>\n",
              "<style scoped>\n",
              "    .dataframe tbody tr th:only-of-type {\n",
              "        vertical-align: middle;\n",
              "    }\n",
              "\n",
              "    .dataframe tbody tr th {\n",
              "        vertical-align: top;\n",
              "    }\n",
              "\n",
              "    .dataframe thead th {\n",
              "        text-align: right;\n",
              "    }\n",
              "</style>\n",
              "<table border=\"1\" class=\"dataframe\">\n",
              "  <thead>\n",
              "    <tr style=\"text-align: right;\">\n",
              "      <th></th>\n",
              "      <th>C</th>\n",
              "      <th>Si</th>\n",
              "      <th>Mn</th>\n",
              "      <th>P</th>\n",
              "      <th>S</th>\n",
              "      <th>Ni</th>\n",
              "      <th>Cr</th>\n",
              "      <th>Mo</th>\n",
              "      <th>Cu</th>\n",
              "      <th>V</th>\n",
              "      <th>Al</th>\n",
              "      <th>N</th>\n",
              "      <th>Ceq</th>\n",
              "      <th>Nb + Ta</th>\n",
              "      <th>Temperature (°C)</th>\n",
              "      <th>0.2% Proof Stress (MPa)</th>\n",
              "      <th>Tensile Strength (MPa)</th>\n",
              "      <th>Elongation (%)</th>\n",
              "      <th>Reduction in Area (%)</th>\n",
              "    </tr>\n",
              "  </thead>\n",
              "  <tbody>\n",
              "    <tr>\n",
              "      <th>0</th>\n",
              "      <td>0.12</td>\n",
              "      <td>0.36</td>\n",
              "      <td>0.52</td>\n",
              "      <td>0.009</td>\n",
              "      <td>0.003</td>\n",
              "      <td>0.089</td>\n",
              "      <td>0.97</td>\n",
              "      <td>0.61</td>\n",
              "      <td>0.04</td>\n",
              "      <td>0.0</td>\n",
              "      <td>0.003</td>\n",
              "      <td>0.0066</td>\n",
              "      <td>0.0</td>\n",
              "      <td>0.0</td>\n",
              "      <td>27</td>\n",
              "      <td>342</td>\n",
              "      <td>490</td>\n",
              "      <td>30</td>\n",
              "      <td>71</td>\n",
              "    </tr>\n",
              "    <tr>\n",
              "      <th>1</th>\n",
              "      <td>0.12</td>\n",
              "      <td>0.36</td>\n",
              "      <td>0.52</td>\n",
              "      <td>0.009</td>\n",
              "      <td>0.003</td>\n",
              "      <td>0.089</td>\n",
              "      <td>0.97</td>\n",
              "      <td>0.61</td>\n",
              "      <td>0.04</td>\n",
              "      <td>0.0</td>\n",
              "      <td>0.003</td>\n",
              "      <td>0.0066</td>\n",
              "      <td>0.0</td>\n",
              "      <td>0.0</td>\n",
              "      <td>100</td>\n",
              "      <td>338</td>\n",
              "      <td>454</td>\n",
              "      <td>27</td>\n",
              "      <td>72</td>\n",
              "    </tr>\n",
              "    <tr>\n",
              "      <th>2</th>\n",
              "      <td>0.12</td>\n",
              "      <td>0.36</td>\n",
              "      <td>0.52</td>\n",
              "      <td>0.009</td>\n",
              "      <td>0.003</td>\n",
              "      <td>0.089</td>\n",
              "      <td>0.97</td>\n",
              "      <td>0.61</td>\n",
              "      <td>0.04</td>\n",
              "      <td>0.0</td>\n",
              "      <td>0.003</td>\n",
              "      <td>0.0066</td>\n",
              "      <td>0.0</td>\n",
              "      <td>0.0</td>\n",
              "      <td>200</td>\n",
              "      <td>337</td>\n",
              "      <td>465</td>\n",
              "      <td>23</td>\n",
              "      <td>69</td>\n",
              "    </tr>\n",
              "    <tr>\n",
              "      <th>3</th>\n",
              "      <td>0.12</td>\n",
              "      <td>0.36</td>\n",
              "      <td>0.52</td>\n",
              "      <td>0.009</td>\n",
              "      <td>0.003</td>\n",
              "      <td>0.089</td>\n",
              "      <td>0.97</td>\n",
              "      <td>0.61</td>\n",
              "      <td>0.04</td>\n",
              "      <td>0.0</td>\n",
              "      <td>0.003</td>\n",
              "      <td>0.0066</td>\n",
              "      <td>0.0</td>\n",
              "      <td>0.0</td>\n",
              "      <td>300</td>\n",
              "      <td>346</td>\n",
              "      <td>495</td>\n",
              "      <td>21</td>\n",
              "      <td>70</td>\n",
              "    </tr>\n",
              "    <tr>\n",
              "      <th>4</th>\n",
              "      <td>0.12</td>\n",
              "      <td>0.36</td>\n",
              "      <td>0.52</td>\n",
              "      <td>0.009</td>\n",
              "      <td>0.003</td>\n",
              "      <td>0.089</td>\n",
              "      <td>0.97</td>\n",
              "      <td>0.61</td>\n",
              "      <td>0.04</td>\n",
              "      <td>0.0</td>\n",
              "      <td>0.003</td>\n",
              "      <td>0.0066</td>\n",
              "      <td>0.0</td>\n",
              "      <td>0.0</td>\n",
              "      <td>400</td>\n",
              "      <td>316</td>\n",
              "      <td>489</td>\n",
              "      <td>26</td>\n",
              "      <td>79</td>\n",
              "    </tr>\n",
              "  </tbody>\n",
              "</table>\n",
              "</div>\n",
              "      <button class=\"colab-df-convert\" onclick=\"convertToInteractive('df-08a650bc-604c-4b49-9c36-93617458c6de')\"\n",
              "              title=\"Convert this dataframe to an interactive table.\"\n",
              "              style=\"display:none;\">\n",
              "        \n",
              "  <svg xmlns=\"http://www.w3.org/2000/svg\" height=\"24px\"viewBox=\"0 0 24 24\"\n",
              "       width=\"24px\">\n",
              "    <path d=\"M0 0h24v24H0V0z\" fill=\"none\"/>\n",
              "    <path d=\"M18.56 5.44l.94 2.06.94-2.06 2.06-.94-2.06-.94-.94-2.06-.94 2.06-2.06.94zm-11 1L8.5 8.5l.94-2.06 2.06-.94-2.06-.94L8.5 2.5l-.94 2.06-2.06.94zm10 10l.94 2.06.94-2.06 2.06-.94-2.06-.94-.94-2.06-.94 2.06-2.06.94z\"/><path d=\"M17.41 7.96l-1.37-1.37c-.4-.4-.92-.59-1.43-.59-.52 0-1.04.2-1.43.59L10.3 9.45l-7.72 7.72c-.78.78-.78 2.05 0 2.83L4 21.41c.39.39.9.59 1.41.59.51 0 1.02-.2 1.41-.59l7.78-7.78 2.81-2.81c.8-.78.8-2.07 0-2.86zM5.41 20L4 18.59l7.72-7.72 1.47 1.35L5.41 20z\"/>\n",
              "  </svg>\n",
              "      </button>\n",
              "      \n",
              "  <style>\n",
              "    .colab-df-container {\n",
              "      display:flex;\n",
              "      flex-wrap:wrap;\n",
              "      gap: 12px;\n",
              "    }\n",
              "\n",
              "    .colab-df-convert {\n",
              "      background-color: #E8F0FE;\n",
              "      border: none;\n",
              "      border-radius: 50%;\n",
              "      cursor: pointer;\n",
              "      display: none;\n",
              "      fill: #1967D2;\n",
              "      height: 32px;\n",
              "      padding: 0 0 0 0;\n",
              "      width: 32px;\n",
              "    }\n",
              "\n",
              "    .colab-df-convert:hover {\n",
              "      background-color: #E2EBFA;\n",
              "      box-shadow: 0px 1px 2px rgba(60, 64, 67, 0.3), 0px 1px 3px 1px rgba(60, 64, 67, 0.15);\n",
              "      fill: #174EA6;\n",
              "    }\n",
              "\n",
              "    [theme=dark] .colab-df-convert {\n",
              "      background-color: #3B4455;\n",
              "      fill: #D2E3FC;\n",
              "    }\n",
              "\n",
              "    [theme=dark] .colab-df-convert:hover {\n",
              "      background-color: #434B5C;\n",
              "      box-shadow: 0px 1px 3px 1px rgba(0, 0, 0, 0.15);\n",
              "      filter: drop-shadow(0px 1px 2px rgba(0, 0, 0, 0.3));\n",
              "      fill: #FFFFFF;\n",
              "    }\n",
              "  </style>\n",
              "\n",
              "      <script>\n",
              "        const buttonEl =\n",
              "          document.querySelector('#df-08a650bc-604c-4b49-9c36-93617458c6de button.colab-df-convert');\n",
              "        buttonEl.style.display =\n",
              "          google.colab.kernel.accessAllowed ? 'block' : 'none';\n",
              "\n",
              "        async function convertToInteractive(key) {\n",
              "          const element = document.querySelector('#df-08a650bc-604c-4b49-9c36-93617458c6de');\n",
              "          const dataTable =\n",
              "            await google.colab.kernel.invokeFunction('convertToInteractive',\n",
              "                                                     [key], {});\n",
              "          if (!dataTable) return;\n",
              "\n",
              "          const docLinkHtml = 'Like what you see? Visit the ' +\n",
              "            '<a target=\"_blank\" href=https://colab.research.google.com/notebooks/data_table.ipynb>data table notebook</a>'\n",
              "            + ' to learn more about interactive tables.';\n",
              "          element.innerHTML = '';\n",
              "          dataTable['output_type'] = 'display_data';\n",
              "          await google.colab.output.renderOutput(dataTable, element);\n",
              "          const docLink = document.createElement('div');\n",
              "          docLink.innerHTML = docLinkHtml;\n",
              "          element.appendChild(docLink);\n",
              "        }\n",
              "      </script>\n",
              "    </div>\n",
              "  </div>\n",
              "  "
            ]
          },
          "metadata": {},
          "execution_count": 9
        }
      ]
    },
    {
      "cell_type": "markdown",
      "metadata": {
        "id": "iUHt63AVO1X_"
      },
      "source": [
        "Visualizing each material"
      ]
    },
    {
      "cell_type": "code",
      "metadata": {
        "colab": {
          "base_uri": "https://localhost:8080/",
          "height": 267
        },
        "id": "28ywNNj_WRml",
        "outputId": "4d0b9400-e6b4-4573-b16d-06b1337f8bb1"
      },
      "source": [
        "boxplot = df.boxplot(column=' C')\n"
      ],
      "execution_count": null,
      "outputs": [
        {
          "output_type": "display_data",
          "data": {
            "text/plain": [
              "<Figure size 432x288 with 1 Axes>"
            ],
            "image/png": "[encoded data removed]"
          },
          "metadata": {
            "needs_background": "light"
          }
        }
      ]
    },
    {
      "cell_type": "code",
      "metadata": {
        "id": "PxvSq8zqddHe"
      },
      "source": [],
      "execution_count": null,
      "outputs": []
    },
    {
      "cell_type": "code",
      "metadata": {
        "colab": {
          "base_uri": "https://localhost:8080/",
          "height": 265
        },
        "id": "zc0SsKgyQjwA",
        "outputId": "be87db26-d5b1-4a9f-834c-4cd4dacc3e67"
      },
      "source": [
        "# plotting Si variable\n",
        "boxplot = df.boxplot(column=[' Si'])"
      ],
      "execution_count": null,
      "outputs": [
        {
          "output_type": "display_data",
          "data": {
            "text/plain": [
              "<Figure size 432x288 with 1 Axes>"
            ],
            "image/png": "[encoded data removed]"
          },
          "metadata": {
            "needs_background": "light"
          }
        }
      ]
    },
    {
      "cell_type": "code",
      "metadata": {
        "colab": {
          "base_uri": "https://localhost:8080/",
          "height": 265
        },
        "id": "APyEw0HvDN7q",
        "outputId": "75b4a388-396b-4f68-dc3b-a6c175ed88ac"
      },
      "source": [
        "# plotting Mn variable\n",
        "boxplot = df.boxplot(column=[' Mn'])"
      ],
      "execution_count": null,
      "outputs": [
        {
          "output_type": "display_data",
          "data": {
            "text/plain": [
              "<Figure size 432x288 with 1 Axes>"
            ],
            "image/png": "[encoded data removed]"
          },
          "metadata": {
            "needs_background": "light"
          }
        }
      ]
    },
    {
      "cell_type": "code",
      "metadata": {
        "colab": {
          "base_uri": "https://localhost:8080/",
          "height": 265
        },
        "id": "Aw04iAxXQtEH",
        "outputId": "7a436b18-b8dd-4f1c-e736-55903689b9a7"
      },
      "source": [
        "# plotting S variable in descending order\n",
        "boxplot = df.boxplot(column=[' S'])"
      ],
      "execution_count": null,
      "outputs": [
        {
          "output_type": "display_data",
          "data": {
            "text/plain": [
              "<Figure size 432x288 with 1 Axes>"
            ],
            "image/png": "[encoded data removed]"
          },
          "metadata": {
            "needs_background": "light"
          }
        }
      ]
    },
    {
      "cell_type": "code",
      "metadata": {
        "id": "5yRtZNpnLL3Y",
        "colab": {
          "base_uri": "https://localhost:8080/"
        },
        "outputId": "7c252b22-255e-4210-9411-7444370413bd"
      },
      "source": [
        "# calculating skewness of Cu variable\n",
        "cu_skewness = df[' S'].skew()\n",
        "cu_skewness"
      ],
      "execution_count": null,
      "outputs": [
        {
          "output_type": "execute_result",
          "data": {
            "text/plain": [
              "0.6234706257663276"
            ]
          },
          "metadata": {},
          "execution_count": 14
        }
      ]
    },
    {
      "cell_type": "code",
      "metadata": {
        "colab": {
          "base_uri": "https://localhost:8080/",
          "height": 265
        },
        "id": "R7w6DYvJLLym",
        "outputId": "6d12fa20-bcdd-482b-9c49-5e7005f40667"
      },
      "source": [
        "# plotting P variable in descending order\n",
        "boxplot = df.boxplot(column=[' P'])"
      ],
      "execution_count": null,
      "outputs": [
        {
          "output_type": "display_data",
          "data": {
            "text/plain": [
              "<Figure size 432x288 with 1 Axes>"
            ],
            "image/png": "[encoded data removed]"
          },
          "metadata": {
            "needs_background": "light"
          }
        }
      ]
    },
    {
      "cell_type": "code",
      "metadata": {
        "colab": {
          "base_uri": "https://localhost:8080/",
          "height": 265
        },
        "id": "gFBDFiDpLLwd",
        "outputId": "9aa125ad-820f-44b9-bf05-f4808a43290a"
      },
      "source": [
        "# plotting Ni variable\n",
        "boxplot = df.boxplot(column=[' Ni'])"
      ],
      "execution_count": null,
      "outputs": [
        {
          "output_type": "display_data",
          "data": {
            "text/plain": [
              "<Figure size 432x288 with 1 Axes>"
            ],
            "image/png": "[encoded data removed]"
          },
          "metadata": {
            "needs_background": "light"
          }
        }
      ]
    },
    {
      "cell_type": "code",
      "metadata": {
        "colab": {
          "base_uri": "https://localhost:8080/",
          "height": 282
        },
        "id": "ArJVC25oLLt9",
        "outputId": "d1a7edf4-2d23-4ad8-85af-b9c3f9d2ecaf"
      },
      "source": [
        "# plotting non-zero Ni variable\n",
        "df_Ni = df[\"index\" and \" Ni\"]\n",
        "df_Ni_nonzero = df_Ni[df_Ni != 0]\n",
        "df_Ni_nonzero.to_frame().boxplot(column=[\" Ni\"])"
      ],
      "execution_count": null,
      "outputs": [
        {
          "output_type": "execute_result",
          "data": {
            "text/plain": [
              "<matplotlib.axes._subplots.AxesSubplot at 0x7f3cc52131d0>"
            ]
          },
          "metadata": {},
          "execution_count": 17
        },
        {
          "output_type": "display_data",
          "data": {
            "text/plain": [
              "<Figure size 432x288 with 1 Axes>"
            ],
            "image/png": "[encoded data removed]"
          },
          "metadata": {
            "needs_background": "light"
          }
        }
      ]
    },
    {
      "cell_type": "code",
      "metadata": {
        "colab": {
          "base_uri": "https://localhost:8080/",
          "height": 265
        },
        "id": "N9XxlmA3LLrf",
        "outputId": "8cfb51d5-158c-42c4-f34c-db4c751ff072"
      },
      "source": [
        "# plotting Cr variable\n",
        "boxplot = df.boxplot(column=[' Cr'])"
      ],
      "execution_count": null,
      "outputs": [
        {
          "output_type": "display_data",
          "data": {
            "text/plain": [
              "<Figure size 432x288 with 1 Axes>"
            ],
            "image/png": "[encoded data removed]"
          },
          "metadata": {
            "needs_background": "light"
          }
        }
      ]
    },
    {
      "cell_type": "code",
      "metadata": {
        "colab": {
          "base_uri": "https://localhost:8080/",
          "height": 267
        },
        "id": "XV01shi6LLox",
        "outputId": "ebad374c-8c5e-43b0-ff94-fa9b99b35833"
      },
      "source": [
        "# plotting Mo variable\n",
        "boxplot = df.boxplot(column=[' Mo'])"
      ],
      "execution_count": null,
      "outputs": [
        {
          "output_type": "display_data",
          "data": {
            "text/plain": [
              "<Figure size 432x288 with 1 Axes>"
            ],
            "image/png": "[encoded data removed]"
          },
          "metadata": {
            "needs_background": "light"
          }
        }
      ]
    },
    {
      "cell_type": "code",
      "metadata": {
        "colab": {
          "base_uri": "https://localhost:8080/",
          "height": 265
        },
        "id": "RSTOQDqGLLnB",
        "outputId": "1257ce5b-7bdc-4da3-856a-0e952495f87e"
      },
      "source": [
        "# plotting Cu variable\n",
        "boxplot = df.boxplot(column=[' Cu'])"
      ],
      "execution_count": null,
      "outputs": [
        {
          "output_type": "display_data",
          "data": {
            "text/plain": [
              "<Figure size 432x288 with 1 Axes>"
            ],
            "image/png": "[encoded data removed]"
          },
          "metadata": {
            "needs_background": "light"
          }
        }
      ]
    },
    {
      "cell_type": "code",
      "metadata": {
        "colab": {
          "base_uri": "https://localhost:8080/"
        },
        "id": "BvBkKZ3sLLk_",
        "outputId": "c81c231c-a070-4477-ceb4-838074528bb4"
      },
      "source": [
        "# calculating skewness of Cu variable\n",
        "cu_skewness = df[' Cu'].skew()\n",
        "cu_skewness"
      ],
      "execution_count": null,
      "outputs": [
        {
          "output_type": "execute_result",
          "data": {
            "text/plain": [
              "1.1991328994053938"
            ]
          },
          "metadata": {},
          "execution_count": 21
        }
      ]
    },
    {
      "cell_type": "code",
      "metadata": {
        "colab": {
          "base_uri": "https://localhost:8080/"
        },
        "id": "17DL-St6LLhl",
        "outputId": "4165a7ec-03e5-4cdc-9934-389051ff9826"
      },
      "source": [
        "# trying log transformation to improve the skewness\n",
        "log_cu_skewness = np.log(df[' Cu']).skew()\n",
        "log_cu_skewness"
      ],
      "execution_count": null,
      "outputs": [
        {
          "output_type": "stream",
          "name": "stderr",
          "text": [
            "/usr/local/lib/python3.7/dist-packages/pandas/core/arraylike.py:364: RuntimeWarning: divide by zero encountered in log\n",
            "  result = getattr(ufunc, method)(*inputs, **kwargs)\n"
          ]
        },
        {
          "output_type": "execute_result",
          "data": {
            "text/plain": [
              "nan"
            ]
          },
          "metadata": {},
          "execution_count": 22
        }
      ]
    },
    {
      "cell_type": "code",
      "metadata": {
        "colab": {
          "base_uri": "https://localhost:8080/"
        },
        "id": "PSEUUg83LLfU",
        "outputId": "e59a99b9-dbab-4432-f5ef-a03a22941dcb"
      },
      "source": [
        "# trying root square transformation to improve the skewness\n",
        "sqrt_cu_skewness = np.sqrt(df[' Cu']).skew()\n",
        "sqrt_cu_skewness"
      ],
      "execution_count": null,
      "outputs": [
        {
          "output_type": "execute_result",
          "data": {
            "text/plain": [
              "0.1667967076334541"
            ]
          },
          "metadata": {},
          "execution_count": 23
        }
      ]
    },
    {
      "cell_type": "code",
      "metadata": {
        "id": "xOrWG6DoLLdR"
      },
      "source": [
        "# creating sqrt(Cu) column\n",
        "df['sqrt(Cu)'] = np.sqrt(df[' Cu'])"
      ],
      "execution_count": null,
      "outputs": []
    },
    {
      "cell_type": "code",
      "metadata": {
        "colab": {
          "base_uri": "https://localhost:8080/",
          "height": 265
        },
        "id": "BrAX5Zj-LLbJ",
        "outputId": "b724c7c6-d31b-4da4-8578-60656d188cb1"
      },
      "source": [
        "# plotting sqrt(Cu) variable\n",
        "boxplot = df.boxplot(column=['sqrt(Cu)'])"
      ],
      "execution_count": null,
      "outputs": [
        {
          "output_type": "display_data",
          "data": {
            "text/plain": [
              "<Figure size 432x288 with 1 Axes>"
            ],
            "image/png": "[encoded data removed]"
          },
          "metadata": {
            "needs_background": "light"
          }
        }
      ]
    },
    {
      "cell_type": "code",
      "metadata": {
        "colab": {
          "base_uri": "https://localhost:8080/",
          "height": 267
        },
        "id": "WrdnbcRKLLYK",
        "outputId": "5c92250a-08da-4fc3-ccbe-93c356778ad7"
      },
      "source": [
        "# removing Cu column\n",
        "df.drop([' Cu'], axis=1, inplace=True)\n",
        "df.head()"
      ],
      "execution_count": null,
      "outputs": [
        {
          "output_type": "execute_result",
          "data": {
            "text/plain": [
              "      C    Si    Mn      P      S     Ni    Cr    Mo    V     Al       N  Ceq  \\\n",
              "0  0.12  0.36  0.52  0.009  0.003  0.089  0.97  0.61  0.0  0.003  0.0066  0.0   \n",
              "1  0.12  0.36  0.52  0.009  0.003  0.089  0.97  0.61  0.0  0.003  0.0066  0.0   \n",
              "2  0.12  0.36  0.52  0.009  0.003  0.089  0.97  0.61  0.0  0.003  0.0066  0.0   \n",
              "3  0.12  0.36  0.52  0.009  0.003  0.089  0.97  0.61  0.0  0.003  0.0066  0.0   \n",
              "4  0.12  0.36  0.52  0.009  0.003  0.089  0.97  0.61  0.0  0.003  0.0066  0.0   \n",
              "\n",
              "   Nb + Ta   Temperature (°C)   0.2% Proof Stress (MPa)  \\\n",
              "0      0.0                 27                       342   \n",
              "1      0.0                100                       338   \n",
              "2      0.0                200                       337   \n",
              "3      0.0                300                       346   \n",
              "4      0.0                400                       316   \n",
              "\n",
              "    Tensile Strength (MPa)   Elongation (%)   Reduction in Area (%)  sqrt(Cu)  \n",
              "0                      490               30                      71       0.2  \n",
              "1                      454               27                      72       0.2  \n",
              "2                      465               23                      69       0.2  \n",
              "3                      495               21                      70       0.2  \n",
              "4                      489               26                      79       0.2  "
            ],
            "text/html": [
              "\n",
              "  <div id=\"df-3770e565-c4b3-4b57-856d-6ae6fb2a0372\">\n",
              "    <div class=\"colab-df-container\">\n",
              "      <div>\n",
              "<style scoped>\n",
              "    .dataframe tbody tr th:only-of-type {\n",
              "        vertical-align: middle;\n",
              "    }\n",
              "\n",
              "    .dataframe tbody tr th {\n",
              "        vertical-align: top;\n",
              "    }\n",
              "\n",
              "    .dataframe thead th {\n",
              "        text-align: right;\n",
              "    }\n",
              "</style>\n",
              "<table border=\"1\" class=\"dataframe\">\n",
              "  <thead>\n",
              "    <tr style=\"text-align: right;\">\n",
              "      <th></th>\n",
              "      <th>C</th>\n",
              "      <th>Si</th>\n",
              "      <th>Mn</th>\n",
              "      <th>P</th>\n",
              "      <th>S</th>\n",
              "      <th>Ni</th>\n",
              "      <th>Cr</th>\n",
              "      <th>Mo</th>\n",
              "      <th>V</th>\n",
              "      <th>Al</th>\n",
              "      <th>N</th>\n",
              "      <th>Ceq</th>\n",
              "      <th>Nb + Ta</th>\n",
              "      <th>Temperature (°C)</th>\n",
              "      <th>0.2% Proof Stress (MPa)</th>\n",
              "      <th>Tensile Strength (MPa)</th>\n",
              "      <th>Elongation (%)</th>\n",
              "      <th>Reduction in Area (%)</th>\n",
              "      <th>sqrt(Cu)</th>\n",
              "    </tr>\n",
              "  </thead>\n",
              "  <tbody>\n",
              "    <tr>\n",
              "      <th>0</th>\n",
              "      <td>0.12</td>\n",
              "      <td>0.36</td>\n",
              "      <td>0.52</td>\n",
              "      <td>0.009</td>\n",
              "      <td>0.003</td>\n",
              "      <td>0.089</td>\n",
              "      <td>0.97</td>\n",
              "      <td>0.61</td>\n",
              "      <td>0.0</td>\n",
              "      <td>0.003</td>\n",
              "      <td>0.0066</td>\n",
              "      <td>0.0</td>\n",
              "      <td>0.0</td>\n",
              "      <td>27</td>\n",
              "      <td>342</td>\n",
              "      <td>490</td>\n",
              "      <td>30</td>\n",
              "      <td>71</td>\n",
              "      <td>0.2</td>\n",
              "    </tr>\n",
              "    <tr>\n",
              "      <th>1</th>\n",
              "      <td>0.12</td>\n",
              "      <td>0.36</td>\n",
              "      <td>0.52</td>\n",
              "      <td>0.009</td>\n",
              "      <td>0.003</td>\n",
              "      <td>0.089</td>\n",
              "      <td>0.97</td>\n",
              "      <td>0.61</td>\n",
              "      <td>0.0</td>\n",
              "      <td>0.003</td>\n",
              "      <td>0.0066</td>\n",
              "      <td>0.0</td>\n",
              "      <td>0.0</td>\n",
              "      <td>100</td>\n",
              "      <td>338</td>\n",
              "      <td>454</td>\n",
              "      <td>27</td>\n",
              "      <td>72</td>\n",
              "      <td>0.2</td>\n",
              "    </tr>\n",
              "    <tr>\n",
              "      <th>2</th>\n",
              "      <td>0.12</td>\n",
              "      <td>0.36</td>\n",
              "      <td>0.52</td>\n",
              "      <td>0.009</td>\n",
              "      <td>0.003</td>\n",
              "      <td>0.089</td>\n",
              "      <td>0.97</td>\n",
              "      <td>0.61</td>\n",
              "      <td>0.0</td>\n",
              "      <td>0.003</td>\n",
              "      <td>0.0066</td>\n",
              "      <td>0.0</td>\n",
              "      <td>0.0</td>\n",
              "      <td>200</td>\n",
              "      <td>337</td>\n",
              "      <td>465</td>\n",
              "      <td>23</td>\n",
              "      <td>69</td>\n",
              "      <td>0.2</td>\n",
              "    </tr>\n",
              "    <tr>\n",
              "      <th>3</th>\n",
              "      <td>0.12</td>\n",
              "      <td>0.36</td>\n",
              "      <td>0.52</td>\n",
              "      <td>0.009</td>\n",
              "      <td>0.003</td>\n",
              "      <td>0.089</td>\n",
              "      <td>0.97</td>\n",
              "      <td>0.61</td>\n",
              "      <td>0.0</td>\n",
              "      <td>0.003</td>\n",
              "      <td>0.0066</td>\n",
              "      <td>0.0</td>\n",
              "      <td>0.0</td>\n",
              "      <td>300</td>\n",
              "      <td>346</td>\n",
              "      <td>495</td>\n",
              "      <td>21</td>\n",
              "      <td>70</td>\n",
              "      <td>0.2</td>\n",
              "    </tr>\n",
              "    <tr>\n",
              "      <th>4</th>\n",
              "      <td>0.12</td>\n",
              "      <td>0.36</td>\n",
              "      <td>0.52</td>\n",
              "      <td>0.009</td>\n",
              "      <td>0.003</td>\n",
              "      <td>0.089</td>\n",
              "      <td>0.97</td>\n",
              "      <td>0.61</td>\n",
              "      <td>0.0</td>\n",
              "      <td>0.003</td>\n",
              "      <td>0.0066</td>\n",
              "      <td>0.0</td>\n",
              "      <td>0.0</td>\n",
              "      <td>400</td>\n",
              "      <td>316</td>\n",
              "      <td>489</td>\n",
              "      <td>26</td>\n",
              "      <td>79</td>\n",
              "      <td>0.2</td>\n",
              "    </tr>\n",
              "  </tbody>\n",
              "</table>\n",
              "</div>\n",
              "      <button class=\"colab-df-convert\" onclick=\"convertToInteractive('df-3770e565-c4b3-4b57-856d-6ae6fb2a0372')\"\n",
              "              title=\"Convert this dataframe to an interactive table.\"\n",
              "              style=\"display:none;\">\n",
              "        \n",
              "  <svg xmlns=\"http://www.w3.org/2000/svg\" height=\"24px\"viewBox=\"0 0 24 24\"\n",
              "       width=\"24px\">\n",
              "    <path d=\"M0 0h24v24H0V0z\" fill=\"none\"/>\n",
              "    <path d=\"M18.56 5.44l.94 2.06.94-2.06 2.06-.94-2.06-.94-.94-2.06-.94 2.06-2.06.94zm-11 1L8.5 8.5l.94-2.06 2.06-.94-2.06-.94L8.5 2.5l-.94 2.06-2.06.94zm10 10l.94 2.06.94-2.06 2.06-.94-2.06-.94-.94-2.06-.94 2.06-2.06.94z\"/><path d=\"M17.41 7.96l-1.37-1.37c-.4-.4-.92-.59-1.43-.59-.52 0-1.04.2-1.43.59L10.3 9.45l-7.72 7.72c-.78.78-.78 2.05 0 2.83L4 21.41c.39.39.9.59 1.41.59.51 0 1.02-.2 1.41-.59l7.78-7.78 2.81-2.81c.8-.78.8-2.07 0-2.86zM5.41 20L4 18.59l7.72-7.72 1.47 1.35L5.41 20z\"/>\n",
              "  </svg>\n",
              "      </button>\n",
              "      \n",
              "  <style>\n",
              "    .colab-df-container {\n",
              "      display:flex;\n",
              "      flex-wrap:wrap;\n",
              "      gap: 12px;\n",
              "    }\n",
              "\n",
              "    .colab-df-convert {\n",
              "      background-color: #E8F0FE;\n",
              "      border: none;\n",
              "      border-radius: 50%;\n",
              "      cursor: pointer;\n",
              "      display: none;\n",
              "      fill: #1967D2;\n",
              "      height: 32px;\n",
              "      padding: 0 0 0 0;\n",
              "      width: 32px;\n",
              "    }\n",
              "\n",
              "    .colab-df-convert:hover {\n",
              "      background-color: #E2EBFA;\n",
              "      box-shadow: 0px 1px 2px rgba(60, 64, 67, 0.3), 0px 1px 3px 1px rgba(60, 64, 67, 0.15);\n",
              "      fill: #174EA6;\n",
              "    }\n",
              "\n",
              "    [theme=dark] .colab-df-convert {\n",
              "      background-color: #3B4455;\n",
              "      fill: #D2E3FC;\n",
              "    }\n",
              "\n",
              "    [theme=dark] .colab-df-convert:hover {\n",
              "      background-color: #434B5C;\n",
              "      box-shadow: 0px 1px 3px 1px rgba(0, 0, 0, 0.15);\n",
              "      filter: drop-shadow(0px 1px 2px rgba(0, 0, 0, 0.3));\n",
              "      fill: #FFFFFF;\n",
              "    }\n",
              "  </style>\n",
              "\n",
              "      <script>\n",
              "        const buttonEl =\n",
              "          document.querySelector('#df-3770e565-c4b3-4b57-856d-6ae6fb2a0372 button.colab-df-convert');\n",
              "        buttonEl.style.display =\n",
              "          google.colab.kernel.accessAllowed ? 'block' : 'none';\n",
              "\n",
              "        async function convertToInteractive(key) {\n",
              "          const element = document.querySelector('#df-3770e565-c4b3-4b57-856d-6ae6fb2a0372');\n",
              "          const dataTable =\n",
              "            await google.colab.kernel.invokeFunction('convertToInteractive',\n",
              "                                                     [key], {});\n",
              "          if (!dataTable) return;\n",
              "\n",
              "          const docLinkHtml = 'Like what you see? Visit the ' +\n",
              "            '<a target=\"_blank\" href=https://colab.research.google.com/notebooks/data_table.ipynb>data table notebook</a>'\n",
              "            + ' to learn more about interactive tables.';\n",
              "          element.innerHTML = '';\n",
              "          dataTable['output_type'] = 'display_data';\n",
              "          await google.colab.output.renderOutput(dataTable, element);\n",
              "          const docLink = document.createElement('div');\n",
              "          docLink.innerHTML = docLinkHtml;\n",
              "          element.appendChild(docLink);\n",
              "        }\n",
              "      </script>\n",
              "    </div>\n",
              "  </div>\n",
              "  "
            ]
          },
          "metadata": {},
          "execution_count": 26
        }
      ]
    },
    {
      "cell_type": "code",
      "metadata": {
        "colab": {
          "base_uri": "https://localhost:8080/",
          "height": 265
        },
        "id": "mZ49ziRQLLVx",
        "outputId": "9f3322d2-ac6b-451b-9969-6195cadf287f"
      },
      "source": [
        "# plotting V variable\n",
        "boxplot = df.boxplot(column=['V'])"
      ],
      "execution_count": null,
      "outputs": [
        {
          "output_type": "display_data",
          "data": {
            "text/plain": [
              "<Figure size 432x288 with 1 Axes>"
            ],
            "image/png": "[encoded data removed]"
          },
          "metadata": {
            "needs_background": "light"
          }
        }
      ]
    },
    {
      "cell_type": "code",
      "metadata": {
        "colab": {
          "base_uri": "https://localhost:8080/",
          "height": 282
        },
        "id": "aECExmwPLLTm",
        "outputId": "3debcbf5-78c4-4e0e-8c10-e381340d0adb"
      },
      "source": [
        "# plotting non-zero V variable\n",
        "df_V = df[\"index\" and \"V\"]\n",
        "df_V_nonzero = df_V[df_V != 0]\n",
        "df_V_nonzero.to_frame().boxplot(column=[\"V\"])"
      ],
      "execution_count": null,
      "outputs": [
        {
          "output_type": "execute_result",
          "data": {
            "text/plain": [
              "<matplotlib.axes._subplots.AxesSubplot at 0x7f3cc50e5650>"
            ]
          },
          "metadata": {},
          "execution_count": 28
        },
        {
          "output_type": "display_data",
          "data": {
            "text/plain": [
              "<Figure size 432x288 with 1 Axes>"
            ],
            "image/png": "[encoded data removed]"
          },
          "metadata": {
            "needs_background": "light"
          }
        }
      ]
    },
    {
      "cell_type": "code",
      "metadata": {
        "colab": {
          "base_uri": "https://localhost:8080/",
          "height": 265
        },
        "id": "WovfEV5lLLQ_",
        "outputId": "76abbeb3-3ce7-459f-c719-07579912ac2f"
      },
      "source": [
        "# plotting Al variable\n",
        "boxplot = df.boxplot(column=[' Al'])"
      ],
      "execution_count": null,
      "outputs": [
        {
          "output_type": "display_data",
          "data": {
            "text/plain": [
              "<Figure size 432x288 with 1 Axes>"
            ],
            "image/png": "[encoded data removed]"
          },
          "metadata": {
            "needs_background": "light"
          }
        }
      ]
    },
    {
      "cell_type": "code",
      "metadata": {
        "colab": {
          "base_uri": "https://localhost:8080/"
        },
        "id": "1c5uzBkELLPH",
        "outputId": "371e23c4-f896-4b18-b5fc-d420004f4bd9"
      },
      "source": [
        "# calculating skewness of Al variable\n",
        "al_skewness = df[' Al'].skew()\n",
        "al_skewness"
      ],
      "execution_count": null,
      "outputs": [
        {
          "output_type": "execute_result",
          "data": {
            "text/plain": [
              "1.4308627801328626"
            ]
          },
          "metadata": {},
          "execution_count": 30
        }
      ]
    },
    {
      "cell_type": "code",
      "metadata": {
        "colab": {
          "base_uri": "https://localhost:8080/"
        },
        "id": "Amb6OM4bLLK-",
        "outputId": "6ed322d3-d14f-4e88-f365-fd1a7a57febf"
      },
      "source": [
        "# trying log transformation to improve the skewness\n",
        "log_al_skewness = np.log(df[' Al']).skew()\n",
        "log_al_skewness"
      ],
      "execution_count": null,
      "outputs": [
        {
          "output_type": "execute_result",
          "data": {
            "text/plain": [
              "0.5315337198412445"
            ]
          },
          "metadata": {},
          "execution_count": 31
        }
      ]
    },
    {
      "cell_type": "code",
      "metadata": {
        "colab": {
          "base_uri": "https://localhost:8080/"
        },
        "id": "N-csBlenLLA1",
        "outputId": "ae6644a4-b0e3-40cf-9a66-51b6e285c518"
      },
      "source": [
        "# trying root square transformation to improve the skewness\n",
        "sqrt_al_skewness = np.sqrt(df[' Al']).skew()\n",
        "sqrt_al_skewness"
      ],
      "execution_count": null,
      "outputs": [
        {
          "output_type": "execute_result",
          "data": {
            "text/plain": [
              "1.0485828955067669"
            ]
          },
          "metadata": {},
          "execution_count": 32
        }
      ]
    },
    {
      "cell_type": "code",
      "metadata": {
        "id": "cBnTCUPVLKsv"
      },
      "source": [
        "# creating log(Al) column\n",
        "df['log(Al)'] = np.log(df[' Al'])"
      ],
      "execution_count": null,
      "outputs": []
    },
    {
      "cell_type": "code",
      "metadata": {
        "colab": {
          "base_uri": "https://localhost:8080/",
          "height": 265
        },
        "id": "-7kL-PW6ThBz",
        "outputId": "a13962bd-cf1d-46f0-80fe-fea0c0f83fe4"
      },
      "source": [
        "# plotting log(Al) variable\n",
        "boxplot = df.boxplot(column=['log(Al)'])"
      ],
      "execution_count": null,
      "outputs": [
        {
          "output_type": "display_data",
          "data": {
            "text/plain": [
              "<Figure size 432x288 with 1 Axes>"
            ],
            "image/png": "[encoded data removed]"
          },
          "metadata": {
            "needs_background": "light"
          }
        }
      ]
    },
    {
      "cell_type": "code",
      "metadata": {
        "id": "SLDFI768b3-U"
      },
      "source": [],
      "execution_count": null,
      "outputs": []
    },
    {
      "cell_type": "code",
      "metadata": {
        "colab": {
          "base_uri": "https://localhost:8080/",
          "height": 267
        },
        "id": "pMjvci0FTg_u",
        "outputId": "5dcbeaa8-5fc6-4469-e8ed-3c2a40d5da0b"
      },
      "source": [
        "# removing Al column\n",
        "df.drop([' Al'], axis=1, inplace=True)\n",
        "df.head()"
      ],
      "execution_count": null,
      "outputs": [
        {
          "output_type": "execute_result",
          "data": {
            "text/plain": [
              "      C    Si    Mn      P      S     Ni    Cr    Mo    V       N  Ceq  \\\n",
              "0  0.12  0.36  0.52  0.009  0.003  0.089  0.97  0.61  0.0  0.0066  0.0   \n",
              "1  0.12  0.36  0.52  0.009  0.003  0.089  0.97  0.61  0.0  0.0066  0.0   \n",
              "2  0.12  0.36  0.52  0.009  0.003  0.089  0.97  0.61  0.0  0.0066  0.0   \n",
              "3  0.12  0.36  0.52  0.009  0.003  0.089  0.97  0.61  0.0  0.0066  0.0   \n",
              "4  0.12  0.36  0.52  0.009  0.003  0.089  0.97  0.61  0.0  0.0066  0.0   \n",
              "\n",
              "   Nb + Ta   Temperature (°C)   0.2% Proof Stress (MPa)  \\\n",
              "0      0.0                 27                       342   \n",
              "1      0.0                100                       338   \n",
              "2      0.0                200                       337   \n",
              "3      0.0                300                       346   \n",
              "4      0.0                400                       316   \n",
              "\n",
              "    Tensile Strength (MPa)   Elongation (%)   Reduction in Area (%)  sqrt(Cu)  \\\n",
              "0                      490               30                      71       0.2   \n",
              "1                      454               27                      72       0.2   \n",
              "2                      465               23                      69       0.2   \n",
              "3                      495               21                      70       0.2   \n",
              "4                      489               26                      79       0.2   \n",
              "\n",
              "    log(Al)  \n",
              "0 -5.809143  \n",
              "1 -5.809143  \n",
              "2 -5.809143  \n",
              "3 -5.809143  \n",
              "4 -5.809143  "
            ],
            "text/html": [
              "\n",
              "  <div id=\"df-fa14afaf-9fd1-4772-8163-b4eaa170318e\">\n",
              "    <div class=\"colab-df-container\">\n",
              "      <div>\n",
              "<style scoped>\n",
              "    .dataframe tbody tr th:only-of-type {\n",
              "        vertical-align: middle;\n",
              "    }\n",
              "\n",
              "    .dataframe tbody tr th {\n",
              "        vertical-align: top;\n",
              "    }\n",
              "\n",
              "    .dataframe thead th {\n",
              "        text-align: right;\n",
              "    }\n",
              "</style>\n",
              "<table border=\"1\" class=\"dataframe\">\n",
              "  <thead>\n",
              "    <tr style=\"text-align: right;\">\n",
              "      <th></th>\n",
              "      <th>C</th>\n",
              "      <th>Si</th>\n",
              "      <th>Mn</th>\n",
              "      <th>P</th>\n",
              "      <th>S</th>\n",
              "      <th>Ni</th>\n",
              "      <th>Cr</th>\n",
              "      <th>Mo</th>\n",
              "      <th>V</th>\n",
              "      <th>N</th>\n",
              "      <th>Ceq</th>\n",
              "      <th>Nb + Ta</th>\n",
              "      <th>Temperature (°C)</th>\n",
              "      <th>0.2% Proof Stress (MPa)</th>\n",
              "      <th>Tensile Strength (MPa)</th>\n",
              "      <th>Elongation (%)</th>\n",
              "      <th>Reduction in Area (%)</th>\n",
              "      <th>sqrt(Cu)</th>\n",
              "      <th>log(Al)</th>\n",
              "    </tr>\n",
              "  </thead>\n",
              "  <tbody>\n",
              "    <tr>\n",
              "      <th>0</th>\n",
              "      <td>0.12</td>\n",
              "      <td>0.36</td>\n",
              "      <td>0.52</td>\n",
              "      <td>0.009</td>\n",
              "      <td>0.003</td>\n",
              "      <td>0.089</td>\n",
              "      <td>0.97</td>\n",
              "      <td>0.61</td>\n",
              "      <td>0.0</td>\n",
              "      <td>0.0066</td>\n",
              "      <td>0.0</td>\n",
              "      <td>0.0</td>\n",
              "      <td>27</td>\n",
              "      <td>342</td>\n",
              "      <td>490</td>\n",
              "      <td>30</td>\n",
              "      <td>71</td>\n",
              "      <td>0.2</td>\n",
              "      <td>-5.809143</td>\n",
              "    </tr>\n",
              "    <tr>\n",
              "      <th>1</th>\n",
              "      <td>0.12</td>\n",
              "      <td>0.36</td>\n",
              "      <td>0.52</td>\n",
              "      <td>0.009</td>\n",
              "      <td>0.003</td>\n",
              "      <td>0.089</td>\n",
              "      <td>0.97</td>\n",
              "      <td>0.61</td>\n",
              "      <td>0.0</td>\n",
              "      <td>0.0066</td>\n",
              "      <td>0.0</td>\n",
              "      <td>0.0</td>\n",
              "      <td>100</td>\n",
              "      <td>338</td>\n",
              "      <td>454</td>\n",
              "      <td>27</td>\n",
              "      <td>72</td>\n",
              "      <td>0.2</td>\n",
              "      <td>-5.809143</td>\n",
              "    </tr>\n",
              "    <tr>\n",
              "      <th>2</th>\n",
              "      <td>0.12</td>\n",
              "      <td>0.36</td>\n",
              "      <td>0.52</td>\n",
              "      <td>0.009</td>\n",
              "      <td>0.003</td>\n",
              "      <td>0.089</td>\n",
              "      <td>0.97</td>\n",
              "      <td>0.61</td>\n",
              "      <td>0.0</td>\n",
              "      <td>0.0066</td>\n",
              "      <td>0.0</td>\n",
              "      <td>0.0</td>\n",
              "      <td>200</td>\n",
              "      <td>337</td>\n",
              "      <td>465</td>\n",
              "      <td>23</td>\n",
              "      <td>69</td>\n",
              "      <td>0.2</td>\n",
              "      <td>-5.809143</td>\n",
              "    </tr>\n",
              "    <tr>\n",
              "      <th>3</th>\n",
              "      <td>0.12</td>\n",
              "      <td>0.36</td>\n",
              "      <td>0.52</td>\n",
              "      <td>0.009</td>\n",
              "      <td>0.003</td>\n",
              "      <td>0.089</td>\n",
              "      <td>0.97</td>\n",
              "      <td>0.61</td>\n",
              "      <td>0.0</td>\n",
              "      <td>0.0066</td>\n",
              "      <td>0.0</td>\n",
              "      <td>0.0</td>\n",
              "      <td>300</td>\n",
              "      <td>346</td>\n",
              "      <td>495</td>\n",
              "      <td>21</td>\n",
              "      <td>70</td>\n",
              "      <td>0.2</td>\n",
              "      <td>-5.809143</td>\n",
              "    </tr>\n",
              "    <tr>\n",
              "      <th>4</th>\n",
              "      <td>0.12</td>\n",
              "      <td>0.36</td>\n",
              "      <td>0.52</td>\n",
              "      <td>0.009</td>\n",
              "      <td>0.003</td>\n",
              "      <td>0.089</td>\n",
              "      <td>0.97</td>\n",
              "      <td>0.61</td>\n",
              "      <td>0.0</td>\n",
              "      <td>0.0066</td>\n",
              "      <td>0.0</td>\n",
              "      <td>0.0</td>\n",
              "      <td>400</td>\n",
              "      <td>316</td>\n",
              "      <td>489</td>\n",
              "      <td>26</td>\n",
              "      <td>79</td>\n",
              "      <td>0.2</td>\n",
              "      <td>-5.809143</td>\n",
              "    </tr>\n",
              "  </tbody>\n",
              "</table>\n",
              "</div>\n",
              "      <button class=\"colab-df-convert\" onclick=\"convertToInteractive('df-fa14afaf-9fd1-4772-8163-b4eaa170318e')\"\n",
              "              title=\"Convert this dataframe to an interactive table.\"\n",
              "              style=\"display:none;\">\n",
              "        \n",
              "  <svg xmlns=\"http://www.w3.org/2000/svg\" height=\"24px\"viewBox=\"0 0 24 24\"\n",
              "       width=\"24px\">\n",
              "    <path d=\"M0 0h24v24H0V0z\" fill=\"none\"/>\n",
              "    <path d=\"M18.56 5.44l.94 2.06.94-2.06 2.06-.94-2.06-.94-.94-2.06-.94 2.06-2.06.94zm-11 1L8.5 8.5l.94-2.06 2.06-.94-2.06-.94L8.5 2.5l-.94 2.06-2.06.94zm10 10l.94 2.06.94-2.06 2.06-.94-2.06-.94-.94-2.06-.94 2.06-2.06.94z\"/><path d=\"M17.41 7.96l-1.37-1.37c-.4-.4-.92-.59-1.43-.59-.52 0-1.04.2-1.43.59L10.3 9.45l-7.72 7.72c-.78.78-.78 2.05 0 2.83L4 21.41c.39.39.9.59 1.41.59.51 0 1.02-.2 1.41-.59l7.78-7.78 2.81-2.81c.8-.78.8-2.07 0-2.86zM5.41 20L4 18.59l7.72-7.72 1.47 1.35L5.41 20z\"/>\n",
              "  </svg>\n",
              "      </button>\n",
              "      \n",
              "  <style>\n",
              "    .colab-df-container {\n",
              "      display:flex;\n",
              "      flex-wrap:wrap;\n",
              "      gap: 12px;\n",
              "    }\n",
              "\n",
              "    .colab-df-convert {\n",
              "      background-color: #E8F0FE;\n",
              "      border: none;\n",
              "      border-radius: 50%;\n",
              "      cursor: pointer;\n",
              "      display: none;\n",
              "      fill: #1967D2;\n",
              "      height: 32px;\n",
              "      padding: 0 0 0 0;\n",
              "      width: 32px;\n",
              "    }\n",
              "\n",
              "    .colab-df-convert:hover {\n",
              "      background-color: #E2EBFA;\n",
              "      box-shadow: 0px 1px 2px rgba(60, 64, 67, 0.3), 0px 1px 3px 1px rgba(60, 64, 67, 0.15);\n",
              "      fill: #174EA6;\n",
              "    }\n",
              "\n",
              "    [theme=dark] .colab-df-convert {\n",
              "      background-color: #3B4455;\n",
              "      fill: #D2E3FC;\n",
              "    }\n",
              "\n",
              "    [theme=dark] .colab-df-convert:hover {\n",
              "      background-color: #434B5C;\n",
              "      box-shadow: 0px 1px 3px 1px rgba(0, 0, 0, 0.15);\n",
              "      filter: drop-shadow(0px 1px 2px rgba(0, 0, 0, 0.3));\n",
              "      fill: #FFFFFF;\n",
              "    }\n",
              "  </style>\n",
              "\n",
              "      <script>\n",
              "        const buttonEl =\n",
              "          document.querySelector('#df-fa14afaf-9fd1-4772-8163-b4eaa170318e button.colab-df-convert');\n",
              "        buttonEl.style.display =\n",
              "          google.colab.kernel.accessAllowed ? 'block' : 'none';\n",
              "\n",
              "        async function convertToInteractive(key) {\n",
              "          const element = document.querySelector('#df-fa14afaf-9fd1-4772-8163-b4eaa170318e');\n",
              "          const dataTable =\n",
              "            await google.colab.kernel.invokeFunction('convertToInteractive',\n",
              "                                                     [key], {});\n",
              "          if (!dataTable) return;\n",
              "\n",
              "          const docLinkHtml = 'Like what you see? Visit the ' +\n",
              "            '<a target=\"_blank\" href=https://colab.research.google.com/notebooks/data_table.ipynb>data table notebook</a>'\n",
              "            + ' to learn more about interactive tables.';\n",
              "          element.innerHTML = '';\n",
              "          dataTable['output_type'] = 'display_data';\n",
              "          await google.colab.output.renderOutput(dataTable, element);\n",
              "          const docLink = document.createElement('div');\n",
              "          docLink.innerHTML = docLinkHtml;\n",
              "          element.appendChild(docLink);\n",
              "        }\n",
              "      </script>\n",
              "    </div>\n",
              "  </div>\n",
              "  "
            ]
          },
          "metadata": {},
          "execution_count": 35
        }
      ]
    },
    {
      "cell_type": "code",
      "metadata": {
        "colab": {
          "base_uri": "https://localhost:8080/",
          "height": 265
        },
        "id": "VqAlR9VGTg6L",
        "outputId": "287fcd02-b468-4dad-e78e-c572405e4a8e"
      },
      "source": [
        "# plotting N variable\n",
        "boxplot = df.boxplot(column=[' N'])"
      ],
      "execution_count": null,
      "outputs": [
        {
          "output_type": "display_data",
          "data": {
            "text/plain": [
              "<Figure size 432x288 with 1 Axes>"
            ],
            "image/png": "[encoded data removed]"
          },
          "metadata": {
            "needs_background": "light"
          }
        }
      ]
    },
    {
      "cell_type": "code",
      "metadata": {
        "colab": {
          "base_uri": "https://localhost:8080/",
          "height": 265
        },
        "id": "JD7jupqMTg4L",
        "outputId": "fc2c3b26-fdd8-40f8-950f-241d32a1a3af"
      },
      "source": [
        "# plotting Ceq variable\n",
        "boxplot = df.boxplot(column=[\"Ceq\"])"
      ],
      "execution_count": null,
      "outputs": [
        {
          "output_type": "display_data",
          "data": {
            "text/plain": [
              "<Figure size 432x288 with 1 Axes>"
            ],
            "image/png": "[encoded data removed]"
          },
          "metadata": {
            "needs_background": "light"
          }
        }
      ]
    },
    {
      "cell_type": "code",
      "metadata": {
        "colab": {
          "base_uri": "https://localhost:8080/",
          "height": 282
        },
        "id": "kaauPGVSTg1z",
        "outputId": "bcaf32c7-4011-47bb-fe6b-6828a6c5d098"
      },
      "source": [
        "# plotting Ceq non-zero variable\n",
        "df_Ceq = df[\"index\" and \"Ceq\"]\n",
        "df_Ceq_nonzero = df_Ceq[df_Ceq != 0]\n",
        "df_Ceq_nonzero.to_frame().boxplot(column=[\"Ceq\"])"
      ],
      "execution_count": null,
      "outputs": [
        {
          "output_type": "execute_result",
          "data": {
            "text/plain": [
              "<matplotlib.axes._subplots.AxesSubplot at 0x7f3cc51e34d0>"
            ]
          },
          "metadata": {},
          "execution_count": 38
        },
        {
          "output_type": "display_data",
          "data": {
            "text/plain": [
              "<Figure size 432x288 with 1 Axes>"
            ],
            "image/png": "[encoded data removed]"
          },
          "metadata": {
            "needs_background": "light"
          }
        }
      ]
    },
    {
      "cell_type": "code",
      "metadata": {
        "colab": {
          "base_uri": "https://localhost:8080/",
          "height": 265
        },
        "id": "6Tdphvc9NoUp",
        "outputId": "e0da5687-55ea-4972-fe37-ef6824a8af84"
      },
      "source": [
        "boxplot = df.boxplot(column=['Nb + Ta'])"
      ],
      "execution_count": null,
      "outputs": [
        {
          "output_type": "display_data",
          "data": {
            "text/plain": [
              "<Figure size 432x288 with 1 Axes>"
            ],
            "image/png": "[encoded data removed]"
          },
          "metadata": {
            "needs_background": "light"
          }
        }
      ]
    },
    {
      "cell_type": "code",
      "metadata": {
        "colab": {
          "base_uri": "https://localhost:8080/",
          "height": 410
        },
        "id": "0x4MxUM0Tg0G",
        "outputId": "def889fd-9282-4e92-ee90-ac3a22fcc232"
      },
      "source": [
        "# plotting Nb + Ta variable\n",
        "ax = df[\"Nb + Ta\"].value_counts().sort_index().plot.bar(xlabel=\"Nb + Ta\", ylabel=\"Frequency\", figsize=(2,6), rot=45)"
      ],
      "execution_count": null,
      "outputs": [
        {
          "output_type": "display_data",
          "data": {
            "text/plain": [
              "<Figure size 144x432 with 1 Axes>"
            ],
            "image/png": "[encoded data removed]"
          },
          "metadata": {
            "needs_background": "light"
          }
        }
      ]
    },
    {
      "cell_type": "code",
      "metadata": {
        "colab": {
          "base_uri": "https://localhost:8080/",
          "height": 265
        },
        "id": "eBR2DLTsTgyM",
        "outputId": "bdd02b53-678c-4ee9-e33c-86f44c889fc5"
      },
      "source": [
        "boxplot = df.boxplot(column=['Nb + Ta'])"
      ],
      "execution_count": null,
      "outputs": [
        {
          "output_type": "display_data",
          "data": {
            "text/plain": [
              "<Figure size 432x288 with 1 Axes>"
            ],
            "image/png": "[encoded data removed]"
          },
          "metadata": {
            "needs_background": "light"
          }
        }
      ]
    },
    {
      "cell_type": "code",
      "metadata": {
        "colab": {
          "base_uri": "https://localhost:8080/",
          "height": 265
        },
        "id": "Q1WkbHGqTgwB",
        "outputId": "9ba14914-b707-4453-acee-c02c28c29e46"
      },
      "source": [
        "# plotting Temperature (°C) variable\n",
        "boxplot = df.boxplot(column=[' Temperature (°C)'])"
      ],
      "execution_count": null,
      "outputs": [
        {
          "output_type": "display_data",
          "data": {
            "text/plain": [
              "<Figure size 432x288 with 1 Axes>"
            ],
            "image/png": "[encoded data removed]"
          },
          "metadata": {
            "needs_background": "light"
          }
        }
      ]
    },
    {
      "cell_type": "code",
      "metadata": {
        "colab": {
          "base_uri": "https://localhost:8080/",
          "height": 265
        },
        "id": "KxdvaruWTgs4",
        "outputId": "91de24c4-58a6-4ff5-fb70-776c5a4e0995"
      },
      "source": [
        "# plotting 0.2% Proof Stress (MPa) variable\n",
        "boxplot = df.boxplot(column=[' 0.2% Proof Stress (MPa)'])"
      ],
      "execution_count": null,
      "outputs": [
        {
          "output_type": "display_data",
          "data": {
            "text/plain": [
              "<Figure size 432x288 with 1 Axes>"
            ],
            "image/png": "[encoded data removed]"
          },
          "metadata": {
            "needs_background": "light"
          }
        }
      ]
    },
    {
      "cell_type": "code",
      "metadata": {
        "colab": {
          "base_uri": "https://localhost:8080/",
          "height": 265
        },
        "id": "93l-whTRTgZa",
        "outputId": "1542c8bd-bd34-405e-f756-76433890f142"
      },
      "source": [
        "# plotting Tensile Strength (MPa) variable\n",
        "boxplot = df.boxplot(column=[' Tensile Strength (MPa)'])"
      ],
      "execution_count": null,
      "outputs": [
        {
          "output_type": "display_data",
          "data": {
            "text/plain": [
              "<Figure size 432x288 with 1 Axes>"
            ],
            "image/png": "[encoded data removed]"
          },
          "metadata": {
            "needs_background": "light"
          }
        }
      ]
    },
    {
      "cell_type": "code",
      "metadata": {
        "colab": {
          "base_uri": "https://localhost:8080/",
          "height": 142
        },
        "id": "ah3Vsox_TgVq",
        "outputId": "7786472f-87c5-451d-a852-5f457015b013"
      },
      "source": [
        "# detecting the outlier\n",
        "df.loc[df[' Tensile Strength (MPa)'] > 1000]"
      ],
      "execution_count": null,
      "outputs": [
        {
          "output_type": "execute_result",
          "data": {
            "text/plain": [
              "        C    Si    Mn      P      S   Ni    Cr    Mo    V       N  Ceq  \\\n",
              "626  0.18  0.37  0.66  0.018  0.017  0.1  1.07  1.03  0.3  0.0081  0.0   \n",
              "\n",
              "     Nb + Ta   Temperature (°C)   0.2% Proof Stress (MPa)  \\\n",
              "626      0.0                300                       519   \n",
              "\n",
              "      Tensile Strength (MPa)   Elongation (%)   Reduction in Area (%)  \\\n",
              "626                     6661               11                      28   \n",
              "\n",
              "     sqrt(Cu)   log(Al)  \n",
              "626   0.34641 -3.912023  "
            ],
            "text/html": [
              "\n",
              "  <div id=\"df-714385b3-e61e-459a-8646-4889643eb40e\">\n",
              "    <div class=\"colab-df-container\">\n",
              "      <div>\n",
              "<style scoped>\n",
              "    .dataframe tbody tr th:only-of-type {\n",
              "        vertical-align: middle;\n",
              "    }\n",
              "\n",
              "    .dataframe tbody tr th {\n",
              "        vertical-align: top;\n",
              "    }\n",
              "\n",
              "    .dataframe thead th {\n",
              "        text-align: right;\n",
              "    }\n",
              "</style>\n",
              "<table border=\"1\" class=\"dataframe\">\n",
              "  <thead>\n",
              "    <tr style=\"text-align: right;\">\n",
              "      <th></th>\n",
              "      <th>C</th>\n",
              "      <th>Si</th>\n",
              "      <th>Mn</th>\n",
              "      <th>P</th>\n",
              "      <th>S</th>\n",
              "      <th>Ni</th>\n",
              "      <th>Cr</th>\n",
              "      <th>Mo</th>\n",
              "      <th>V</th>\n",
              "      <th>N</th>\n",
              "      <th>Ceq</th>\n",
              "      <th>Nb + Ta</th>\n",
              "      <th>Temperature (°C)</th>\n",
              "      <th>0.2% Proof Stress (MPa)</th>\n",
              "      <th>Tensile Strength (MPa)</th>\n",
              "      <th>Elongation (%)</th>\n",
              "      <th>Reduction in Area (%)</th>\n",
              "      <th>sqrt(Cu)</th>\n",
              "      <th>log(Al)</th>\n",
              "    </tr>\n",
              "  </thead>\n",
              "  <tbody>\n",
              "    <tr>\n",
              "      <th>626</th>\n",
              "      <td>0.18</td>\n",
              "      <td>0.37</td>\n",
              "      <td>0.66</td>\n",
              "      <td>0.018</td>\n",
              "      <td>0.017</td>\n",
              "      <td>0.1</td>\n",
              "      <td>1.07</td>\n",
              "      <td>1.03</td>\n",
              "      <td>0.3</td>\n",
              "      <td>0.0081</td>\n",
              "      <td>0.0</td>\n",
              "      <td>0.0</td>\n",
              "      <td>300</td>\n",
              "      <td>519</td>\n",
              "      <td>6661</td>\n",
              "      <td>11</td>\n",
              "      <td>28</td>\n",
              "      <td>0.34641</td>\n",
              "      <td>-3.912023</td>\n",
              "    </tr>\n",
              "  </tbody>\n",
              "</table>\n",
              "</div>\n",
              "      <button class=\"colab-df-convert\" onclick=\"convertToInteractive('df-714385b3-e61e-459a-8646-4889643eb40e')\"\n",
              "              title=\"Convert this dataframe to an interactive table.\"\n",
              "              style=\"display:none;\">\n",
              "        \n",
              "  <svg xmlns=\"http://www.w3.org/2000/svg\" height=\"24px\"viewBox=\"0 0 24 24\"\n",
              "       width=\"24px\">\n",
              "    <path d=\"M0 0h24v24H0V0z\" fill=\"none\"/>\n",
              "    <path d=\"M18.56 5.44l.94 2.06.94-2.06 2.06-.94-2.06-.94-.94-2.06-.94 2.06-2.06.94zm-11 1L8.5 8.5l.94-2.06 2.06-.94-2.06-.94L8.5 2.5l-.94 2.06-2.06.94zm10 10l.94 2.06.94-2.06 2.06-.94-2.06-.94-.94-2.06-.94 2.06-2.06.94z\"/><path d=\"M17.41 7.96l-1.37-1.37c-.4-.4-.92-.59-1.43-.59-.52 0-1.04.2-1.43.59L10.3 9.45l-7.72 7.72c-.78.78-.78 2.05 0 2.83L4 21.41c.39.39.9.59 1.41.59.51 0 1.02-.2 1.41-.59l7.78-7.78 2.81-2.81c.8-.78.8-2.07 0-2.86zM5.41 20L4 18.59l7.72-7.72 1.47 1.35L5.41 20z\"/>\n",
              "  </svg>\n",
              "      </button>\n",
              "      \n",
              "  <style>\n",
              "    .colab-df-container {\n",
              "      display:flex;\n",
              "      flex-wrap:wrap;\n",
              "      gap: 12px;\n",
              "    }\n",
              "\n",
              "    .colab-df-convert {\n",
              "      background-color: #E8F0FE;\n",
              "      border: none;\n",
              "      border-radius: 50%;\n",
              "      cursor: pointer;\n",
              "      display: none;\n",
              "      fill: #1967D2;\n",
              "      height: 32px;\n",
              "      padding: 0 0 0 0;\n",
              "      width: 32px;\n",
              "    }\n",
              "\n",
              "    .colab-df-convert:hover {\n",
              "      background-color: #E2EBFA;\n",
              "      box-shadow: 0px 1px 2px rgba(60, 64, 67, 0.3), 0px 1px 3px 1px rgba(60, 64, 67, 0.15);\n",
              "      fill: #174EA6;\n",
              "    }\n",
              "\n",
              "    [theme=dark] .colab-df-convert {\n",
              "      background-color: #3B4455;\n",
              "      fill: #D2E3FC;\n",
              "    }\n",
              "\n",
              "    [theme=dark] .colab-df-convert:hover {\n",
              "      background-color: #434B5C;\n",
              "      box-shadow: 0px 1px 3px 1px rgba(0, 0, 0, 0.15);\n",
              "      filter: drop-shadow(0px 1px 2px rgba(0, 0, 0, 0.3));\n",
              "      fill: #FFFFFF;\n",
              "    }\n",
              "  </style>\n",
              "\n",
              "      <script>\n",
              "        const buttonEl =\n",
              "          document.querySelector('#df-714385b3-e61e-459a-8646-4889643eb40e button.colab-df-convert');\n",
              "        buttonEl.style.display =\n",
              "          google.colab.kernel.accessAllowed ? 'block' : 'none';\n",
              "\n",
              "        async function convertToInteractive(key) {\n",
              "          const element = document.querySelector('#df-714385b3-e61e-459a-8646-4889643eb40e');\n",
              "          const dataTable =\n",
              "            await google.colab.kernel.invokeFunction('convertToInteractive',\n",
              "                                                     [key], {});\n",
              "          if (!dataTable) return;\n",
              "\n",
              "          const docLinkHtml = 'Like what you see? Visit the ' +\n",
              "            '<a target=\"_blank\" href=https://colab.research.google.com/notebooks/data_table.ipynb>data table notebook</a>'\n",
              "            + ' to learn more about interactive tables.';\n",
              "          element.innerHTML = '';\n",
              "          dataTable['output_type'] = 'display_data';\n",
              "          await google.colab.output.renderOutput(dataTable, element);\n",
              "          const docLink = document.createElement('div');\n",
              "          docLink.innerHTML = docLinkHtml;\n",
              "          element.appendChild(docLink);\n",
              "        }\n",
              "      </script>\n",
              "    </div>\n",
              "  </div>\n",
              "  "
            ]
          },
          "metadata": {},
          "execution_count": 45
        }
      ]
    },
    {
      "cell_type": "code",
      "metadata": {
        "id": "7iwc68BaTgTz"
      },
      "source": [
        "#deleting the outlier\n",
        "df.drop(626, inplace=True)"
      ],
      "execution_count": null,
      "outputs": []
    },
    {
      "cell_type": "code",
      "metadata": {
        "id": "abl8X9gidAo7"
      },
      "source": [],
      "execution_count": null,
      "outputs": []
    },
    {
      "cell_type": "code",
      "metadata": {
        "colab": {
          "base_uri": "https://localhost:8080/",
          "height": 265
        },
        "id": "OF_cMWgcdAlP",
        "outputId": "344f53d6-eb39-444e-bc89-e01b65732438"
      },
      "source": [
        "# plotting Elongation (%) variable\n",
        "boxplot = df.boxplot(column=[' Elongation (%)'])"
      ],
      "execution_count": null,
      "outputs": [
        {
          "output_type": "display_data",
          "data": {
            "text/plain": [
              "<Figure size 432x288 with 1 Axes>"
            ],
            "image/png": "[encoded data removed]"
          },
          "metadata": {
            "needs_background": "light"
          }
        }
      ]
    },
    {
      "cell_type": "code",
      "metadata": {
        "colab": {
          "base_uri": "https://localhost:8080/"
        },
        "id": "oAdPPr6MdAaK",
        "outputId": "96b21436-60be-48e3-c392-a1d21a7827b8"
      },
      "source": [
        "# calculating skewness of Elongation (%) variable\n",
        "elongation_skewness = df[' Elongation (%)'].skew()\n",
        "elongation_skewness"
      ],
      "execution_count": null,
      "outputs": [
        {
          "output_type": "execute_result",
          "data": {
            "text/plain": [
              "1.2259226324412027"
            ]
          },
          "metadata": {},
          "execution_count": 48
        }
      ]
    },
    {
      "cell_type": "code",
      "metadata": {
        "colab": {
          "base_uri": "https://localhost:8080/"
        },
        "id": "cR9ZD7DJTgRz",
        "outputId": "456072a3-9afb-46f3-b2cb-bd31e1fc99c7"
      },
      "source": [
        "# trying log transformation to improve the skewness\n",
        "log_el_skewness = np.log(df[' Elongation (%)']).skew()\n",
        "log_el_skewness"
      ],
      "execution_count": null,
      "outputs": [
        {
          "output_type": "execute_result",
          "data": {
            "text/plain": [
              "0.15148159255761892"
            ]
          },
          "metadata": {},
          "execution_count": 49
        }
      ]
    },
    {
      "cell_type": "code",
      "metadata": {
        "colab": {
          "base_uri": "https://localhost:8080/"
        },
        "id": "3y26KOtbfHVG",
        "outputId": "d41a4acc-9fc2-415b-8f3c-684cbc9c4d48"
      },
      "source": [
        "# trying root square transformation to improve the skewness\n",
        "sqrt_el_skewness = np.sqrt(df[' Elongation (%)']).skew()\n",
        "sqrt_el_skewness"
      ],
      "execution_count": null,
      "outputs": [
        {
          "output_type": "execute_result",
          "data": {
            "text/plain": [
              "0.6509933991310631"
            ]
          },
          "metadata": {},
          "execution_count": 50
        }
      ]
    },
    {
      "cell_type": "code",
      "metadata": {
        "id": "ffUCuhxXTgNr"
      },
      "source": [
        "# creating log(Elongation (%)) column\n",
        "df[\"log(Elongation (%))\"] = np.log(df[' Elongation (%)'])"
      ],
      "execution_count": null,
      "outputs": []
    },
    {
      "cell_type": "code",
      "metadata": {
        "colab": {
          "base_uri": "https://localhost:8080/",
          "height": 265
        },
        "id": "Z0gmp4MFTgLm",
        "outputId": "c423f925-5197-450f-ca79-3484a780559a"
      },
      "source": [
        "# plotting log(Elongation (%)) variable\n",
        "boxplot = df.boxplot(column=[\"log(Elongation (%))\"])"
      ],
      "execution_count": null,
      "outputs": [
        {
          "output_type": "display_data",
          "data": {
            "text/plain": [
              "<Figure size 432x288 with 1 Axes>"
            ],
            "image/png": "[encoded data removed]"
          },
          "metadata": {
            "needs_background": "light"
          }
        }
      ]
    },
    {
      "cell_type": "code",
      "metadata": {
        "colab": {
          "base_uri": "https://localhost:8080/",
          "height": 267
        },
        "id": "mAw4xLtffndE",
        "outputId": "732d45b0-3528-49bc-c574-e17e96f8fc0a"
      },
      "source": [
        "# removing Elongation column\n",
        "df.drop([' Elongation (%)'], axis=1, inplace=True)\n",
        "df.head()"
      ],
      "execution_count": null,
      "outputs": [
        {
          "output_type": "execute_result",
          "data": {
            "text/plain": [
              "      C    Si    Mn      P      S     Ni    Cr    Mo    V       N  Ceq  \\\n",
              "0  0.12  0.36  0.52  0.009  0.003  0.089  0.97  0.61  0.0  0.0066  0.0   \n",
              "1  0.12  0.36  0.52  0.009  0.003  0.089  0.97  0.61  0.0  0.0066  0.0   \n",
              "2  0.12  0.36  0.52  0.009  0.003  0.089  0.97  0.61  0.0  0.0066  0.0   \n",
              "3  0.12  0.36  0.52  0.009  0.003  0.089  0.97  0.61  0.0  0.0066  0.0   \n",
              "4  0.12  0.36  0.52  0.009  0.003  0.089  0.97  0.61  0.0  0.0066  0.0   \n",
              "\n",
              "   Nb + Ta   Temperature (°C)   0.2% Proof Stress (MPa)  \\\n",
              "0      0.0                 27                       342   \n",
              "1      0.0                100                       338   \n",
              "2      0.0                200                       337   \n",
              "3      0.0                300                       346   \n",
              "4      0.0                400                       316   \n",
              "\n",
              "    Tensile Strength (MPa)   Reduction in Area (%)  sqrt(Cu)   log(Al)  \\\n",
              "0                      490                      71       0.2 -5.809143   \n",
              "1                      454                      72       0.2 -5.809143   \n",
              "2                      465                      69       0.2 -5.809143   \n",
              "3                      495                      70       0.2 -5.809143   \n",
              "4                      489                      79       0.2 -5.809143   \n",
              "\n",
              "   log(Elongation (%))  \n",
              "0             3.401197  \n",
              "1             3.295837  \n",
              "2             3.135494  \n",
              "3             3.044522  \n",
              "4             3.258097  "
            ],
            "text/html": [
              "\n",
              "  <div id=\"df-d7a3c14b-0e23-4c9a-92a2-6a0209d5e3bd\">\n",
              "    <div class=\"colab-df-container\">\n",
              "      <div>\n",
              "<style scoped>\n",
              "    .dataframe tbody tr th:only-of-type {\n",
              "        vertical-align: middle;\n",
              "    }\n",
              "\n",
              "    .dataframe tbody tr th {\n",
              "        vertical-align: top;\n",
              "    }\n",
              "\n",
              "    .dataframe thead th {\n",
              "        text-align: right;\n",
              "    }\n",
              "</style>\n",
              "<table border=\"1\" class=\"dataframe\">\n",
              "  <thead>\n",
              "    <tr style=\"text-align: right;\">\n",
              "      <th></th>\n",
              "      <th>C</th>\n",
              "      <th>Si</th>\n",
              "      <th>Mn</th>\n",
              "      <th>P</th>\n",
              "      <th>S</th>\n",
              "      <th>Ni</th>\n",
              "      <th>Cr</th>\n",
              "      <th>Mo</th>\n",
              "      <th>V</th>\n",
              "      <th>N</th>\n",
              "      <th>Ceq</th>\n",
              "      <th>Nb + Ta</th>\n",
              "      <th>Temperature (°C)</th>\n",
              "      <th>0.2% Proof Stress (MPa)</th>\n",
              "      <th>Tensile Strength (MPa)</th>\n",
              "      <th>Reduction in Area (%)</th>\n",
              "      <th>sqrt(Cu)</th>\n",
              "      <th>log(Al)</th>\n",
              "      <th>log(Elongation (%))</th>\n",
              "    </tr>\n",
              "  </thead>\n",
              "  <tbody>\n",
              "    <tr>\n",
              "      <th>0</th>\n",
              "      <td>0.12</td>\n",
              "      <td>0.36</td>\n",
              "      <td>0.52</td>\n",
              "      <td>0.009</td>\n",
              "      <td>0.003</td>\n",
              "      <td>0.089</td>\n",
              "      <td>0.97</td>\n",
              "      <td>0.61</td>\n",
              "      <td>0.0</td>\n",
              "      <td>0.0066</td>\n",
              "      <td>0.0</td>\n",
              "      <td>0.0</td>\n",
              "      <td>27</td>\n",
              "      <td>342</td>\n",
              "      <td>490</td>\n",
              "      <td>71</td>\n",
              "      <td>0.2</td>\n",
              "      <td>-5.809143</td>\n",
              "      <td>3.401197</td>\n",
              "    </tr>\n",
              "    <tr>\n",
              "      <th>1</th>\n",
              "      <td>0.12</td>\n",
              "      <td>0.36</td>\n",
              "      <td>0.52</td>\n",
              "      <td>0.009</td>\n",
              "      <td>0.003</td>\n",
              "      <td>0.089</td>\n",
              "      <td>0.97</td>\n",
              "      <td>0.61</td>\n",
              "      <td>0.0</td>\n",
              "      <td>0.0066</td>\n",
              "      <td>0.0</td>\n",
              "      <td>0.0</td>\n",
              "      <td>100</td>\n",
              "      <td>338</td>\n",
              "      <td>454</td>\n",
              "      <td>72</td>\n",
              "      <td>0.2</td>\n",
              "      <td>-5.809143</td>\n",
              "      <td>3.295837</td>\n",
              "    </tr>\n",
              "    <tr>\n",
              "      <th>2</th>\n",
              "      <td>0.12</td>\n",
              "      <td>0.36</td>\n",
              "      <td>0.52</td>\n",
              "      <td>0.009</td>\n",
              "      <td>0.003</td>\n",
              "      <td>0.089</td>\n",
              "      <td>0.97</td>\n",
              "      <td>0.61</td>\n",
              "      <td>0.0</td>\n",
              "      <td>0.0066</td>\n",
              "      <td>0.0</td>\n",
              "      <td>0.0</td>\n",
              "      <td>200</td>\n",
              "      <td>337</td>\n",
              "      <td>465</td>\n",
              "      <td>69</td>\n",
              "      <td>0.2</td>\n",
              "      <td>-5.809143</td>\n",
              "      <td>3.135494</td>\n",
              "    </tr>\n",
              "    <tr>\n",
              "      <th>3</th>\n",
              "      <td>0.12</td>\n",
              "      <td>0.36</td>\n",
              "      <td>0.52</td>\n",
              "      <td>0.009</td>\n",
              "      <td>0.003</td>\n",
              "      <td>0.089</td>\n",
              "      <td>0.97</td>\n",
              "      <td>0.61</td>\n",
              "      <td>0.0</td>\n",
              "      <td>0.0066</td>\n",
              "      <td>0.0</td>\n",
              "      <td>0.0</td>\n",
              "      <td>300</td>\n",
              "      <td>346</td>\n",
              "      <td>495</td>\n",
              "      <td>70</td>\n",
              "      <td>0.2</td>\n",
              "      <td>-5.809143</td>\n",
              "      <td>3.044522</td>\n",
              "    </tr>\n",
              "    <tr>\n",
              "      <th>4</th>\n",
              "      <td>0.12</td>\n",
              "      <td>0.36</td>\n",
              "      <td>0.52</td>\n",
              "      <td>0.009</td>\n",
              "      <td>0.003</td>\n",
              "      <td>0.089</td>\n",
              "      <td>0.97</td>\n",
              "      <td>0.61</td>\n",
              "      <td>0.0</td>\n",
              "      <td>0.0066</td>\n",
              "      <td>0.0</td>\n",
              "      <td>0.0</td>\n",
              "      <td>400</td>\n",
              "      <td>316</td>\n",
              "      <td>489</td>\n",
              "      <td>79</td>\n",
              "      <td>0.2</td>\n",
              "      <td>-5.809143</td>\n",
              "      <td>3.258097</td>\n",
              "    </tr>\n",
              "  </tbody>\n",
              "</table>\n",
              "</div>\n",
              "      <button class=\"colab-df-convert\" onclick=\"convertToInteractive('df-d7a3c14b-0e23-4c9a-92a2-6a0209d5e3bd')\"\n",
              "              title=\"Convert this dataframe to an interactive table.\"\n",
              "              style=\"display:none;\">\n",
              "        \n",
              "  <svg xmlns=\"http://www.w3.org/2000/svg\" height=\"24px\"viewBox=\"0 0 24 24\"\n",
              "       width=\"24px\">\n",
              "    <path d=\"M0 0h24v24H0V0z\" fill=\"none\"/>\n",
              "    <path d=\"M18.56 5.44l.94 2.06.94-2.06 2.06-.94-2.06-.94-.94-2.06-.94 2.06-2.06.94zm-11 1L8.5 8.5l.94-2.06 2.06-.94-2.06-.94L8.5 2.5l-.94 2.06-2.06.94zm10 10l.94 2.06.94-2.06 2.06-.94-2.06-.94-.94-2.06-.94 2.06-2.06.94z\"/><path d=\"M17.41 7.96l-1.37-1.37c-.4-.4-.92-.59-1.43-.59-.52 0-1.04.2-1.43.59L10.3 9.45l-7.72 7.72c-.78.78-.78 2.05 0 2.83L4 21.41c.39.39.9.59 1.41.59.51 0 1.02-.2 1.41-.59l7.78-7.78 2.81-2.81c.8-.78.8-2.07 0-2.86zM5.41 20L4 18.59l7.72-7.72 1.47 1.35L5.41 20z\"/>\n",
              "  </svg>\n",
              "      </button>\n",
              "      \n",
              "  <style>\n",
              "    .colab-df-container {\n",
              "      display:flex;\n",
              "      flex-wrap:wrap;\n",
              "      gap: 12px;\n",
              "    }\n",
              "\n",
              "    .colab-df-convert {\n",
              "      background-color: #E8F0FE;\n",
              "      border: none;\n",
              "      border-radius: 50%;\n",
              "      cursor: pointer;\n",
              "      display: none;\n",
              "      fill: #1967D2;\n",
              "      height: 32px;\n",
              "      padding: 0 0 0 0;\n",
              "      width: 32px;\n",
              "    }\n",
              "\n",
              "    .colab-df-convert:hover {\n",
              "      background-color: #E2EBFA;\n",
              "      box-shadow: 0px 1px 2px rgba(60, 64, 67, 0.3), 0px 1px 3px 1px rgba(60, 64, 67, 0.15);\n",
              "      fill: #174EA6;\n",
              "    }\n",
              "\n",
              "    [theme=dark] .colab-df-convert {\n",
              "      background-color: #3B4455;\n",
              "      fill: #D2E3FC;\n",
              "    }\n",
              "\n",
              "    [theme=dark] .colab-df-convert:hover {\n",
              "      background-color: #434B5C;\n",
              "      box-shadow: 0px 1px 3px 1px rgba(0, 0, 0, 0.15);\n",
              "      filter: drop-shadow(0px 1px 2px rgba(0, 0, 0, 0.3));\n",
              "      fill: #FFFFFF;\n",
              "    }\n",
              "  </style>\n",
              "\n",
              "      <script>\n",
              "        const buttonEl =\n",
              "          document.querySelector('#df-d7a3c14b-0e23-4c9a-92a2-6a0209d5e3bd button.colab-df-convert');\n",
              "        buttonEl.style.display =\n",
              "          google.colab.kernel.accessAllowed ? 'block' : 'none';\n",
              "\n",
              "        async function convertToInteractive(key) {\n",
              "          const element = document.querySelector('#df-d7a3c14b-0e23-4c9a-92a2-6a0209d5e3bd');\n",
              "          const dataTable =\n",
              "            await google.colab.kernel.invokeFunction('convertToInteractive',\n",
              "                                                     [key], {});\n",
              "          if (!dataTable) return;\n",
              "\n",
              "          const docLinkHtml = 'Like what you see? Visit the ' +\n",
              "            '<a target=\"_blank\" href=https://colab.research.google.com/notebooks/data_table.ipynb>data table notebook</a>'\n",
              "            + ' to learn more about interactive tables.';\n",
              "          element.innerHTML = '';\n",
              "          dataTable['output_type'] = 'display_data';\n",
              "          await google.colab.output.renderOutput(dataTable, element);\n",
              "          const docLink = document.createElement('div');\n",
              "          docLink.innerHTML = docLinkHtml;\n",
              "          element.appendChild(docLink);\n",
              "        }\n",
              "      </script>\n",
              "    </div>\n",
              "  </div>\n",
              "  "
            ]
          },
          "metadata": {},
          "execution_count": 53
        }
      ]
    },
    {
      "cell_type": "code",
      "metadata": {
        "id": "KmQ1rBe3sAm_"
      },
      "source": [],
      "execution_count": null,
      "outputs": []
    },
    {
      "cell_type": "code",
      "metadata": {
        "colab": {
          "base_uri": "https://localhost:8080/",
          "height": 265
        },
        "id": "zDKaEfIGfnZu",
        "outputId": "d5798150-3d6b-4ab8-fce4-017287d64f17"
      },
      "source": [
        "# plotting Reduction in Area (%) variable\n",
        "boxplot = df.boxplot(column=[\" Reduction in Area (%)\"])"
      ],
      "execution_count": null,
      "outputs": [
        {
          "output_type": "display_data",
          "data": {
            "text/plain": [
              "<Figure size 432x288 with 1 Axes>"
            ],
            "image/png": "[encoded data removed]"
          },
          "metadata": {
            "needs_background": "light"
          }
        }
      ]
    },
    {
      "cell_type": "code",
      "metadata": {
        "colab": {
          "base_uri": "https://localhost:8080/"
        },
        "id": "8R3fptSrfnUx",
        "outputId": "9517db98-e86a-4f06-e249-5a9f0bfc9738"
      },
      "source": [
        "# calculating skewness of Reduction in Area (%) variable\n",
        "Reduction_skewness = df[\" Reduction in Area (%)\"].skew()\n",
        "Reduction_skewness"
      ],
      "execution_count": null,
      "outputs": [
        {
          "output_type": "execute_result",
          "data": {
            "text/plain": [
              "-0.4860118362147224"
            ]
          },
          "metadata": {},
          "execution_count": 55
        }
      ]
    },
    {
      "cell_type": "code",
      "metadata": {
        "id": "A_aZPeLWfnQm"
      },
      "source": [
        "# reordering the dataframe columns in original order\n",
        "df = df[[' C',\n",
        " ' Si',\n",
        " ' Mn',\n",
        " ' P',\n",
        " ' S',\n",
        " ' Ni',\n",
        " ' Cr',\n",
        " ' Mo',\n",
        " 'sqrt(Cu)',\n",
        " 'V',\n",
        " 'log(Al)',\n",
        " ' N',\n",
        " 'Ceq',\n",
        " 'Nb + Ta',\n",
        " ' Temperature (°C)',\n",
        " ' 0.2% Proof Stress (MPa)',\n",
        " ' Tensile Strength (MPa)',\n",
        " 'log(Elongation (%))',\n",
        " ' Reduction in Area (%)']]"
      ],
      "execution_count": null,
      "outputs": []
    },
    {
      "cell_type": "code",
      "metadata": {
        "colab": {
          "base_uri": "https://localhost:8080/",
          "height": 267
        },
        "id": "HTWvJ6blfmwi",
        "outputId": "dfb7e9fb-76ae-485f-d035-4b3f06f7a60f"
      },
      "source": [
        "df.head()"
      ],
      "execution_count": null,
      "outputs": [
        {
          "output_type": "execute_result",
          "data": {
            "text/plain": [
              "      C    Si    Mn      P      S     Ni    Cr    Mo  sqrt(Cu)    V   log(Al)  \\\n",
              "0  0.12  0.36  0.52  0.009  0.003  0.089  0.97  0.61       0.2  0.0 -5.809143   \n",
              "1  0.12  0.36  0.52  0.009  0.003  0.089  0.97  0.61       0.2  0.0 -5.809143   \n",
              "2  0.12  0.36  0.52  0.009  0.003  0.089  0.97  0.61       0.2  0.0 -5.809143   \n",
              "3  0.12  0.36  0.52  0.009  0.003  0.089  0.97  0.61       0.2  0.0 -5.809143   \n",
              "4  0.12  0.36  0.52  0.009  0.003  0.089  0.97  0.61       0.2  0.0 -5.809143   \n",
              "\n",
              "        N  Ceq  Nb + Ta   Temperature (°C)   0.2% Proof Stress (MPa)  \\\n",
              "0  0.0066  0.0      0.0                 27                       342   \n",
              "1  0.0066  0.0      0.0                100                       338   \n",
              "2  0.0066  0.0      0.0                200                       337   \n",
              "3  0.0066  0.0      0.0                300                       346   \n",
              "4  0.0066  0.0      0.0                400                       316   \n",
              "\n",
              "    Tensile Strength (MPa)  log(Elongation (%))   Reduction in Area (%)  \n",
              "0                      490             3.401197                      71  \n",
              "1                      454             3.295837                      72  \n",
              "2                      465             3.135494                      69  \n",
              "3                      495             3.044522                      70  \n",
              "4                      489             3.258097                      79  "
            ],
            "text/html": [
              "\n",
              "  <div id=\"df-89dff088-2fac-4c94-a084-9959a07b24df\">\n",
              "    <div class=\"colab-df-container\">\n",
              "      <div>\n",
              "<style scoped>\n",
              "    .dataframe tbody tr th:only-of-type {\n",
              "        vertical-align: middle;\n",
              "    }\n",
              "\n",
              "    .dataframe tbody tr th {\n",
              "        vertical-align: top;\n",
              "    }\n",
              "\n",
              "    .dataframe thead th {\n",
              "        text-align: right;\n",
              "    }\n",
              "</style>\n",
              "<table border=\"1\" class=\"dataframe\">\n",
              "  <thead>\n",
              "    <tr style=\"text-align: right;\">\n",
              "      <th></th>\n",
              "      <th>C</th>\n",
              "      <th>Si</th>\n",
              "      <th>Mn</th>\n",
              "      <th>P</th>\n",
              "      <th>S</th>\n",
              "      <th>Ni</th>\n",
              "      <th>Cr</th>\n",
              "      <th>Mo</th>\n",
              "      <th>sqrt(Cu)</th>\n",
              "      <th>V</th>\n",
              "      <th>log(Al)</th>\n",
              "      <th>N</th>\n",
              "      <th>Ceq</th>\n",
              "      <th>Nb + Ta</th>\n",
              "      <th>Temperature (°C)</th>\n",
              "      <th>0.2% Proof Stress (MPa)</th>\n",
              "      <th>Tensile Strength (MPa)</th>\n",
              "      <th>log(Elongation (%))</th>\n",
              "      <th>Reduction in Area (%)</th>\n",
              "    </tr>\n",
              "  </thead>\n",
              "  <tbody>\n",
              "    <tr>\n",
              "      <th>0</th>\n",
              "      <td>0.12</td>\n",
              "      <td>0.36</td>\n",
              "      <td>0.52</td>\n",
              "      <td>0.009</td>\n",
              "      <td>0.003</td>\n",
              "      <td>0.089</td>\n",
              "      <td>0.97</td>\n",
              "      <td>0.61</td>\n",
              "      <td>0.2</td>\n",
              "      <td>0.0</td>\n",
              "      <td>-5.809143</td>\n",
              "      <td>0.0066</td>\n",
              "      <td>0.0</td>\n",
              "      <td>0.0</td>\n",
              "      <td>27</td>\n",
              "      <td>342</td>\n",
              "      <td>490</td>\n",
              "      <td>3.401197</td>\n",
              "      <td>71</td>\n",
              "    </tr>\n",
              "    <tr>\n",
              "      <th>1</th>\n",
              "      <td>0.12</td>\n",
              "      <td>0.36</td>\n",
              "      <td>0.52</td>\n",
              "      <td>0.009</td>\n",
              "      <td>0.003</td>\n",
              "      <td>0.089</td>\n",
              "      <td>0.97</td>\n",
              "      <td>0.61</td>\n",
              "      <td>0.2</td>\n",
              "      <td>0.0</td>\n",
              "      <td>-5.809143</td>\n",
              "      <td>0.0066</td>\n",
              "      <td>0.0</td>\n",
              "      <td>0.0</td>\n",
              "      <td>100</td>\n",
              "      <td>338</td>\n",
              "      <td>454</td>\n",
              "      <td>3.295837</td>\n",
              "      <td>72</td>\n",
              "    </tr>\n",
              "    <tr>\n",
              "      <th>2</th>\n",
              "      <td>0.12</td>\n",
              "      <td>0.36</td>\n",
              "      <td>0.52</td>\n",
              "      <td>0.009</td>\n",
              "      <td>0.003</td>\n",
              "      <td>0.089</td>\n",
              "      <td>0.97</td>\n",
              "      <td>0.61</td>\n",
              "      <td>0.2</td>\n",
              "      <td>0.0</td>\n",
              "      <td>-5.809143</td>\n",
              "      <td>0.0066</td>\n",
              "      <td>0.0</td>\n",
              "      <td>0.0</td>\n",
              "      <td>200</td>\n",
              "      <td>337</td>\n",
              "      <td>465</td>\n",
              "      <td>3.135494</td>\n",
              "      <td>69</td>\n",
              "    </tr>\n",
              "    <tr>\n",
              "      <th>3</th>\n",
              "      <td>0.12</td>\n",
              "      <td>0.36</td>\n",
              "      <td>0.52</td>\n",
              "      <td>0.009</td>\n",
              "      <td>0.003</td>\n",
              "      <td>0.089</td>\n",
              "      <td>0.97</td>\n",
              "      <td>0.61</td>\n",
              "      <td>0.2</td>\n",
              "      <td>0.0</td>\n",
              "      <td>-5.809143</td>\n",
              "      <td>0.0066</td>\n",
              "      <td>0.0</td>\n",
              "      <td>0.0</td>\n",
              "      <td>300</td>\n",
              "      <td>346</td>\n",
              "      <td>495</td>\n",
              "      <td>3.044522</td>\n",
              "      <td>70</td>\n",
              "    </tr>\n",
              "    <tr>\n",
              "      <th>4</th>\n",
              "      <td>0.12</td>\n",
              "      <td>0.36</td>\n",
              "      <td>0.52</td>\n",
              "      <td>0.009</td>\n",
              "      <td>0.003</td>\n",
              "      <td>0.089</td>\n",
              "      <td>0.97</td>\n",
              "      <td>0.61</td>\n",
              "      <td>0.2</td>\n",
              "      <td>0.0</td>\n",
              "      <td>-5.809143</td>\n",
              "      <td>0.0066</td>\n",
              "      <td>0.0</td>\n",
              "      <td>0.0</td>\n",
              "      <td>400</td>\n",
              "      <td>316</td>\n",
              "      <td>489</td>\n",
              "      <td>3.258097</td>\n",
              "      <td>79</td>\n",
              "    </tr>\n",
              "  </tbody>\n",
              "</table>\n",
              "</div>\n",
              "      <button class=\"colab-df-convert\" onclick=\"convertToInteractive('df-89dff088-2fac-4c94-a084-9959a07b24df')\"\n",
              "              title=\"Convert this dataframe to an interactive table.\"\n",
              "              style=\"display:none;\">\n",
              "        \n",
              "  <svg xmlns=\"http://www.w3.org/2000/svg\" height=\"24px\"viewBox=\"0 0 24 24\"\n",
              "       width=\"24px\">\n",
              "    <path d=\"M0 0h24v24H0V0z\" fill=\"none\"/>\n",
              "    <path d=\"M18.56 5.44l.94 2.06.94-2.06 2.06-.94-2.06-.94-.94-2.06-.94 2.06-2.06.94zm-11 1L8.5 8.5l.94-2.06 2.06-.94-2.06-.94L8.5 2.5l-.94 2.06-2.06.94zm10 10l.94 2.06.94-2.06 2.06-.94-2.06-.94-.94-2.06-.94 2.06-2.06.94z\"/><path d=\"M17.41 7.96l-1.37-1.37c-.4-.4-.92-.59-1.43-.59-.52 0-1.04.2-1.43.59L10.3 9.45l-7.72 7.72c-.78.78-.78 2.05 0 2.83L4 21.41c.39.39.9.59 1.41.59.51 0 1.02-.2 1.41-.59l7.78-7.78 2.81-2.81c.8-.78.8-2.07 0-2.86zM5.41 20L4 18.59l7.72-7.72 1.47 1.35L5.41 20z\"/>\n",
              "  </svg>\n",
              "      </button>\n",
              "      \n",
              "  <style>\n",
              "    .colab-df-container {\n",
              "      display:flex;\n",
              "      flex-wrap:wrap;\n",
              "      gap: 12px;\n",
              "    }\n",
              "\n",
              "    .colab-df-convert {\n",
              "      background-color: #E8F0FE;\n",
              "      border: none;\n",
              "      border-radius: 50%;\n",
              "      cursor: pointer;\n",
              "      display: none;\n",
              "      fill: #1967D2;\n",
              "      height: 32px;\n",
              "      padding: 0 0 0 0;\n",
              "      width: 32px;\n",
              "    }\n",
              "\n",
              "    .colab-df-convert:hover {\n",
              "      background-color: #E2EBFA;\n",
              "      box-shadow: 0px 1px 2px rgba(60, 64, 67, 0.3), 0px 1px 3px 1px rgba(60, 64, 67, 0.15);\n",
              "      fill: #174EA6;\n",
              "    }\n",
              "\n",
              "    [theme=dark] .colab-df-convert {\n",
              "      background-color: #3B4455;\n",
              "      fill: #D2E3FC;\n",
              "    }\n",
              "\n",
              "    [theme=dark] .colab-df-convert:hover {\n",
              "      background-color: #434B5C;\n",
              "      box-shadow: 0px 1px 3px 1px rgba(0, 0, 0, 0.15);\n",
              "      filter: drop-shadow(0px 1px 2px rgba(0, 0, 0, 0.3));\n",
              "      fill: #FFFFFF;\n",
              "    }\n",
              "  </style>\n",
              "\n",
              "      <script>\n",
              "        const buttonEl =\n",
              "          document.querySelector('#df-89dff088-2fac-4c94-a084-9959a07b24df button.colab-df-convert');\n",
              "        buttonEl.style.display =\n",
              "          google.colab.kernel.accessAllowed ? 'block' : 'none';\n",
              "\n",
              "        async function convertToInteractive(key) {\n",
              "          const element = document.querySelector('#df-89dff088-2fac-4c94-a084-9959a07b24df');\n",
              "          const dataTable =\n",
              "            await google.colab.kernel.invokeFunction('convertToInteractive',\n",
              "                                                     [key], {});\n",
              "          if (!dataTable) return;\n",
              "\n",
              "          const docLinkHtml = 'Like what you see? Visit the ' +\n",
              "            '<a target=\"_blank\" href=https://colab.research.google.com/notebooks/data_table.ipynb>data table notebook</a>'\n",
              "            + ' to learn more about interactive tables.';\n",
              "          element.innerHTML = '';\n",
              "          dataTable['output_type'] = 'display_data';\n",
              "          await google.colab.output.renderOutput(dataTable, element);\n",
              "          const docLink = document.createElement('div');\n",
              "          docLink.innerHTML = docLinkHtml;\n",
              "          element.appendChild(docLink);\n",
              "        }\n",
              "      </script>\n",
              "    </div>\n",
              "  </div>\n",
              "  "
            ]
          },
          "metadata": {},
          "execution_count": 57
        }
      ]
    },
    {
      "cell_type": "code",
      "metadata": {
        "id": "sx15-Rx4rFT9"
      },
      "source": [
        "# importing libraries for heatmap building \n",
        "import seaborn as sns\n",
        "import matplotlib.pyplot as plt"
      ],
      "execution_count": null,
      "outputs": []
    },
    {
      "cell_type": "code",
      "metadata": {
        "id": "G7D1e6b6Gl3T"
      },
      "source": [],
      "execution_count": null,
      "outputs": []
    },
    {
      "cell_type": "code",
      "metadata": {
        "colab": {
          "base_uri": "https://localhost:8080/"
        },
        "id": "pcH6bddTrFRJ",
        "outputId": "7e000ee5-6e3b-4c9f-b3a2-9aec7a392fa5"
      },
      "source": [
        "# calculating a correlation matrix\n",
        "corr_matrix = df.corr()\n",
        "print(corr_matrix)"
      ],
      "execution_count": null,
      "outputs": [
        {
          "output_type": "stream",
          "name": "stdout",
          "text": [
            "                                 C        Si        Mn         P         S  \\\n",
            " C                        1.000000 -0.406436  0.031060  0.057362  0.012374   \n",
            " Si                      -0.406436  1.000000  0.223999  0.137729 -0.076419   \n",
            " Mn                       0.031060  0.223999  1.000000  0.244273 -0.045453   \n",
            " P                        0.057362  0.137729  0.244273  1.000000  0.179056   \n",
            " S                        0.012374 -0.076419 -0.045453  0.179056  1.000000   \n",
            " Ni                       0.285822 -0.078942  0.454138 -0.143813  0.067033   \n",
            " Cr                       0.018132  0.116524 -0.474146 -0.139764  0.003919   \n",
            " Mo                       0.255229 -0.028264 -0.405245 -0.387885 -0.057536   \n",
            "sqrt(Cu)                  0.369701 -0.109653  0.065908 -0.038453  0.092568   \n",
            "V                         0.386180  0.197927  0.008926 -0.083414  0.044347   \n",
            "log(Al)                  -0.355748  0.293360  0.641921  0.278152  0.149930   \n",
            " N                        0.035562 -0.123106 -0.236816 -0.256030 -0.171982   \n",
            "Ceq                      -0.273283  0.371805  0.736460  0.200734  0.061014   \n",
            "Nb + Ta                   0.131790 -0.155246  0.193307  0.283390 -0.023263   \n",
            " Temperature (°C)        -0.025498  0.037223 -0.023002 -0.029483 -0.003463   \n",
            " 0.2% Proof Stress (MPa)  0.198514  0.268330  0.400552 -0.043561  0.018728   \n",
            " Tensile Strength (MPa)   0.231118  0.089367  0.244372 -0.008113  0.008561   \n",
            "log(Elongation (%))      -0.185229 -0.146824 -0.097636  0.125447 -0.050877   \n",
            " Reduction in Area (%)   -0.279092  0.165579  0.102368  0.040132 -0.122928   \n",
            "\n",
            "                                Ni        Cr        Mo  sqrt(Cu)         V  \\\n",
            " C                        0.285822  0.018132  0.255229  0.369701  0.386180   \n",
            " Si                      -0.078942  0.116524 -0.028264 -0.109653  0.197927   \n",
            " Mn                       0.454138 -0.474146 -0.405245  0.065908  0.008926   \n",
            " P                       -0.143813 -0.139764 -0.387885 -0.038453 -0.083414   \n",
            " S                        0.067033  0.003919 -0.057536  0.092568  0.044347   \n",
            " Ni                       1.000000  0.126509  0.333242  0.547113  0.342878   \n",
            " Cr                       0.126509  1.000000  0.794756  0.278382  0.630935   \n",
            " Mo                       0.333242  0.794756  1.000000  0.312609  0.722246   \n",
            "sqrt(Cu)                  0.547113  0.278382  0.312609  1.000000  0.327525   \n",
            "V                         0.342878  0.630935  0.722246  0.327525  1.000000   \n",
            "log(Al)                   0.090944 -0.440476 -0.571620 -0.286681 -0.283790   \n",
            " N                        0.132118  0.454343  0.348500  0.199152  0.232446   \n",
            "Ceq                       0.101785 -0.407637 -0.541923 -0.191345 -0.061301   \n",
            "Nb + Ta                  -0.102792 -0.131306 -0.169535 -0.243144 -0.086517   \n",
            " Temperature (°C)         0.035261  0.092847  0.086746  0.029534  0.067705   \n",
            " 0.2% Proof Stress (MPa)  0.475950  0.253236  0.359735  0.211897  0.635526   \n",
            " Tensile Strength (MPa)   0.282226  0.157497  0.249959  0.084186  0.440069   \n",
            "log(Elongation (%))      -0.312424 -0.374895 -0.483369 -0.220457 -0.593145   \n",
            " Reduction in Area (%)   -0.020420 -0.049078 -0.169626 -0.177002 -0.203168   \n",
            "\n",
            "                           log(Al)         N       Ceq   Nb + Ta  \\\n",
            " C                       -0.355748  0.035562 -0.273283  0.131790   \n",
            " Si                       0.293360 -0.123106  0.371805 -0.155246   \n",
            " Mn                       0.641921 -0.236816  0.736460  0.193307   \n",
            " P                        0.278152 -0.256030  0.200734  0.283390   \n",
            " S                        0.149930 -0.171982  0.061014 -0.023263   \n",
            " Ni                       0.090944  0.132118  0.101785 -0.102792   \n",
            " Cr                      -0.440476  0.454343 -0.407637 -0.131306   \n",
            " Mo                      -0.571620  0.348500 -0.541923 -0.169535   \n",
            "sqrt(Cu)                 -0.286681  0.199152 -0.191345 -0.243144   \n",
            "V                        -0.283790  0.232446 -0.061301 -0.086517   \n",
            "log(Al)                   1.000000 -0.383583  0.766543 -0.116456   \n",
            " N                       -0.383583  1.000000 -0.333532  0.250253   \n",
            "Ceq                       0.766543 -0.333532  1.000000 -0.085660   \n",
            "Nb + Ta                  -0.116456  0.250253 -0.085660  1.000000   \n",
            " Temperature (°C)        -0.019499  0.026049 -0.011379 -0.044495   \n",
            " 0.2% Proof Stress (MPa)  0.108249  0.023834  0.316934 -0.041105   \n",
            " Tensile Strength (MPa)   0.009461  0.044098  0.153707  0.105791   \n",
            "log(Elongation (%))       0.136199 -0.130349  0.009164 -0.000666   \n",
            " Reduction in Area (%)    0.239675 -0.079572  0.230704 -0.076869   \n",
            "\n",
            "                           Temperature (°C)   0.2% Proof Stress (MPa)  \\\n",
            " C                                -0.025498                  0.198514   \n",
            " Si                                0.037223                  0.268330   \n",
            " Mn                               -0.023002                  0.400552   \n",
            " P                                -0.029483                 -0.043561   \n",
            " S                                -0.003463                  0.018728   \n",
            " Ni                                0.035261                  0.475950   \n",
            " Cr                                0.092847                  0.253236   \n",
            " Mo                                0.086746                  0.359735   \n",
            "sqrt(Cu)                           0.029534                  0.211897   \n",
            "V                                  0.067705                  0.635526   \n",
            "log(Al)                           -0.019499                  0.108249   \n",
            " N                                 0.026049                  0.023834   \n",
            "Ceq                               -0.011379                  0.316934   \n",
            "Nb + Ta                           -0.044495                 -0.041105   \n",
            " Temperature (°C)                  1.000000                 -0.428288   \n",
            " 0.2% Proof Stress (MPa)          -0.428288                  1.000000   \n",
            " Tensile Strength (MPa)           -0.610238                  0.838278   \n",
            "log(Elongation (%))                0.381978                 -0.760906   \n",
            " Reduction in Area (%)             0.567988                 -0.368806   \n",
            "\n",
            "                           Tensile Strength (MPa)  log(Elongation (%))  \\\n",
            " C                                       0.231118            -0.185229   \n",
            " Si                                      0.089367            -0.146824   \n",
            " Mn                                      0.244372            -0.097636   \n",
            " P                                      -0.008113             0.125447   \n",
            " S                                       0.008561            -0.050877   \n",
            " Ni                                      0.282226            -0.312424   \n",
            " Cr                                      0.157497            -0.374895   \n",
            " Mo                                      0.249959            -0.483369   \n",
            "sqrt(Cu)                                 0.084186            -0.220457   \n",
            "V                                        0.440069            -0.593145   \n",
            "log(Al)                                  0.009461             0.136199   \n",
            " N                                       0.044098            -0.130349   \n",
            "Ceq                                      0.153707             0.009164   \n",
            "Nb + Ta                                  0.105791            -0.000666   \n",
            " Temperature (°C)                       -0.610238             0.381978   \n",
            " 0.2% Proof Stress (MPa)                 0.838278            -0.760906   \n",
            " Tensile Strength (MPa)                  1.000000            -0.793435   \n",
            "log(Elongation (%))                     -0.793435             1.000000   \n",
            " Reduction in Area (%)                  -0.654127             0.638037   \n",
            "\n",
            "                           Reduction in Area (%)  \n",
            " C                                     -0.279092  \n",
            " Si                                     0.165579  \n",
            " Mn                                     0.102368  \n",
            " P                                      0.040132  \n",
            " S                                     -0.122928  \n",
            " Ni                                    -0.020420  \n",
            " Cr                                    -0.049078  \n",
            " Mo                                    -0.169626  \n",
            "sqrt(Cu)                               -0.177002  \n",
            "V                                      -0.203168  \n",
            "log(Al)                                 0.239675  \n",
            " N                                     -0.079572  \n",
            "Ceq                                     0.230704  \n",
            "Nb + Ta                                -0.076869  \n",
            " Temperature (°C)                       0.567988  \n",
            " 0.2% Proof Stress (MPa)               -0.368806  \n",
            " Tensile Strength (MPa)                -0.654127  \n",
            "log(Elongation (%))                     0.638037  \n",
            " Reduction in Area (%)                  1.000000  \n"
          ]
        }
      ]
    },
    {
      "cell_type": "code",
      "metadata": {
        "colab": {
          "base_uri": "https://localhost:8080/",
          "height": 1000
        },
        "id": "ELeLGyAdcs8U",
        "outputId": "ad37e360-b4f7-43e2-fa2a-d55984aa9f7f"
      },
      "source": [
        "# drawing a heatmap\n",
        "plt.figure(figsize = (20,20))\n",
        "ax = sns.heatmap(corr_matrix, annot=True, square=True, cmap='gist_heat')\n",
        "plt.show()"
      ],
      "execution_count": null,
      "outputs": [
        {
          "output_type": "display_data",
          "data": {
            "text/plain": [
              "<Figure size 1440x1440 with 2 Axes>"
            ],
            "image/png": "[encoded data removed]"
          },
          "metadata": {
            "needs_background": "light"
          }
        }
      ]
    },
    {
      "cell_type": "markdown",
      "metadata": {
        "id": "84AG45p_CLmr"
      },
      "source": [
        "# Prediction for 0.2% Proof Stress (MPa)"
      ]
    },
    {
      "cell_type": "code",
      "metadata": {
        "id": "xdM6VQ3FrFJP"
      },
      "source": [
        "# defining variables\n",
        "df_stress = df.copy(deep=True)\n",
        "x_stress = df_stress.iloc[:, :-4].values\n",
        "y_stress = df_stress.iloc[:, -4].values"
      ],
      "execution_count": null,
      "outputs": []
    },
    {
      "cell_type": "code",
      "metadata": {
        "id": "cgwhcWd0B5a6"
      },
      "source": [],
      "execution_count": null,
      "outputs": []
    },
    {
      "cell_type": "code",
      "metadata": {
        "id": "QqkVEUZarFHJ"
      },
      "source": [
        "# splitting the dataset into the training set and test set\n",
        "from sklearn.model_selection import train_test_split\n",
        "x_stress_train, x_stress_test, y_stress_train, y_stress_test = train_test_split(x_stress, y_stress, test_size = 0.20, random_state=42)"
      ],
      "execution_count": null,
      "outputs": []
    },
    {
      "cell_type": "code",
      "metadata": {
        "id": "f9ui4n-NrFEq"
      },
      "source": [
        "# feature scaling\n",
        "from sklearn.preprocessing import StandardScaler\n",
        "sc = StandardScaler()\n",
        "x_stress_train = sc.fit_transform(x_stress_train)\n",
        "x_stress_test = sc.fit_transform(x_stress_test)"
      ],
      "execution_count": null,
      "outputs": []
    },
    {
      "cell_type": "code",
      "metadata": {
        "colab": {
          "base_uri": "https://localhost:8080/"
        },
        "id": "CW6OJ1kjs7Ho",
        "outputId": "bc2dd734-2989-4ea3-c273-b57f55953868"
      },
      "source": [
        "# training the multiple Linear regression model on the training set\n",
        "from sklearn.linear_model import LinearRegression\n",
        "regressor = LinearRegression()\n",
        "regressor.fit(x_stress_train, y_stress_train)"
      ],
      "execution_count": null,
      "outputs": [
        {
          "output_type": "execute_result",
          "data": {
            "text/plain": [
              "LinearRegression()"
            ]
          },
          "metadata": {},
          "execution_count": 64
        }
      ]
    },
    {
      "cell_type": "code",
      "metadata": {
        "colab": {
          "base_uri": "https://localhost:8080/"
        },
        "id": "AJhtdVhHWWQ3",
        "outputId": "f878e221-ddec-4f52-b45d-6cb15f805f1d"
      },
      "source": [
        "regressor.coef_"
      ],
      "execution_count": null,
      "outputs": [
        {
          "output_type": "execute_result",
          "data": {
            "text/plain": [
              "array([  6.3,  10.8,  18.7,  -4.6,  -1.1,  18.2,   1.9,  51.6,  -0.1,\n",
              "        44.3,  -0.6,  -7.3,  55.3,  10. , -64.2])"
            ]
          },
          "metadata": {},
          "execution_count": 94
        }
      ]
    },
    {
      "cell_type": "code",
      "metadata": {
        "colab": {
          "base_uri": "https://localhost:8080/"
        },
        "id": "ZWJX8J6AWcsV",
        "outputId": "4d6cca11-34f8-4826-b28c-8bb412c19096"
      },
      "source": [
        "regressor.intercept_"
      ],
      "execution_count": null,
      "outputs": [
        {
          "output_type": "execute_result",
          "data": {
            "text/plain": [
              "331.61285909712745"
            ]
          },
          "metadata": {},
          "execution_count": 95
        }
      ]
    },
    {
      "cell_type": "code",
      "source": [],
      "metadata": {
        "id": "rRLxW_NrtZcq"
      },
      "execution_count": null,
      "outputs": []
    },
    {
      "cell_type": "code",
      "metadata": {
        "colab": {
          "base_uri": "https://localhost:8080/"
        },
        "id": "xRcpkiwItIdv",
        "outputId": "fdb59ccd-1c29-4c7e-cb34-94f0ddf3affa"
      },
      "source": [
        "# predicting the test set results\n",
        "y_stress_pred = regressor.predict(x_stress_test)\n",
        "np.set_printoptions(precision=0)\n",
        "print(np.concatenate((y_stress_pred.reshape(len(y_stress_pred),1), y_stress_test.reshape(len(y_stress_test),1)),1))"
      ],
      "execution_count": null,
      "outputs": [
        {
          "output_type": "stream",
          "name": "stdout",
          "text": [
            "[[412. 257.]\n",
            " [472. 445.]\n",
            " [274. 274.]\n",
            " [224. 207.]\n",
            " [319. 270.]\n",
            " [356. 378.]\n",
            " [467. 570.]\n",
            " [528. 478.]\n",
            " [248. 264.]\n",
            " [387. 343.]\n",
            " [193. 172.]\n",
            " [357. 275.]\n",
            " [210. 194.]\n",
            " [276. 210.]\n",
            " [130. 149.]\n",
            " [180. 143.]\n",
            " [161. 156.]\n",
            " [559. 537.]\n",
            " [542. 596.]\n",
            " [302. 243.]\n",
            " [255. 268.]\n",
            " [192. 188.]\n",
            " [365. 338.]\n",
            " [369. 345.]\n",
            " [359. 241.]\n",
            " [193. 175.]\n",
            " [159. 165.]\n",
            " [348. 276.]\n",
            " [373. 251.]\n",
            " [419. 421.]\n",
            " [209. 198.]\n",
            " [461. 464.]\n",
            " [338. 275.]\n",
            " [217. 213.]\n",
            " [308. 364.]\n",
            " [289. 240.]\n",
            " [270. 323.]\n",
            " [322. 303.]\n",
            " [408. 359.]\n",
            " [274. 275.]\n",
            " [432. 284.]\n",
            " [611. 620.]\n",
            " [355. 280.]\n",
            " [333. 260.]\n",
            " [559. 570.]\n",
            " [205. 209.]\n",
            " [448. 451.]\n",
            " [550. 521.]\n",
            " [454. 447.]\n",
            " [448. 443.]\n",
            " [295. 262.]\n",
            " [268. 223.]\n",
            " [172. 240.]\n",
            " [307. 322.]\n",
            " [362. 255.]\n",
            " [331. 260.]\n",
            " [323. 352.]\n",
            " [197. 194.]\n",
            " [551. 560.]\n",
            " [377. 370.]\n",
            " [248. 280.]\n",
            " [198. 197.]\n",
            " [267. 203.]\n",
            " [213. 201.]\n",
            " [378. 301.]\n",
            " [226. 257.]\n",
            " [241. 249.]\n",
            " [271. 260.]\n",
            " [432. 459.]\n",
            " [395. 360.]\n",
            " [471. 471.]\n",
            " [324. 317.]\n",
            " [337. 367.]\n",
            " [344. 185.]\n",
            " [210. 183.]\n",
            " [289. 326.]\n",
            " [175. 179.]\n",
            " [495. 538.]\n",
            " [405. 407.]\n",
            " [417. 378.]\n",
            " [237. 249.]\n",
            " [366. 239.]\n",
            " [367. 260.]\n",
            " [348. 357.]\n",
            " [454. 470.]\n",
            " [193. 262.]\n",
            " [209. 181.]\n",
            " [214. 183.]\n",
            " [304. 280.]\n",
            " [274. 244.]\n",
            " [362. 359.]\n",
            " [351. 280.]\n",
            " [333. 185.]\n",
            " [221. 240.]\n",
            " [635. 665.]\n",
            " [318. 314.]\n",
            " [359. 255.]\n",
            " [123. 135.]\n",
            " [552. 602.]\n",
            " [202. 160.]\n",
            " [305. 315.]\n",
            " [275. 260.]\n",
            " [236. 254.]\n",
            " [617. 598.]\n",
            " [180. 168.]\n",
            " [356. 352.]\n",
            " [518. 497.]\n",
            " [284. 263.]\n",
            " [363. 382.]\n",
            " [391. 278.]\n",
            " [226. 202.]\n",
            " [398. 338.]\n",
            " [162. 163.]\n",
            " [204. 217.]\n",
            " [181. 183.]\n",
            " [517. 468.]\n",
            " [314. 255.]\n",
            " [297. 260.]\n",
            " [385. 403.]\n",
            " [587. 555.]\n",
            " [238. 243.]\n",
            " [198. 256.]\n",
            " [495. 499.]\n",
            " [274. 278.]\n",
            " [412. 404.]\n",
            " [145. 153.]\n",
            " [439. 473.]\n",
            " [389. 381.]\n",
            " [262. 328.]\n",
            " [169. 161.]\n",
            " [460. 486.]\n",
            " [227. 262.]\n",
            " [233. 191.]\n",
            " [440. 393.]\n",
            " [227. 180.]\n",
            " [342. 270.]\n",
            " [385. 335.]\n",
            " [226. 194.]\n",
            " [562. 539.]\n",
            " [310. 254.]\n",
            " [338. 371.]\n",
            " [313. 258.]\n",
            " [424. 473.]\n",
            " [168. 146.]\n",
            " [218. 237.]\n",
            " [143. 146.]\n",
            " [472. 459.]\n",
            " [185. 237.]\n",
            " [243. 173.]\n",
            " [284. 235.]\n",
            " [272. 282.]\n",
            " [319. 189.]\n",
            " [201. 192.]\n",
            " [296. 277.]\n",
            " [363. 326.]\n",
            " [510. 451.]\n",
            " [471. 501.]\n",
            " [193. 199.]\n",
            " [587. 585.]\n",
            " [139. 150.]\n",
            " [185. 172.]\n",
            " [582. 599.]\n",
            " [486. 464.]\n",
            " [293. 324.]\n",
            " [563. 534.]\n",
            " [356. 191.]\n",
            " [449. 365.]\n",
            " [419. 396.]\n",
            " [220. 248.]\n",
            " [259. 224.]\n",
            " [428. 254.]\n",
            " [261. 287.]\n",
            " [237. 192.]\n",
            " [444. 432.]\n",
            " [318. 367.]\n",
            " [197. 183.]\n",
            " [462. 481.]\n",
            " [181. 240.]\n",
            " [343. 248.]\n",
            " [522. 513.]\n",
            " [185. 203.]\n",
            " [483. 426.]\n",
            " [383. 467.]]\n"
          ]
        }
      ]
    },
    {
      "cell_type": "code",
      "metadata": {
        "id": "HhjzHfwRtIYK"
      },
      "source": [
        "# test scoring\n",
        "from sklearn.metrics import r2_score\n",
        "r2_score(y_stress_test, y_stress_pred)"
      ],
      "execution_count": null,
      "outputs": []
    },
    {
      "cell_type": "code",
      "metadata": {
        "id": "mdtEX538ajVV"
      },
      "source": [
        "from sklearn.metrics import mean_squared_error\n",
        "\n",
        "loss = mean_squared_error(y_stress_test, y_stress_pred)\n",
        "print(loss)"
      ],
      "execution_count": null,
      "outputs": []
    },
    {
      "cell_type": "markdown",
      "metadata": {
        "id": "2md7grEg_GMt"
      },
      "source": [
        "# R2 score for Tensile Strength"
      ]
    },
    {
      "cell_type": "code",
      "metadata": {
        "id": "XnyxMins_EmZ",
        "colab": {
          "base_uri": "https://localhost:8080/"
        },
        "outputId": "77d02185-0b0a-42c5-8dc2-e220cf94342a"
      },
      "source": [
        "# defining variables\n",
        "df_tensile = df.copy(deep=True)\n",
        "X_tensile = df_tensile.iloc[:, :-4].values\n",
        "y_tensile = df_tensile.iloc[:, -3].values\n",
        "\n",
        "y_tensile.shape"
      ],
      "execution_count": null,
      "outputs": [
        {
          "output_type": "execute_result",
          "data": {
            "text/plain": [
              "(914,)"
            ]
          },
          "metadata": {},
          "execution_count": 66
        }
      ]
    },
    {
      "cell_type": "code",
      "metadata": {
        "id": "H-U_woDr_EhD"
      },
      "source": [
        "# splitting the dataset into the training set and test set\n",
        "from sklearn.model_selection import train_test_split\n",
        "X_tensile_train, X_tensile_test, y_tensile_train, y_tensile_test = train_test_split(X_tensile, y_tensile, test_size = 0.20, random_state=42)"
      ],
      "execution_count": null,
      "outputs": []
    },
    {
      "cell_type": "code",
      "metadata": {
        "id": "zefFrga1_Edh"
      },
      "source": [
        "# feature scaling\n",
        "from sklearn.preprocessing import StandardScaler\n",
        "sc_tensile = StandardScaler()\n",
        "X_tensile_train = sc_tensile.fit_transform(X_tensile_train)\n",
        "X_tensile_test = sc_tensile.fit_transform(X_tensile_test)"
      ],
      "execution_count": null,
      "outputs": []
    },
    {
      "cell_type": "code",
      "metadata": {
        "colab": {
          "base_uri": "https://localhost:8080/"
        },
        "id": "VPV-YbWr_Ebe",
        "outputId": "80fac509-7f2e-4e01-891e-3c42711d6996"
      },
      "source": [
        "# training the multiple Linear regression model on the training set\n",
        "from sklearn.linear_model import LinearRegression\n",
        "regressor_tensile = LinearRegression()\n",
        "regressor_tensile.fit(X_tensile_train, y_tensile_train)"
      ],
      "execution_count": null,
      "outputs": [
        {
          "output_type": "execute_result",
          "data": {
            "text/plain": [
              "LinearRegression()"
            ]
          },
          "metadata": {},
          "execution_count": 69
        }
      ]
    },
    {
      "cell_type": "code",
      "metadata": {
        "colab": {
          "base_uri": "https://localhost:8080/"
        },
        "id": "I-2IjZYpQ-q8",
        "outputId": "a86cb450-3257-4090-c33c-4516549d1c40"
      },
      "source": [
        "y_tensile_pred = regressor_tensile.predict(X_tensile_test)\n",
        "np.set_printoptions(precision=0)\n",
        "print(np.concatenate((y_tensile_pred.reshape(len(y_tensile_pred), 1), y_tensile_test.reshape(len(y_tensile_test), 1)), 1))\n"
      ],
      "execution_count": null,
      "outputs": [
        {
          "output_type": "stream",
          "name": "stdout",
          "text": [
            "[[500. 375.]\n",
            " [592. 585.]\n",
            " [490. 450.]\n",
            " [426. 464.]\n",
            " [561. 480.]\n",
            " [455. 532.]\n",
            " [584. 670.]\n",
            " [652. 611.]\n",
            " [441. 575.]\n",
            " [569. 502.]\n",
            " [371. 385.]\n",
            " [578. 450.]\n",
            " [392. 420.]\n",
            " [450. 485.]\n",
            " [302. 249.]\n",
            " [303. 221.]\n",
            " [333. 266.]\n",
            " [691. 672.]\n",
            " [661. 746.]\n",
            " [480. 431.]\n",
            " [505. 632.]\n",
            " [399. 469.]\n",
            " [461. 424.]\n",
            " [464. 397.]\n",
            " [554. 431.]\n",
            " [343. 380.]\n",
            " [337. 314.]\n",
            " [440. 364.]\n",
            " [466. 343.]\n",
            " [501. 504.]\n",
            " [419. 460.]\n",
            " [570. 636.]\n",
            " [557. 480.]\n",
            " [406. 380.]\n",
            " [476. 624.]\n",
            " [369. 300.]\n",
            " [431. 517.]\n",
            " [412. 396.]\n",
            " [493. 416.]\n",
            " [450. 473.]\n",
            " [515. 391.]\n",
            " [755. 790.]\n",
            " [583. 430.]\n",
            " [547. 408.]\n",
            " [708. 710.]\n",
            " [441. 428.]\n",
            " [555. 618.]\n",
            " [670. 661.]\n",
            " [546. 609.]\n",
            " [584. 578.]\n",
            " [530. 471.]\n",
            " [459. 544.]\n",
            " [336. 383.]\n",
            " [423. 409.]\n",
            " [572. 470.]\n",
            " [551. 442.]\n",
            " [444. 481.]\n",
            " [387. 454.]\n",
            " [673. 716.]\n",
            " [481. 558.]\n",
            " [481. 540.]\n",
            " [417. 495.]\n",
            " [460. 487.]\n",
            " [408. 454.]\n",
            " [464. 376.]\n",
            " [399. 482.]\n",
            " [412. 416.]\n",
            " [456. 557.]\n",
            " [533. 602.]\n",
            " [490. 450.]\n",
            " [567. 637.]\n",
            " [519. 556.]\n",
            " [516. 606.]\n",
            " [421. 258.]\n",
            " [392. 426.]\n",
            " [547. 710.]\n",
            " [376. 368.]\n",
            " [606. 678.]\n",
            " [507. 530.]\n",
            " [511. 532.]\n",
            " [399. 437.]\n",
            " [566. 453.]\n",
            " [593. 450.]\n",
            " [456. 433.]\n",
            " [553. 562.]\n",
            " [356. 449.]\n",
            " [365. 434.]\n",
            " [429. 425.]\n",
            " [542. 480.]\n",
            " [503. 434.]\n",
            " [642. 578.]\n",
            " [577. 440.]\n",
            " [432. 270.]\n",
            " [462. 498.]\n",
            " [782. 810.]\n",
            " [500. 546.]\n",
            " [576. 460.]\n",
            " [316. 237.]\n",
            " [670. 743.]\n",
            " [352. 417.]\n",
            " [554. 500.]\n",
            " [506. 439.]\n",
            " [417. 524.]\n",
            " [731. 747.]\n",
            " [386. 338.]\n",
            " [454. 510.]\n",
            " [603. 574.]\n",
            " [457. 541.]\n",
            " [642. 580.]\n",
            " [472. 343.]\n",
            " [410. 381.]\n",
            " [466. 405.]\n",
            " [342. 272.]\n",
            " [346. 291.]\n",
            " [360. 363.]\n",
            " [652. 592.]\n",
            " [526. 441.]\n",
            " [500. 465.]\n",
            " [485. 462.]\n",
            " [712. 680.]\n",
            " [484. 572.]\n",
            " [362. 441.]\n",
            " [610. 644.]\n",
            " [509. 456.]\n",
            " [511. 513.]\n",
            " [338. 268.]\n",
            " [541. 587.]\n",
            " [497. 556.]\n",
            " [414. 477.]\n",
            " [310. 293.]\n",
            " [569. 649.]\n",
            " [418. 442.]\n",
            " [419. 456.]\n",
            " [593. 525.]\n",
            " [413. 452.]\n",
            " [563. 480.]\n",
            " [468. 415.]\n",
            " [386. 468.]\n",
            " [684. 648.]\n",
            " [519. 559.]\n",
            " [611. 558.]\n",
            " [556. 445.]\n",
            " [515. 535.]\n",
            " [333. 253.]\n",
            " [404. 564.]\n",
            " [292. 226.]\n",
            " [584. 601.]\n",
            " [361. 487.]\n",
            " [434. 488.]\n",
            " [491. 522.]\n",
            " [526. 682.]\n",
            " [396. 269.]\n",
            " [374. 444.]\n",
            " [452. 505.]\n",
            " [538. 467.]\n",
            " [640. 578.]\n",
            " [575. 619.]\n",
            " [380. 435.]\n",
            " [724. 738.]\n",
            " [293. 220.]\n",
            " [331. 376.]\n",
            " [707. 741.]\n",
            " [586. 593.]\n",
            " [484. 459.]\n",
            " [681. 654.]\n",
            " [445. 290.]\n",
            " [536. 461.]\n",
            " [524. 571.]\n",
            " [378. 385.]\n",
            " [483. 447.]\n",
            " [517. 364.]\n",
            " [411. 461.]\n",
            " [401. 482.]\n",
            " [534. 510.]\n",
            " [442. 505.]\n",
            " [407. 382.]\n",
            " [564. 570.]\n",
            " [340. 393.]\n",
            " [562. 439.]\n",
            " [658. 642.]\n",
            " [353. 395.]\n",
            " [596. 569.]\n",
            " [478. 543.]]\n"
          ]
        }
      ]
    },
    {
      "cell_type": "code",
      "metadata": {
        "id": "sa8rtXGZ_EWa"
      },
      "source": [
        "from sklearn.metrics import r2_score\n",
        "tensile_score = r2_score(y_tensile_test, y_tensile_pred)"
      ],
      "execution_count": null,
      "outputs": []
    },
    {
      "cell_type": "code",
      "metadata": {
        "id": "_BC9d-9F_EMp",
        "colab": {
          "base_uri": "https://localhost:8080/"
        },
        "outputId": "1636a1a4-d0a5-4d66-dc9d-3b9dee913706"
      },
      "source": [
        "tensile_score"
      ],
      "execution_count": null,
      "outputs": [
        {
          "output_type": "execute_result",
          "data": {
            "text/plain": [
              "0.6290707186102571"
            ]
          },
          "metadata": {},
          "execution_count": 72
        }
      ]
    },
    {
      "cell_type": "markdown",
      "metadata": {
        "id": "NNHvD5T0fCvn"
      },
      "source": [
        "#R2 score for Elongation (%)"
      ]
    },
    {
      "cell_type": "code",
      "metadata": {
        "colab": {
          "base_uri": "https://localhost:8080/",
          "height": 142
        },
        "id": "iRMy_omxg71S",
        "outputId": "83340381-2d01-48bb-daf6-d3a998245510"
      },
      "source": [
        "df_el = df.copy(deep=True)\n",
        "df_el.head(1)"
      ],
      "execution_count": null,
      "outputs": [
        {
          "output_type": "execute_result",
          "data": {
            "text/plain": [
              "      C    Si    Mn      P      S     Ni    Cr    Mo  sqrt(Cu)    V   log(Al)  \\\n",
              "0  0.12  0.36  0.52  0.009  0.003  0.089  0.97  0.61       0.2  0.0 -5.809143   \n",
              "\n",
              "        N  Ceq  Nb + Ta   Temperature (°C)   0.2% Proof Stress (MPa)  \\\n",
              "0  0.0066  0.0      0.0                 27                       342   \n",
              "\n",
              "    Tensile Strength (MPa)  log(Elongation (%))   Reduction in Area (%)  \n",
              "0                      490             3.401197                      71  "
            ],
            "text/html": [
              "\n",
              "  <div id=\"df-714ed8da-0e51-45d6-819f-e4711c8873a1\">\n",
              "    <div class=\"colab-df-container\">\n",
              "      <div>\n",
              "<style scoped>\n",
              "    .dataframe tbody tr th:only-of-type {\n",
              "        vertical-align: middle;\n",
              "    }\n",
              "\n",
              "    .dataframe tbody tr th {\n",
              "        vertical-align: top;\n",
              "    }\n",
              "\n",
              "    .dataframe thead th {\n",
              "        text-align: right;\n",
              "    }\n",
              "</style>\n",
              "<table border=\"1\" class=\"dataframe\">\n",
              "  <thead>\n",
              "    <tr style=\"text-align: right;\">\n",
              "      <th></th>\n",
              "      <th>C</th>\n",
              "      <th>Si</th>\n",
              "      <th>Mn</th>\n",
              "      <th>P</th>\n",
              "      <th>S</th>\n",
              "      <th>Ni</th>\n",
              "      <th>Cr</th>\n",
              "      <th>Mo</th>\n",
              "      <th>sqrt(Cu)</th>\n",
              "      <th>V</th>\n",
              "      <th>log(Al)</th>\n",
              "      <th>N</th>\n",
              "      <th>Ceq</th>\n",
              "      <th>Nb + Ta</th>\n",
              "      <th>Temperature (°C)</th>\n",
              "      <th>0.2% Proof Stress (MPa)</th>\n",
              "      <th>Tensile Strength (MPa)</th>\n",
              "      <th>log(Elongation (%))</th>\n",
              "      <th>Reduction in Area (%)</th>\n",
              "    </tr>\n",
              "  </thead>\n",
              "  <tbody>\n",
              "    <tr>\n",
              "      <th>0</th>\n",
              "      <td>0.12</td>\n",
              "      <td>0.36</td>\n",
              "      <td>0.52</td>\n",
              "      <td>0.009</td>\n",
              "      <td>0.003</td>\n",
              "      <td>0.089</td>\n",
              "      <td>0.97</td>\n",
              "      <td>0.61</td>\n",
              "      <td>0.2</td>\n",
              "      <td>0.0</td>\n",
              "      <td>-5.809143</td>\n",
              "      <td>0.0066</td>\n",
              "      <td>0.0</td>\n",
              "      <td>0.0</td>\n",
              "      <td>27</td>\n",
              "      <td>342</td>\n",
              "      <td>490</td>\n",
              "      <td>3.401197</td>\n",
              "      <td>71</td>\n",
              "    </tr>\n",
              "  </tbody>\n",
              "</table>\n",
              "</div>\n",
              "      <button class=\"colab-df-convert\" onclick=\"convertToInteractive('df-714ed8da-0e51-45d6-819f-e4711c8873a1')\"\n",
              "              title=\"Convert this dataframe to an interactive table.\"\n",
              "              style=\"display:none;\">\n",
              "        \n",
              "  <svg xmlns=\"http://www.w3.org/2000/svg\" height=\"24px\"viewBox=\"0 0 24 24\"\n",
              "       width=\"24px\">\n",
              "    <path d=\"M0 0h24v24H0V0z\" fill=\"none\"/>\n",
              "    <path d=\"M18.56 5.44l.94 2.06.94-2.06 2.06-.94-2.06-.94-.94-2.06-.94 2.06-2.06.94zm-11 1L8.5 8.5l.94-2.06 2.06-.94-2.06-.94L8.5 2.5l-.94 2.06-2.06.94zm10 10l.94 2.06.94-2.06 2.06-.94-2.06-.94-.94-2.06-.94 2.06-2.06.94z\"/><path d=\"M17.41 7.96l-1.37-1.37c-.4-.4-.92-.59-1.43-.59-.52 0-1.04.2-1.43.59L10.3 9.45l-7.72 7.72c-.78.78-.78 2.05 0 2.83L4 21.41c.39.39.9.59 1.41.59.51 0 1.02-.2 1.41-.59l7.78-7.78 2.81-2.81c.8-.78.8-2.07 0-2.86zM5.41 20L4 18.59l7.72-7.72 1.47 1.35L5.41 20z\"/>\n",
              "  </svg>\n",
              "      </button>\n",
              "      \n",
              "  <style>\n",
              "    .colab-df-container {\n",
              "      display:flex;\n",
              "      flex-wrap:wrap;\n",
              "      gap: 12px;\n",
              "    }\n",
              "\n",
              "    .colab-df-convert {\n",
              "      background-color: #E8F0FE;\n",
              "      border: none;\n",
              "      border-radius: 50%;\n",
              "      cursor: pointer;\n",
              "      display: none;\n",
              "      fill: #1967D2;\n",
              "      height: 32px;\n",
              "      padding: 0 0 0 0;\n",
              "      width: 32px;\n",
              "    }\n",
              "\n",
              "    .colab-df-convert:hover {\n",
              "      background-color: #E2EBFA;\n",
              "      box-shadow: 0px 1px 2px rgba(60, 64, 67, 0.3), 0px 1px 3px 1px rgba(60, 64, 67, 0.15);\n",
              "      fill: #174EA6;\n",
              "    }\n",
              "\n",
              "    [theme=dark] .colab-df-convert {\n",
              "      background-color: #3B4455;\n",
              "      fill: #D2E3FC;\n",
              "    }\n",
              "\n",
              "    [theme=dark] .colab-df-convert:hover {\n",
              "      background-color: #434B5C;\n",
              "      box-shadow: 0px 1px 3px 1px rgba(0, 0, 0, 0.15);\n",
              "      filter: drop-shadow(0px 1px 2px rgba(0, 0, 0, 0.3));\n",
              "      fill: #FFFFFF;\n",
              "    }\n",
              "  </style>\n",
              "\n",
              "      <script>\n",
              "        const buttonEl =\n",
              "          document.querySelector('#df-714ed8da-0e51-45d6-819f-e4711c8873a1 button.colab-df-convert');\n",
              "        buttonEl.style.display =\n",
              "          google.colab.kernel.accessAllowed ? 'block' : 'none';\n",
              "\n",
              "        async function convertToInteractive(key) {\n",
              "          const element = document.querySelector('#df-714ed8da-0e51-45d6-819f-e4711c8873a1');\n",
              "          const dataTable =\n",
              "            await google.colab.kernel.invokeFunction('convertToInteractive',\n",
              "                                                     [key], {});\n",
              "          if (!dataTable) return;\n",
              "\n",
              "          const docLinkHtml = 'Like what you see? Visit the ' +\n",
              "            '<a target=\"_blank\" href=https://colab.research.google.com/notebooks/data_table.ipynb>data table notebook</a>'\n",
              "            + ' to learn more about interactive tables.';\n",
              "          element.innerHTML = '';\n",
              "          dataTable['output_type'] = 'display_data';\n",
              "          await google.colab.output.renderOutput(dataTable, element);\n",
              "          const docLink = document.createElement('div');\n",
              "          docLink.innerHTML = docLinkHtml;\n",
              "          element.appendChild(docLink);\n",
              "        }\n",
              "      </script>\n",
              "    </div>\n",
              "  </div>\n",
              "  "
            ]
          },
          "metadata": {},
          "execution_count": 73
        }
      ]
    },
    {
      "cell_type": "code",
      "metadata": {
        "id": "XGhtt_c6g7yy"
      },
      "source": [
        "X_el = df_el.iloc[:, :-4].values\n",
        "y_el = df_el.iloc[:, -2].values"
      ],
      "execution_count": null,
      "outputs": []
    },
    {
      "cell_type": "code",
      "metadata": {
        "id": "J2-H0m8Pg7su"
      },
      "source": [
        "# splitting the dataset into the training set and test set\n",
        "from sklearn.model_selection import train_test_split\n",
        "X_el_train, X_el_test, y_el_train, y_el_test = train_test_split(X_el, y_el, test_size=0.20, random_state=42)\n"
      ],
      "execution_count": null,
      "outputs": []
    },
    {
      "cell_type": "code",
      "metadata": {
        "id": "a4OJC92Kg7qK"
      },
      "source": [
        "sc_el = StandardScaler()\n",
        "X_el_train = sc_el.fit_transform(X_el_train)\n",
        "X_el_test = sc_el.fit_transform(X_el_test)"
      ],
      "execution_count": null,
      "outputs": []
    },
    {
      "cell_type": "code",
      "metadata": {
        "colab": {
          "base_uri": "https://localhost:8080/"
        },
        "id": "EXT4ZgWKg7n5",
        "outputId": "7efaa533-f39a-4d55-c06d-fdd0cdab8363"
      },
      "source": [
        "regressor_el = LinearRegression()\n",
        "regressor_el.fit(X_el_train, y_el_train)"
      ],
      "execution_count": null,
      "outputs": [
        {
          "output_type": "execute_result",
          "data": {
            "text/plain": [
              "LinearRegression()"
            ]
          },
          "metadata": {},
          "execution_count": 77
        }
      ]
    },
    {
      "cell_type": "code",
      "metadata": {
        "colab": {
          "base_uri": "https://localhost:8080/"
        },
        "id": "P5E3cQmBg7lj",
        "outputId": "36bc5105-d61e-4b29-c073-44451476c22e"
      },
      "source": [
        "y_el_pred = regressor_el.predict(X_el_test)\n",
        "np.set_printoptions(precision=1)\n",
        "print(np.concatenate((y_el_pred.reshape(len(y_el_pred),1), y_el_test.reshape(len(y_el_test),1)),1))"
      ],
      "execution_count": null,
      "outputs": [
        {
          "output_type": "stream",
          "name": "stdout",
          "text": [
            "[[3.  3.5]\n",
            " [3.2 3.1]\n",
            " [3.4 3.2]\n",
            " [3.5 3.2]\n",
            " [3.3 3.4]\n",
            " [3.2 2.9]\n",
            " [3.2 2.8]\n",
            " [2.7 2.8]\n",
            " [3.3 3.1]\n",
            " [3.1 3.5]\n",
            " [3.5 3.5]\n",
            " [3.1 3.5]\n",
            " [3.5 3.3]\n",
            " [3.3 3.1]\n",
            " [3.7 4. ]\n",
            " [3.5 3.9]\n",
            " [3.5 3.6]\n",
            " [2.9 3.1]\n",
            " [2.8 2.6]\n",
            " [3.3 3.2]\n",
            " [3.3 3.3]\n",
            " [3.5 3.5]\n",
            " [3.4 3.4]\n",
            " [3.1 3.3]\n",
            " [3.1 3.6]\n",
            " [3.5 3.4]\n",
            " [3.6 3.7]\n",
            " [3.4 3.7]\n",
            " [3.3 3.3]\n",
            " [3.  2.8]\n",
            " [3.5 3.4]\n",
            " [3.2 3.1]\n",
            " [3.1 3.5]\n",
            " [3.4 3.3]\n",
            " [3.2 3.2]\n",
            " [3.4 3.7]\n",
            " [3.3 3.3]\n",
            " [3.3 3.2]\n",
            " [2.9 2.9]\n",
            " [3.3 3.1]\n",
            " [3.1 3.2]\n",
            " [2.6 2.9]\n",
            " [3.  3.6]\n",
            " [3.2 3.4]\n",
            " [2.6 2.7]\n",
            " [3.5 3.4]\n",
            " [3.3 3.2]\n",
            " [2.7 2.8]\n",
            " [3.2 3.2]\n",
            " [3.2 2.9]\n",
            " [3.3 3.2]\n",
            " [3.3 3. ]\n",
            " [3.5 3.3]\n",
            " [3.4 3.1]\n",
            " [3.1 3.4]\n",
            " [3.2 3.3]\n",
            " [3.3 3.2]\n",
            " [3.5 3.4]\n",
            " [2.8 2.6]\n",
            " [3.2 3.1]\n",
            " [3.4 2.9]\n",
            " [3.5 3.5]\n",
            " [3.3 3.3]\n",
            " [3.5 3.3]\n",
            " [3.4 3.5]\n",
            " [3.4 3.2]\n",
            " [3.4 3.4]\n",
            " [3.3 3. ]\n",
            " [3.3 3.3]\n",
            " [3.3 3.4]\n",
            " [3.2 3. ]\n",
            " [3.2 2.9]\n",
            " [3.2 2.9]\n",
            " [3.4 3.9]\n",
            " [3.5 3.4]\n",
            " [3.3 3.1]\n",
            " [3.6 3.6]\n",
            " [2.8 2.8]\n",
            " [3.3 3.4]\n",
            " [3.3 3.4]\n",
            " [3.4 3.3]\n",
            " [3.1 3.6]\n",
            " [3.1 3.6]\n",
            " [3.4 3.3]\n",
            " [3.  2.8]\n",
            " [3.4 3.2]\n",
            " [3.5 3.3]\n",
            " [3.5 3.5]\n",
            " [3.3 3.4]\n",
            " [3.3 3.2]\n",
            " [3.1 3.3]\n",
            " [3.1 3.4]\n",
            " [3.4 3.4]\n",
            " [3.4 3.4]\n",
            " [2.6 2.9]\n",
            " [3.2 2.9]\n",
            " [3.1 3.4]\n",
            " [3.7 4.1]\n",
            " [2.7 2.7]\n",
            " [3.5 3.3]\n",
            " [3.2 3.4]\n",
            " [3.3 3.2]\n",
            " [3.4 3.2]\n",
            " [2.6 2.8]\n",
            " [3.5 3.5]\n",
            " [3.2 3.2]\n",
            " [2.9 2.9]\n",
            " [3.2 3.3]\n",
            " [3.1 3.3]\n",
            " [2.9 3.1]\n",
            " [3.5 3.6]\n",
            " [3.  3.3]\n",
            " [3.5 3.9]\n",
            " [3.4 3.8]\n",
            " [3.5 3.5]\n",
            " [3.  3.2]\n",
            " [3.2 3.4]\n",
            " [3.3 3. ]\n",
            " [3.  3. ]\n",
            " [2.6 3. ]\n",
            " [3.4 3.4]\n",
            " [3.4 3.1]\n",
            " [2.8 2.7]\n",
            " [3.4 3.1]\n",
            " [3.2 3.2]\n",
            " [3.7 3.9]\n",
            " [2.9 2.6]\n",
            " [3.2 3. ]\n",
            " [3.3 3.3]\n",
            " [3.6 3.6]\n",
            " [3.2 3. ]\n",
            " [3.4 3.4]\n",
            " [3.4 3.4]\n",
            " [3.1 3.1]\n",
            " [3.4 3.4]\n",
            " [3.1 3.5]\n",
            " [3.3 3.2]\n",
            " [3.4 3.3]\n",
            " [3.  3.2]\n",
            " [3.2 3. ]\n",
            " [3.2 3. ]\n",
            " [3.2 3.4]\n",
            " [2.9 2.7]\n",
            " [3.5 3.8]\n",
            " [3.4 3.3]\n",
            " [3.6 4. ]\n",
            " [2.9 2.7]\n",
            " [3.4 3.2]\n",
            " [3.4 3.4]\n",
            " [3.3 3.1]\n",
            " [3.3 3.3]\n",
            " [3.4 3.7]\n",
            " [3.5 3.3]\n",
            " [3.3 3.1]\n",
            " [3.1 3.3]\n",
            " [3.  3.2]\n",
            " [2.9 2.8]\n",
            " [3.4 3.3]\n",
            " [2.7 2.8]\n",
            " [3.6 3.8]\n",
            " [3.5 3.5]\n",
            " [2.8 2.6]\n",
            " [2.8 2.6]\n",
            " [3.2 3.1]\n",
            " [2.6 2.9]\n",
            " [3.4 3.7]\n",
            " [3.  3. ]\n",
            " [3.2 3.2]\n",
            " [3.4 3.5]\n",
            " [3.4 3.3]\n",
            " [3.  3.6]\n",
            " [3.4 3.2]\n",
            " [3.4 3.3]\n",
            " [3.  2.9]\n",
            " [3.3 3.2]\n",
            " [3.5 3.5]\n",
            " [2.9 2.8]\n",
            " [3.5 3.3]\n",
            " [3.2 3.2]\n",
            " [3.  3. ]\n",
            " [3.5 3.4]\n",
            " [3.1 3.2]\n",
            " [3.4 3. ]]\n"
          ]
        }
      ]
    },
    {
      "cell_type": "code",
      "metadata": {
        "colab": {
          "base_uri": "https://localhost:8080/"
        },
        "id": "5n_Coq98g7jJ",
        "outputId": "ae4fa30c-1100-4724-df44-4b90530afccb"
      },
      "source": [
        "r2_score(y_el_test, y_el_pred)"
      ],
      "execution_count": null,
      "outputs": [
        {
          "output_type": "execute_result",
          "data": {
            "text/plain": [
              "0.4915039405459004"
            ]
          },
          "metadata": {},
          "execution_count": 79
        }
      ]
    },
    {
      "cell_type": "markdown",
      "metadata": {
        "id": "GGYv-1OiTGeF"
      },
      "source": [
        "# using Random Forest Regressor for Elongation (%)"
      ]
    },
    {
      "cell_type": "code",
      "metadata": {
        "colab": {
          "base_uri": "https://localhost:8080/"
        },
        "id": "NZOJwskJg7gy",
        "outputId": "02a2e8d2-889d-44a4-b346-74e868b3cb87"
      },
      "source": [
        "# training the random forest regression model on the training set\n",
        "from sklearn.ensemble import RandomForestRegressor\n",
        "regressor_el_2 = RandomForestRegressor()\n",
        "regressor_el_2.fit(X_el_train, y_el_train)"
      ],
      "execution_count": null,
      "outputs": [
        {
          "output_type": "execute_result",
          "data": {
            "text/plain": [
              "RandomForestRegressor()"
            ]
          },
          "metadata": {},
          "execution_count": 80
        }
      ]
    },
    {
      "cell_type": "code",
      "metadata": {
        "colab": {
          "base_uri": "https://localhost:8080/"
        },
        "id": "FyThNLGWg7df",
        "outputId": "0f8dbff0-5a0d-4815-b3e5-0b818327d88a"
      },
      "source": [
        "# predicting the test set results\n",
        "el_pred = regressor_el_2.predict(X_el_test)\n",
        "np.set_printoptions(precision=1)\n",
        "print(np.concatenate((el_pred.reshape(len(el_pred),1), y_el_test.reshape(len(y_el_test),1)),1))"
      ],
      "execution_count": null,
      "outputs": [
        {
          "output_type": "stream",
          "name": "stdout",
          "text": [
            "[[3.4 3.5]\n",
            " [3.  3.1]\n",
            " [3.1 3.2]\n",
            " [3.3 3.2]\n",
            " [3.4 3.4]\n",
            " [3.1 2.9]\n",
            " [3.  2.8]\n",
            " [2.7 2.8]\n",
            " [3.3 3.1]\n",
            " [3.4 3.5]\n",
            " [3.4 3.5]\n",
            " [3.5 3.5]\n",
            " [3.3 3.3]\n",
            " [3.1 3.1]\n",
            " [3.8 4. ]\n",
            " [4.  3.9]\n",
            " [3.7 3.6]\n",
            " [3.  3.1]\n",
            " [2.6 2.6]\n",
            " [3.1 3.2]\n",
            " [3.4 3.3]\n",
            " [3.6 3.5]\n",
            " [3.5 3.4]\n",
            " [3.2 3.3]\n",
            " [3.5 3.6]\n",
            " [3.4 3.4]\n",
            " [3.6 3.7]\n",
            " [3.6 3.7]\n",
            " [3.5 3.3]\n",
            " [2.8 2.8]\n",
            " [3.4 3.4]\n",
            " [3.  3.1]\n",
            " [3.5 3.5]\n",
            " [3.5 3.3]\n",
            " [3.1 3.2]\n",
            " [3.5 3.7]\n",
            " [3.3 3.3]\n",
            " [3.1 3.2]\n",
            " [3.1 2.9]\n",
            " [3.1 3.1]\n",
            " [3.4 3.2]\n",
            " [2.9 2.9]\n",
            " [3.5 3.6]\n",
            " [3.4 3.4]\n",
            " [2.8 2.7]\n",
            " [3.5 3.4]\n",
            " [3.1 3.2]\n",
            " [2.7 2.8]\n",
            " [3.3 3.2]\n",
            " [3.  2.9]\n",
            " [3.3 3.2]\n",
            " [3.1 3. ]\n",
            " [3.4 3.3]\n",
            " [3.1 3.1]\n",
            " [3.5 3.4]\n",
            " [3.2 3.3]\n",
            " [3.2 3.2]\n",
            " [3.4 3.4]\n",
            " [2.7 2.6]\n",
            " [3.2 3.1]\n",
            " [3.  2.9]\n",
            " [3.5 3.5]\n",
            " [3.2 3.3]\n",
            " [3.3 3.3]\n",
            " [3.5 3.5]\n",
            " [3.3 3.2]\n",
            " [3.4 3.4]\n",
            " [3.1 3. ]\n",
            " [3.3 3.3]\n",
            " [3.4 3.4]\n",
            " [3.  3. ]\n",
            " [3.  2.9]\n",
            " [3.  2.9]\n",
            " [3.7 3.9]\n",
            " [3.3 3.4]\n",
            " [3.  3.1]\n",
            " [3.5 3.6]\n",
            " [2.7 2.8]\n",
            " [3.2 3.4]\n",
            " [3.3 3.4]\n",
            " [3.3 3.3]\n",
            " [3.5 3.6]\n",
            " [3.5 3.6]\n",
            " [3.4 3.3]\n",
            " [2.9 2.8]\n",
            " [3.2 3.2]\n",
            " [3.3 3.3]\n",
            " [3.4 3.5]\n",
            " [3.4 3.4]\n",
            " [3.1 3.2]\n",
            " [3.2 3.3]\n",
            " [3.5 3.4]\n",
            " [3.6 3.4]\n",
            " [3.5 3.4]\n",
            " [2.9 2.9]\n",
            " [3.  2.9]\n",
            " [3.5 3.4]\n",
            " [4.  4.1]\n",
            " [2.7 2.7]\n",
            " [3.3 3.3]\n",
            " [3.4 3.4]\n",
            " [3.1 3.2]\n",
            " [3.3 3.2]\n",
            " [2.7 2.8]\n",
            " [3.5 3.5]\n",
            " [3.2 3.2]\n",
            " [2.9 2.9]\n",
            " [3.2 3.3]\n",
            " [3.2 3.3]\n",
            " [3.2 3.1]\n",
            " [3.5 3.6]\n",
            " [3.2 3.3]\n",
            " [3.7 3.9]\n",
            " [3.8 3.8]\n",
            " [3.5 3.5]\n",
            " [3.2 3.2]\n",
            " [3.4 3.4]\n",
            " [3.1 3. ]\n",
            " [2.9 3. ]\n",
            " [2.8 3. ]\n",
            " [3.4 3.4]\n",
            " [3.2 3.1]\n",
            " [2.6 2.7]\n",
            " [3.  3.1]\n",
            " [3.3 3.2]\n",
            " [3.7 3.9]\n",
            " [2.8 2.6]\n",
            " [3.1 3. ]\n",
            " [3.3 3.3]\n",
            " [3.6 3.6]\n",
            " [3.  3. ]\n",
            " [3.4 3.4]\n",
            " [3.4 3.4]\n",
            " [3.1 3.1]\n",
            " [3.3 3.4]\n",
            " [3.5 3.5]\n",
            " [3.4 3.2]\n",
            " [3.3 3.3]\n",
            " [3.1 3.2]\n",
            " [3.1 3. ]\n",
            " [3.  3. ]\n",
            " [3.2 3.4]\n",
            " [2.9 2.7]\n",
            " [3.7 3.8]\n",
            " [3.3 3.3]\n",
            " [4.  4. ]\n",
            " [2.8 2.7]\n",
            " [3.3 3.2]\n",
            " [3.4 3.4]\n",
            " [3.2 3.1]\n",
            " [3.1 3.3]\n",
            " [3.7 3.7]\n",
            " [3.3 3.3]\n",
            " [3.1 3.1]\n",
            " [3.3 3.3]\n",
            " [3.2 3.2]\n",
            " [2.7 2.8]\n",
            " [3.3 3.3]\n",
            " [2.7 2.8]\n",
            " [4.  3.8]\n",
            " [3.4 3.5]\n",
            " [2.7 2.6]\n",
            " [2.6 2.6]\n",
            " [3.1 3.1]\n",
            " [2.7 2.9]\n",
            " [3.5 3.7]\n",
            " [3.2 3. ]\n",
            " [3.1 3.2]\n",
            " [3.3 3.5]\n",
            " [3.2 3.3]\n",
            " [3.5 3.6]\n",
            " [3.3 3.2]\n",
            " [3.3 3.3]\n",
            " [3.  2.9]\n",
            " [3.1 3.2]\n",
            " [3.5 3.5]\n",
            " [2.8 2.8]\n",
            " [3.4 3.3]\n",
            " [3.1 3.2]\n",
            " [3.  3. ]\n",
            " [3.4 3.4]\n",
            " [3.1 3.2]\n",
            " [3.2 3. ]]\n"
          ]
        }
      ]
    },
    {
      "cell_type": "code",
      "metadata": {
        "colab": {
          "base_uri": "https://localhost:8080/"
        },
        "id": "2H6_zIHlg7Y5",
        "outputId": "0cabf1cc-52d5-447c-aed7-e01ba60cb655"
      },
      "source": [
        "from sklearn.metrics import r2_score\n",
        "score_el = r2_score(el_pred, y_el_test)\n",
        "score_el"
      ],
      "execution_count": null,
      "outputs": [
        {
          "output_type": "execute_result",
          "data": {
            "text/plain": [
              "0.8832519523169765"
            ]
          },
          "metadata": {},
          "execution_count": 82
        }
      ]
    },
    {
      "cell_type": "markdown",
      "metadata": {
        "id": "VBUvYbkmXC6y"
      },
      "source": [
        "# R2_score for Reduction in Area"
      ]
    },
    {
      "cell_type": "code",
      "metadata": {
        "colab": {
          "base_uri": "https://localhost:8080/",
          "height": 142
        },
        "id": "StLpUZGvXUJl",
        "outputId": "c3796628-bb3b-4147-a345-b069167b407d"
      },
      "source": [
        "df_re = df.copy(deep=True)\n",
        "df_re.head(1)"
      ],
      "execution_count": null,
      "outputs": [
        {
          "output_type": "execute_result",
          "data": {
            "text/plain": [
              "      C    Si    Mn      P      S     Ni    Cr    Mo  sqrt(Cu)    V   log(Al)  \\\n",
              "0  0.12  0.36  0.52  0.009  0.003  0.089  0.97  0.61       0.2  0.0 -5.809143   \n",
              "\n",
              "        N  Ceq  Nb + Ta   Temperature (°C)   0.2% Proof Stress (MPa)  \\\n",
              "0  0.0066  0.0      0.0                 27                       342   \n",
              "\n",
              "    Tensile Strength (MPa)  log(Elongation (%))   Reduction in Area (%)  \n",
              "0                      490             3.401197                      71  "
            ],
            "text/html": [
              "\n",
              "  <div id=\"df-fbc70e28-0538-4356-944d-ce24a7e7f66c\">\n",
              "    <div class=\"colab-df-container\">\n",
              "      <div>\n",
              "<style scoped>\n",
              "    .dataframe tbody tr th:only-of-type {\n",
              "        vertical-align: middle;\n",
              "    }\n",
              "\n",
              "    .dataframe tbody tr th {\n",
              "        vertical-align: top;\n",
              "    }\n",
              "\n",
              "    .dataframe thead th {\n",
              "        text-align: right;\n",
              "    }\n",
              "</style>\n",
              "<table border=\"1\" class=\"dataframe\">\n",
              "  <thead>\n",
              "    <tr style=\"text-align: right;\">\n",
              "      <th></th>\n",
              "      <th>C</th>\n",
              "      <th>Si</th>\n",
              "      <th>Mn</th>\n",
              "      <th>P</th>\n",
              "      <th>S</th>\n",
              "      <th>Ni</th>\n",
              "      <th>Cr</th>\n",
              "      <th>Mo</th>\n",
              "      <th>sqrt(Cu)</th>\n",
              "      <th>V</th>\n",
              "      <th>log(Al)</th>\n",
              "      <th>N</th>\n",
              "      <th>Ceq</th>\n",
              "      <th>Nb + Ta</th>\n",
              "      <th>Temperature (°C)</th>\n",
              "      <th>0.2% Proof Stress (MPa)</th>\n",
              "      <th>Tensile Strength (MPa)</th>\n",
              "      <th>log(Elongation (%))</th>\n",
              "      <th>Reduction in Area (%)</th>\n",
              "    </tr>\n",
              "  </thead>\n",
              "  <tbody>\n",
              "    <tr>\n",
              "      <th>0</th>\n",
              "      <td>0.12</td>\n",
              "      <td>0.36</td>\n",
              "      <td>0.52</td>\n",
              "      <td>0.009</td>\n",
              "      <td>0.003</td>\n",
              "      <td>0.089</td>\n",
              "      <td>0.97</td>\n",
              "      <td>0.61</td>\n",
              "      <td>0.2</td>\n",
              "      <td>0.0</td>\n",
              "      <td>-5.809143</td>\n",
              "      <td>0.0066</td>\n",
              "      <td>0.0</td>\n",
              "      <td>0.0</td>\n",
              "      <td>27</td>\n",
              "      <td>342</td>\n",
              "      <td>490</td>\n",
              "      <td>3.401197</td>\n",
              "      <td>71</td>\n",
              "    </tr>\n",
              "  </tbody>\n",
              "</table>\n",
              "</div>\n",
              "      <button class=\"colab-df-convert\" onclick=\"convertToInteractive('df-fbc70e28-0538-4356-944d-ce24a7e7f66c')\"\n",
              "              title=\"Convert this dataframe to an interactive table.\"\n",
              "              style=\"display:none;\">\n",
              "        \n",
              "  <svg xmlns=\"http://www.w3.org/2000/svg\" height=\"24px\"viewBox=\"0 0 24 24\"\n",
              "       width=\"24px\">\n",
              "    <path d=\"M0 0h24v24H0V0z\" fill=\"none\"/>\n",
              "    <path d=\"M18.56 5.44l.94 2.06.94-2.06 2.06-.94-2.06-.94-.94-2.06-.94 2.06-2.06.94zm-11 1L8.5 8.5l.94-2.06 2.06-.94-2.06-.94L8.5 2.5l-.94 2.06-2.06.94zm10 10l.94 2.06.94-2.06 2.06-.94-2.06-.94-.94-2.06-.94 2.06-2.06.94z\"/><path d=\"M17.41 7.96l-1.37-1.37c-.4-.4-.92-.59-1.43-.59-.52 0-1.04.2-1.43.59L10.3 9.45l-7.72 7.72c-.78.78-.78 2.05 0 2.83L4 21.41c.39.39.9.59 1.41.59.51 0 1.02-.2 1.41-.59l7.78-7.78 2.81-2.81c.8-.78.8-2.07 0-2.86zM5.41 20L4 18.59l7.72-7.72 1.47 1.35L5.41 20z\"/>\n",
              "  </svg>\n",
              "      </button>\n",
              "      \n",
              "  <style>\n",
              "    .colab-df-container {\n",
              "      display:flex;\n",
              "      flex-wrap:wrap;\n",
              "      gap: 12px;\n",
              "    }\n",
              "\n",
              "    .colab-df-convert {\n",
              "      background-color: #E8F0FE;\n",
              "      border: none;\n",
              "      border-radius: 50%;\n",
              "      cursor: pointer;\n",
              "      display: none;\n",
              "      fill: #1967D2;\n",
              "      height: 32px;\n",
              "      padding: 0 0 0 0;\n",
              "      width: 32px;\n",
              "    }\n",
              "\n",
              "    .colab-df-convert:hover {\n",
              "      background-color: #E2EBFA;\n",
              "      box-shadow: 0px 1px 2px rgba(60, 64, 67, 0.3), 0px 1px 3px 1px rgba(60, 64, 67, 0.15);\n",
              "      fill: #174EA6;\n",
              "    }\n",
              "\n",
              "    [theme=dark] .colab-df-convert {\n",
              "      background-color: #3B4455;\n",
              "      fill: #D2E3FC;\n",
              "    }\n",
              "\n",
              "    [theme=dark] .colab-df-convert:hover {\n",
              "      background-color: #434B5C;\n",
              "      box-shadow: 0px 1px 3px 1px rgba(0, 0, 0, 0.15);\n",
              "      filter: drop-shadow(0px 1px 2px rgba(0, 0, 0, 0.3));\n",
              "      fill: #FFFFFF;\n",
              "    }\n",
              "  </style>\n",
              "\n",
              "      <script>\n",
              "        const buttonEl =\n",
              "          document.querySelector('#df-fbc70e28-0538-4356-944d-ce24a7e7f66c button.colab-df-convert');\n",
              "        buttonEl.style.display =\n",
              "          google.colab.kernel.accessAllowed ? 'block' : 'none';\n",
              "\n",
              "        async function convertToInteractive(key) {\n",
              "          const element = document.querySelector('#df-fbc70e28-0538-4356-944d-ce24a7e7f66c');\n",
              "          const dataTable =\n",
              "            await google.colab.kernel.invokeFunction('convertToInteractive',\n",
              "                                                     [key], {});\n",
              "          if (!dataTable) return;\n",
              "\n",
              "          const docLinkHtml = 'Like what you see? Visit the ' +\n",
              "            '<a target=\"_blank\" href=https://colab.research.google.com/notebooks/data_table.ipynb>data table notebook</a>'\n",
              "            + ' to learn more about interactive tables.';\n",
              "          element.innerHTML = '';\n",
              "          dataTable['output_type'] = 'display_data';\n",
              "          await google.colab.output.renderOutput(dataTable, element);\n",
              "          const docLink = document.createElement('div');\n",
              "          docLink.innerHTML = docLinkHtml;\n",
              "          element.appendChild(docLink);\n",
              "        }\n",
              "      </script>\n",
              "    </div>\n",
              "  </div>\n",
              "  "
            ]
          },
          "metadata": {},
          "execution_count": 83
        }
      ]
    },
    {
      "cell_type": "code",
      "metadata": {
        "id": "ycDez1t_XUDP"
      },
      "source": [
        "X_re = df_re.iloc[:, :-4].values\n",
        "y_re = df_re.iloc[:, -1].values"
      ],
      "execution_count": null,
      "outputs": []
    },
    {
      "cell_type": "code",
      "metadata": {
        "id": "zg6H1X4iXUAq"
      },
      "source": [
        "# splitting the dataset into the training set and test set\n",
        "from sklearn.model_selection import train_test_split\n",
        "X_re_train, X_re_test, y_re_train, y_re_test = train_test_split(X_re, y_re, test_size=0.20, random_state=42)\n"
      ],
      "execution_count": null,
      "outputs": []
    },
    {
      "cell_type": "code",
      "metadata": {
        "id": "AvaZdG3UXT-Y"
      },
      "source": [
        "sc_re = StandardScaler()\n",
        "X_re_train = sc_re.fit_transform(X_re_train)\n",
        "X_re_test = sc_re.fit_transform(X_re_test)"
      ],
      "execution_count": null,
      "outputs": []
    },
    {
      "cell_type": "code",
      "metadata": {
        "colab": {
          "base_uri": "https://localhost:8080/"
        },
        "id": "gXIbiC4fXT73",
        "outputId": "b552e8ef-bbc2-427a-91c2-75c943fce7c3"
      },
      "source": [
        "regressor_re = LinearRegression()\n",
        "regressor_re.fit(X_re_train, y_re_train)"
      ],
      "execution_count": null,
      "outputs": [
        {
          "output_type": "execute_result",
          "data": {
            "text/plain": [
              "LinearRegression()"
            ]
          },
          "metadata": {},
          "execution_count": 87
        }
      ]
    },
    {
      "cell_type": "code",
      "metadata": {
        "colab": {
          "base_uri": "https://localhost:8080/"
        },
        "id": "QXpmt7ICXTmu",
        "outputId": "e0d72fb1-874c-4ede-cdcd-de5eebb63ac0"
      },
      "source": [
        "y_re_pred = regressor_re.predict(X_re_test)\n",
        "np.set_printoptions(precision=1)\n",
        "print(np.concatenate((y_re_pred.reshape(len(y_re_pred),1), y_re_test.reshape(len(y_re_test),1)),1))"
      ],
      "execution_count": null,
      "outputs": [
        {
          "output_type": "stream",
          "name": "stdout",
          "text": [
            "[[70.3 91. ]\n",
            " [75.9 72. ]\n",
            " [63.5 61. ]\n",
            " [69.  63. ]\n",
            " [57.1 58. ]\n",
            " [72.2 45. ]\n",
            " [73.2 64. ]\n",
            " [53.6 59. ]\n",
            " [68.8 60. ]\n",
            " [65.8 76. ]\n",
            " [79.1 85. ]\n",
            " [61.9 65. ]\n",
            " [78.5 82. ]\n",
            " [76.8 69. ]\n",
            " [74.5 83. ]\n",
            " [88.6 91. ]\n",
            " [76.5 85. ]\n",
            " [66.2 71. ]\n",
            " [67.2 51. ]\n",
            " [72.1 72. ]\n",
            " [66.8 65. ]\n",
            " [66.2 67. ]\n",
            " [84.3 90. ]\n",
            " [72.8 81. ]\n",
            " [65.8 76. ]\n",
            " [86.  85. ]\n",
            " [72.8 69. ]\n",
            " [86.1 90. ]\n",
            " [81.7 89. ]\n",
            " [69.1 58. ]\n",
            " [66.1 55. ]\n",
            " [77.  64. ]\n",
            " [58.8 75. ]\n",
            " [69.2 73. ]\n",
            " [70.1 52. ]\n",
            " [81.4 88. ]\n",
            " [72.9 64. ]\n",
            " [77.7 79. ]\n",
            " [63.8 77. ]\n",
            " [71.4 69. ]\n",
            " [79.7 89. ]\n",
            " [49.3 57. ]\n",
            " [51.5 71. ]\n",
            " [64.6 67. ]\n",
            " [51.7 36. ]\n",
            " [72.3 78. ]\n",
            " [79.8 71. ]\n",
            " [54.  62. ]\n",
            " [78.8 75. ]\n",
            " [70.  66. ]\n",
            " [59.7 55. ]\n",
            " [70.7 50. ]\n",
            " [80.5 82. ]\n",
            " [79.  78. ]\n",
            " [61.  65. ]\n",
            " [62.7 67. ]\n",
            " [77.2 72. ]\n",
            " [67.2 58. ]\n",
            " [66.9 55. ]\n",
            " [73.3 60. ]\n",
            " [60.8 52. ]\n",
            " [66.3 65. ]\n",
            " [65.8 42. ]\n",
            " [65.4 56. ]\n",
            " [86.2 85. ]\n",
            " [77.4 73. ]\n",
            " [71.7 72. ]\n",
            " [71.  50. ]\n",
            " [81.6 76. ]\n",
            " [79.  83. ]\n",
            " [77.  68. ]\n",
            " [62.6 47. ]\n",
            " [65.6 48. ]\n",
            " [84.3 82. ]\n",
            " [77.3 81. ]\n",
            " [63.2 48. ]\n",
            " [69.8 71. ]\n",
            " [61.2 55. ]\n",
            " [83.2 82. ]\n",
            " [81.6 79. ]\n",
            " [70.6 68. ]\n",
            " [66.8 72. ]\n",
            " [61.1 72. ]\n",
            " [81.  77. ]\n",
            " [66.6 64. ]\n",
            " [79.5 76. ]\n",
            " [84.1 82. ]\n",
            " [66.8 61. ]\n",
            " [58.5 64. ]\n",
            " [57.3 63. ]\n",
            " [54.3 70. ]\n",
            " [55.5 70. ]\n",
            " [80.7 77. ]\n",
            " [69.9 72. ]\n",
            " [48.9 63. ]\n",
            " [60.6 51. ]\n",
            " [60.7 65. ]\n",
            " [78.3 89. ]\n",
            " [60.1 56. ]\n",
            " [83.1 81. ]\n",
            " [54.5 64. ]\n",
            " [57.  62. ]\n",
            " [73.7 60. ]\n",
            " [58.3 59. ]\n",
            " [70.5 77. ]\n",
            " [74.1 65. ]\n",
            " [69.3 73. ]\n",
            " [64.3 54. ]\n",
            " [55.  70. ]\n",
            " [65.6 82. ]\n",
            " [73.1 77. ]\n",
            " [75.4 84. ]\n",
            " [80.5 89. ]\n",
            " [80.2 84. ]\n",
            " [79.2 83. ]\n",
            " [61.7 73. ]\n",
            " [61.5 76. ]\n",
            " [68.9 54. ]\n",
            " [70.9 75. ]\n",
            " [54.7 69. ]\n",
            " [68.  67. ]\n",
            " [79.6 77. ]\n",
            " [57.2 46. ]\n",
            " [61.2 60. ]\n",
            " [77.2 78. ]\n",
            " [76.2 82. ]\n",
            " [66.2 51. ]\n",
            " [70.4 60. ]\n",
            " [75.8 71. ]\n",
            " [86.8 88. ]\n",
            " [76.5 73. ]\n",
            " [69.2 69. ]\n",
            " [75.6 76. ]\n",
            " [64.4 69. ]\n",
            " [75.5 75. ]\n",
            " [58.7 75. ]\n",
            " [85.4 87. ]\n",
            " [82.3 77. ]\n",
            " [66.9 72. ]\n",
            " [67.5 55. ]\n",
            " [57.  65. ]\n",
            " [55.8 55. ]\n",
            " [62.  68. ]\n",
            " [76.8 87. ]\n",
            " [72.4 66. ]\n",
            " [86.6 92. ]\n",
            " [62.5 56. ]\n",
            " [76.  70. ]\n",
            " [74.8 73. ]\n",
            " [61.9 47. ]\n",
            " [65.  56. ]\n",
            " [84.3 74. ]\n",
            " [78.1 71. ]\n",
            " [75.8 67. ]\n",
            " [68.5 76. ]\n",
            " [63.3 71. ]\n",
            " [64.8 61. ]\n",
            " [74.1 79. ]\n",
            " [52.  57. ]\n",
            " [84.2 90. ]\n",
            " [85.  85. ]\n",
            " [63.2 52. ]\n",
            " [61.8 54. ]\n",
            " [68.5 67. ]\n",
            " [57.4 68. ]\n",
            " [83.5 91. ]\n",
            " [77.9 85. ]\n",
            " [73.3 62. ]\n",
            " [72.4 77. ]\n",
            " [60.6 58. ]\n",
            " [71.7 92. ]\n",
            " [84.9 81. ]\n",
            " [79.5 76. ]\n",
            " [74.  77. ]\n",
            " [76.4 75. ]\n",
            " [68.7 74. ]\n",
            " [64.8 65. ]\n",
            " [81.4 81. ]\n",
            " [63.8 66. ]\n",
            " [65.2 71. ]\n",
            " [79.9 78. ]\n",
            " [74.2 74. ]\n",
            " [82.4 76. ]]\n"
          ]
        }
      ]
    },
    {
      "cell_type": "code",
      "metadata": {
        "colab": {
          "base_uri": "https://localhost:8080/"
        },
        "id": "jy7aprGag7Na",
        "outputId": "ac7858c7-138c-473b-f0bd-b86e9e8c9066"
      },
      "source": [
        "score_re = r2_score(y_re_test, y_re_pred)\n",
        "score_re"
      ],
      "execution_count": null,
      "outputs": [
        {
          "output_type": "execute_result",
          "data": {
            "text/plain": [
              "0.4357162582857148"
            ]
          },
          "metadata": {},
          "execution_count": 89
        }
      ]
    },
    {
      "cell_type": "markdown",
      "metadata": {
        "id": "w-muvB8Ja5l6"
      },
      "source": [
        "# using Random Forest Regressor for Reduction in area"
      ]
    },
    {
      "cell_type": "code",
      "metadata": {
        "colab": {
          "base_uri": "https://localhost:8080/"
        },
        "id": "yTBQAa3da5R_",
        "outputId": "be09aa9c-d793-4f7c-904e-d73f7311e443"
      },
      "source": [
        "# training the random forest regression model on the training set\n",
        "from sklearn.ensemble import RandomForestRegressor\n",
        "regressor_re_2 = RandomForestRegressor()\n",
        "regressor_re_2.fit(X_re_train, y_re_train)"
      ],
      "execution_count": null,
      "outputs": [
        {
          "output_type": "execute_result",
          "data": {
            "text/plain": [
              "RandomForestRegressor()"
            ]
          },
          "metadata": {},
          "execution_count": 90
        }
      ]
    },
    {
      "cell_type": "code",
      "metadata": {
        "colab": {
          "base_uri": "https://localhost:8080/"
        },
        "id": "764o_Gmfa5Oa",
        "outputId": "2514b8be-f656-486c-ca9b-4e7bcdb786b6"
      },
      "source": [
        "# predicting the test set results\n",
        "re_pred_2 = regressor_re_2.predict(X_re_test)\n",
        "np.set_printoptions(precision=1)\n",
        "print(np.concatenate((re_pred_2.reshape(len(re_pred_2),1), y_re_test.reshape(len(y_re_test),1)),1))"
      ],
      "execution_count": null,
      "outputs": [
        {
          "output_type": "stream",
          "name": "stdout",
          "text": [
            "[[85.3 91. ]\n",
            " [72.8 72. ]\n",
            " [52.  61. ]\n",
            " [61.3 63. ]\n",
            " [62.6 58. ]\n",
            " [65.4 45. ]\n",
            " [65.8 64. ]\n",
            " [41.7 59. ]\n",
            " [63.9 60. ]\n",
            " [74.6 76. ]\n",
            " [82.5 85. ]\n",
            " [67.6 65. ]\n",
            " [82.9 82. ]\n",
            " [69.5 69. ]\n",
            " [81.  83. ]\n",
            " [91.4 91. ]\n",
            " [84.  85. ]\n",
            " [70.8 71. ]\n",
            " [52.4 51. ]\n",
            " [71.1 72. ]\n",
            " [63.3 65. ]\n",
            " [66.  67. ]\n",
            " [82.8 90. ]\n",
            " [84.1 81. ]\n",
            " [74.3 76. ]\n",
            " [86.4 85. ]\n",
            " [75.7 69. ]\n",
            " [75.1 90. ]\n",
            " [70.7 89. ]\n",
            " [65.9 58. ]\n",
            " [57.1 55. ]\n",
            " [66.4 64. ]\n",
            " [71.9 75. ]\n",
            " [77.4 73. ]\n",
            " [49.3 52. ]\n",
            " [85.1 88. ]\n",
            " [68.5 64. ]\n",
            " [76.4 79. ]\n",
            " [75.1 77. ]\n",
            " [69.  69. ]\n",
            " [90.8 89. ]\n",
            " [55.3 57. ]\n",
            " [65.2 71. ]\n",
            " [67.3 67. ]\n",
            " [48.9 36. ]\n",
            " [79.  78. ]\n",
            " [70.5 71. ]\n",
            " [57.8 62. ]\n",
            " [71.5 75. ]\n",
            " [63.6 66. ]\n",
            " [61.  55. ]\n",
            " [50.  50. ]\n",
            " [84.3 82. ]\n",
            " [79.4 78. ]\n",
            " [65.9 65. ]\n",
            " [66.7 67. ]\n",
            " [71.9 72. ]\n",
            " [62.  58. ]\n",
            " [55.7 55. ]\n",
            " [62.  60. ]\n",
            " [52.1 52. ]\n",
            " [63.6 65. ]\n",
            " [60.9 42. ]\n",
            " [57.1 56. ]\n",
            " [72.  85. ]\n",
            " [74.6 73. ]\n",
            " [71.3 72. ]\n",
            " [51.9 50. ]\n",
            " [77.  76. ]\n",
            " [81.5 83. ]\n",
            " [66.4 68. ]\n",
            " [41.5 47. ]\n",
            " [54.5 48. ]\n",
            " [63.3 82. ]\n",
            " [76.8 81. ]\n",
            " [51.6 48. ]\n",
            " [68.2 71. ]\n",
            " [54.6 55. ]\n",
            " [80.5 82. ]\n",
            " [78.5 79. ]\n",
            " [69.  68. ]\n",
            " [73.3 72. ]\n",
            " [67.4 72. ]\n",
            " [76.8 77. ]\n",
            " [69.8 64. ]\n",
            " [79.7 76. ]\n",
            " [83.5 82. ]\n",
            " [65.5 61. ]\n",
            " [62.3 64. ]\n",
            " [62.4 63. ]\n",
            " [63.7 70. ]\n",
            " [67.7 70. ]\n",
            " [64.4 77. ]\n",
            " [72.2 72. ]\n",
            " [57.1 63. ]\n",
            " [53.2 51. ]\n",
            " [64.5 65. ]\n",
            " [87.5 89. ]\n",
            " [52.9 56. ]\n",
            " [82.6 81. ]\n",
            " [62.8 64. ]\n",
            " [62.5 62. ]\n",
            " [64.4 60. ]\n",
            " [51.5 59. ]\n",
            " [77.  77. ]\n",
            " [65.2 65. ]\n",
            " [65.1 73. ]\n",
            " [50.5 54. ]\n",
            " [64.5 70. ]\n",
            " [81.5 82. ]\n",
            " [78.  77. ]\n",
            " [83.9 84. ]\n",
            " [85.1 89. ]\n",
            " [84.7 84. ]\n",
            " [84.7 83. ]\n",
            " [70.7 73. ]\n",
            " [71.9 76. ]\n",
            " [62.5 54. ]\n",
            " [75.4 75. ]\n",
            " [58.5 69. ]\n",
            " [67.9 67. ]\n",
            " [80.2 77. ]\n",
            " [40.5 46. ]\n",
            " [60.7 60. ]\n",
            " [80.2 78. ]\n",
            " [82.  82. ]\n",
            " [61.4 51. ]\n",
            " [62.7 60. ]\n",
            " [69.  71. ]\n",
            " [87.7 88. ]\n",
            " [68.  73. ]\n",
            " [69.6 69. ]\n",
            " [73.1 76. ]\n",
            " [69.4 69. ]\n",
            " [73.4 75. ]\n",
            " [69.8 75. ]\n",
            " [73.3 87. ]\n",
            " [76.5 77. ]\n",
            " [71.4 72. ]\n",
            " [55.2 55. ]\n",
            " [62.  65. ]\n",
            " [55.4 55. ]\n",
            " [66.6 68. ]\n",
            " [84.2 87. ]\n",
            " [68.8 66. ]\n",
            " [91.  92. ]\n",
            " [59.1 56. ]\n",
            " [78.8 70. ]\n",
            " [72.7 73. ]\n",
            " [49.1 47. ]\n",
            " [53.2 56. ]\n",
            " [62.  74. ]\n",
            " [73.8 71. ]\n",
            " [71.2 67. ]\n",
            " [74.5 76. ]\n",
            " [71.6 71. ]\n",
            " [55.6 61. ]\n",
            " [73.  79. ]\n",
            " [53.9 57. ]\n",
            " [89.6 90. ]\n",
            " [86.  85. ]\n",
            " [52.4 52. ]\n",
            " [46.2 54. ]\n",
            " [65.8 67. ]\n",
            " [57.4 68. ]\n",
            " [64.8 91. ]\n",
            " [86.  85. ]\n",
            " [66.5 62. ]\n",
            " [79.9 77. ]\n",
            " [52.4 58. ]\n",
            " [85.2 92. ]\n",
            " [74.2 81. ]\n",
            " [75.6 76. ]\n",
            " [78.8 77. ]\n",
            " [71.  75. ]\n",
            " [69.6 74. ]\n",
            " [65.3 65. ]\n",
            " [85.1 81. ]\n",
            " [65.4 66. ]\n",
            " [68.3 71. ]\n",
            " [79.6 78. ]\n",
            " [70.8 74. ]\n",
            " [75.1 76. ]]\n"
          ]
        }
      ]
    },
    {
      "cell_type": "code",
      "metadata": {
        "colab": {
          "base_uri": "https://localhost:8080/"
        },
        "id": "AAiLW3XBa5Lv",
        "outputId": "21fe99fa-42ed-46ea-98b9-65bfa825f0dc"
      },
      "source": [
        "score_re = r2_score(y_re_test, re_pred_2)\n",
        "score_re"
      ],
      "execution_count": null,
      "outputs": [
        {
          "output_type": "execute_result",
          "data": {
            "text/plain": [
              "0.7755050935707176"
            ]
          },
          "metadata": {},
          "execution_count": 92
        }
      ]
    },
    {
      "cell_type": "markdown",
      "metadata": {
        "id": "v_MEx9NBdlD6"
      },
      "source": [
        "# Conclusion\n",
        "Random Forest Regressor is giving better output as compared to Linear Regression in both the cases where Linear Regression is lagging. "
      ]
    },
    {
      "cell_type": "markdown",
      "metadata": {
        "id": "ezw-Pueca5JL"
      },
      "source": [
        "# R2 Scores\n",
        "****\n",
        "r2 score for 0.2% proof strength using Linear Regression - **0.8239**\n",
        "****\n",
        "r2 score for Tensile Strength using Linear Regression - **0.6290**\n",
        "****\n",
        "r2 score for Elongation(%) using Linear Regression - **0.4915** \n",
        "r2 score for Elongation(%) using Random Forest Regression - **0.8735**\n",
        "****\n",
        "r2 score for Reduction in Area using Linear regression - **0.4357**\n",
        "r2 score for Reduction in Area using Random Forest Regression - **0.7567**\n",
        "****\n",
        "\n",
        "\n",
        "\n",
        "\n"
      ]
    },
    {
      "cell_type": "code",
      "source": [],
      "metadata": {
        "id": "tESUBtd3tsgO"
      },
      "execution_count": null,
      "outputs": []
    },
    {
      "cell_type": "code",
      "source": [],
      "metadata": {
        "id": "DwEOfr9ptscw"
      },
      "execution_count": null,
      "outputs": []
    },
    {
      "cell_type": "code",
      "source": [],
      "metadata": {
        "id": "4L1nHFjOtsaR"
      },
      "execution_count": null,
      "outputs": []
    },
    {
      "cell_type": "code",
      "source": [],
      "metadata": {
        "id": "5NEg8z1rtsXy"
      },
      "execution_count": null,
      "outputs": []
    },
    {
      "cell_type": "code",
      "source": [],
      "metadata": {
        "id": "3IUPT2JvtsVE"
      },
      "execution_count": null,
      "outputs": []
    },
    {
      "cell_type": "code",
      "source": [],
      "metadata": {
        "id": "kgfM8mrVtsSG"
      },
      "execution_count": null,
      "outputs": []
    },
    {
      "cell_type": "code",
      "source": [],
      "metadata": {
        "id": "FpSr3mkYtsPi"
      },
      "execution_count": null,
      "outputs": []
    },
    {
      "cell_type": "code",
      "source": [],
      "metadata": {
        "id": "VYBQotAHtsM4"
      },
      "execution_count": null,
      "outputs": []
    },
    {
      "cell_type": "code",
      "source": [],
      "metadata": {
        "id": "36XnmLgItsKd"
      },
      "execution_count": null,
      "outputs": []
    },
    {
      "cell_type": "code",
      "source": [],
      "metadata": {
        "id": "D-3if00DtsHy"
      },
      "execution_count": null,
      "outputs": []
    },
    {
      "cell_type": "code",
      "source": [],
      "metadata": {
        "id": "Z2zs9yuqtsE6"
      },
      "execution_count": null,
      "outputs": []
    },
    {
      "cell_type": "code",
      "source": [],
      "metadata": {
        "id": "PFyFvHFjtsCl"
      },
      "execution_count": null,
      "outputs": []
    },
    {
      "cell_type": "code",
      "source": [],
      "metadata": {
        "id": "FDY2Ft5vtr_l"
      },
      "execution_count": null,
      "outputs": []
    },
    {
      "cell_type": "code",
      "source": [],
      "metadata": {
        "id": "mYX3Dq6Ktr9M"
      },
      "execution_count": null,
      "outputs": []
    },
    {
      "cell_type": "code",
      "source": [],
      "metadata": {
        "id": "PJMrG_Txtr6t"
      },
      "execution_count": null,
      "outputs": []
    },
    {
      "cell_type": "code",
      "source": [],
      "metadata": {
        "id": "YpboVFfFtr4M"
      },
      "execution_count": null,
      "outputs": []
    },
    {
      "cell_type": "code",
      "source": [],
      "metadata": {
        "id": "BYx2ofYbtr1t"
      },
      "execution_count": null,
      "outputs": []
    },
    {
      "cell_type": "code",
      "source": [],
      "metadata": {
        "id": "z_V_YgILtrzJ"
      },
      "execution_count": null,
      "outputs": []
    },
    {
      "cell_type": "code",
      "source": [],
      "metadata": {
        "id": "mF6QwrWbtrxQ"
      },
      "execution_count": null,
      "outputs": []
    },
    {
      "cell_type": "code",
      "source": [],
      "metadata": {
        "id": "CJdhpL6gtruL"
      },
      "execution_count": null,
      "outputs": []
    },
    {
      "cell_type": "code",
      "source": [],
      "metadata": {
        "id": "cTDSyc2ZtrsC"
      },
      "execution_count": null,
      "outputs": []
    },
    {
      "cell_type": "code",
      "source": [],
      "metadata": {
        "id": "7EKKf-u9trpi"
      },
      "execution_count": null,
      "outputs": []
    },
    {
      "cell_type": "code",
      "source": [],
      "metadata": {
        "id": "UJiz3YE8trm4"
      },
      "execution_count": null,
      "outputs": []
    },
    {
      "cell_type": "code",
      "source": [],
      "metadata": {
        "id": "8Fqw_F9Btrkj"
      },
      "execution_count": null,
      "outputs": []
    },
    {
      "cell_type": "code",
      "source": [],
      "metadata": {
        "id": "u4nvmAHXtriB"
      },
      "execution_count": null,
      "outputs": []
    },
    {
      "cell_type": "code",
      "source": [],
      "metadata": {
        "id": "5OudSPSAtrfg"
      },
      "execution_count": null,
      "outputs": []
    },
    {
      "cell_type": "code",
      "source": [],
      "metadata": {
        "id": "4Okxam3HtrdY"
      },
      "execution_count": null,
      "outputs": []
    },
    {
      "cell_type": "code",
      "source": [],
      "metadata": {
        "id": "WDbpdsygtrbH"
      },
      "execution_count": null,
      "outputs": []
    },
    {
      "cell_type": "code",
      "source": [],
      "metadata": {
        "id": "AlTpCXlOtrYm"
      },
      "execution_count": null,
      "outputs": []
    },
    {
      "cell_type": "code",
      "source": [],
      "metadata": {
        "id": "HifcHH7qtrV-"
      },
      "execution_count": null,
      "outputs": []
    },
    {
      "cell_type": "code",
      "metadata": {
        "id": "Rjp550Nsa5Gi"
      },
      "source": [
        "def pred_props(C=0, Si=0, Mn=0, P=0, S=0, Ni=0, Cr=0, Mo=0, Cu=0, V=0, Al=0, N=0, Ceq=0, Nb_Ta=0, Temp=34):\n",
        "  elements = [C, Si, Mn, P, S, Ni, Cr, Mo, Cu, V, Al, N, Ceq, Nb_Ta, Temp]\n",
        "  elements = pd.DataFrame(elements)\n",
        "  print(\"0.2% proof strength is \", regressor.predict(elements))\n",
        "  print(\"Tensile Strength is \", regressor_tensile.predict(elements))\n",
        "  print(\"Elongation(%) is \", regressor_el_2.predict(elements))\n",
        "  print(\"Reduction in Area is \", regressor_re_2.predict(elements))\n",
        "\n"
      ],
      "execution_count": null,
      "outputs": []
    },
    {
      "cell_type": "code",
      "metadata": {
        "id": "CE7UtBi9qVTu",
        "colab": {
          "base_uri": "https://localhost:8080/",
          "height": 311
        },
        "outputId": "8f64ff6f-82b4-450b-86f9-a65b763e9c15"
      },
      "source": [
        "pred_props(C=0.07, Si=1, Mn=2, P=0.05, S=0.03, Ni=9.25, Cr=18.5, N=0.11)"
      ],
      "execution_count": null,
      "outputs": [
        {
          "output_type": "error",
          "ename": "ValueError",
          "evalue": "ignored",
          "traceback": [
            "\u001b[0;31m---------------------------------------------------------------------------\u001b[0m",
            "\u001b[0;31mValueError\u001b[0m                                Traceback (most recent call last)",
            "\u001b[0;32m<ipython-input-102-ad9e2b824e2f>\u001b[0m in \u001b[0;36m<module>\u001b[0;34m\u001b[0m\n\u001b[0;32m----> 1\u001b[0;31m \u001b[0mpred_props\u001b[0m\u001b[0;34m(\u001b[0m\u001b[0mC\u001b[0m\u001b[0;34m=\u001b[0m\u001b[0;36m0.07\u001b[0m\u001b[0;34m,\u001b[0m \u001b[0mSi\u001b[0m\u001b[0;34m=\u001b[0m\u001b[0;36m1\u001b[0m\u001b[0;34m,\u001b[0m \u001b[0mMn\u001b[0m\u001b[0;34m=\u001b[0m\u001b[0;36m2\u001b[0m\u001b[0;34m,\u001b[0m \u001b[0mP\u001b[0m\u001b[0;34m=\u001b[0m\u001b[0;36m0.05\u001b[0m\u001b[0;34m,\u001b[0m \u001b[0mS\u001b[0m\u001b[0;34m=\u001b[0m\u001b[0;36m0.03\u001b[0m\u001b[0;34m,\u001b[0m \u001b[0mNi\u001b[0m\u001b[0;34m=\u001b[0m\u001b[0;36m9.25\u001b[0m\u001b[0;34m,\u001b[0m \u001b[0mCr\u001b[0m\u001b[0;34m=\u001b[0m\u001b[0;36m18.5\u001b[0m\u001b[0;34m,\u001b[0m \u001b[0mN\u001b[0m\u001b[0;34m=\u001b[0m\u001b[0;36m0.11\u001b[0m\u001b[0;34m)\u001b[0m\u001b[0;34m\u001b[0m\u001b[0;34m\u001b[0m\u001b[0m\n\u001b[0m",
            "\u001b[0;32m<ipython-input-101-18ceb76e7dd7>\u001b[0m in \u001b[0;36mpred_props\u001b[0;34m(C, Si, Mn, P, S, Ni, Cr, Mo, Cu, V, Al, N, Ceq, Nb_Ta, Temp)\u001b[0m\n\u001b[1;32m      2\u001b[0m   \u001b[0melements\u001b[0m \u001b[0;34m=\u001b[0m \u001b[0;34m[\u001b[0m\u001b[0mC\u001b[0m\u001b[0;34m,\u001b[0m \u001b[0mSi\u001b[0m\u001b[0;34m,\u001b[0m \u001b[0mMn\u001b[0m\u001b[0;34m,\u001b[0m \u001b[0mP\u001b[0m\u001b[0;34m,\u001b[0m \u001b[0mS\u001b[0m\u001b[0;34m,\u001b[0m \u001b[0mNi\u001b[0m\u001b[0;34m,\u001b[0m \u001b[0mCr\u001b[0m\u001b[0;34m,\u001b[0m \u001b[0mMo\u001b[0m\u001b[0;34m,\u001b[0m \u001b[0mCu\u001b[0m\u001b[0;34m,\u001b[0m \u001b[0mV\u001b[0m\u001b[0;34m,\u001b[0m \u001b[0mAl\u001b[0m\u001b[0;34m,\u001b[0m \u001b[0mN\u001b[0m\u001b[0;34m,\u001b[0m \u001b[0mCeq\u001b[0m\u001b[0;34m,\u001b[0m \u001b[0mNb_Ta\u001b[0m\u001b[0;34m,\u001b[0m \u001b[0mTemp\u001b[0m\u001b[0;34m]\u001b[0m\u001b[0;34m\u001b[0m\u001b[0;34m\u001b[0m\u001b[0m\n\u001b[1;32m      3\u001b[0m   \u001b[0melements\u001b[0m \u001b[0;34m=\u001b[0m \u001b[0mpd\u001b[0m\u001b[0;34m.\u001b[0m\u001b[0mDataFrame\u001b[0m\u001b[0;34m(\u001b[0m\u001b[0melements\u001b[0m\u001b[0;34m)\u001b[0m\u001b[0;34m\u001b[0m\u001b[0;34m\u001b[0m\u001b[0m\n\u001b[0;32m----> 4\u001b[0;31m   \u001b[0mprint\u001b[0m\u001b[0;34m(\u001b[0m\u001b[0;34m\"0.2% proof strength is \"\u001b[0m\u001b[0;34m,\u001b[0m \u001b[0mregressor\u001b[0m\u001b[0;34m.\u001b[0m\u001b[0mpredict\u001b[0m\u001b[0;34m(\u001b[0m\u001b[0melements\u001b[0m\u001b[0;34m)\u001b[0m\u001b[0;34m)\u001b[0m\u001b[0;34m\u001b[0m\u001b[0;34m\u001b[0m\u001b[0m\n\u001b[0m\u001b[1;32m      5\u001b[0m   \u001b[0mprint\u001b[0m\u001b[0;34m(\u001b[0m\u001b[0;34m\"Tensile Strength is \"\u001b[0m\u001b[0;34m,\u001b[0m \u001b[0mregressor_tensile\u001b[0m\u001b[0;34m.\u001b[0m\u001b[0mpredict\u001b[0m\u001b[0;34m(\u001b[0m\u001b[0melements\u001b[0m\u001b[0;34m)\u001b[0m\u001b[0;34m)\u001b[0m\u001b[0;34m\u001b[0m\u001b[0;34m\u001b[0m\u001b[0m\n\u001b[1;32m      6\u001b[0m   \u001b[0mprint\u001b[0m\u001b[0;34m(\u001b[0m\u001b[0;34m\"Elongation(%) is \"\u001b[0m\u001b[0;34m,\u001b[0m \u001b[0mregressor_el_2\u001b[0m\u001b[0;34m.\u001b[0m\u001b[0mpredict\u001b[0m\u001b[0;34m(\u001b[0m\u001b[0melements\u001b[0m\u001b[0;34m)\u001b[0m\u001b[0;34m)\u001b[0m\u001b[0;34m\u001b[0m\u001b[0;34m\u001b[0m\u001b[0m\n",
            "\u001b[0;32m/usr/local/lib/python3.7/dist-packages/sklearn/linear_model/_base.py\u001b[0m in \u001b[0;36mpredict\u001b[0;34m(self, X)\u001b[0m\n\u001b[1;32m    360\u001b[0m             \u001b[0mReturns\u001b[0m \u001b[0mpredicted\u001b[0m \u001b[0mvalues\u001b[0m\u001b[0;34m.\u001b[0m\u001b[0;34m\u001b[0m\u001b[0;34m\u001b[0m\u001b[0m\n\u001b[1;32m    361\u001b[0m         \"\"\"\n\u001b[0;32m--> 362\u001b[0;31m         \u001b[0;32mreturn\u001b[0m \u001b[0mself\u001b[0m\u001b[0;34m.\u001b[0m\u001b[0m_decision_function\u001b[0m\u001b[0;34m(\u001b[0m\u001b[0mX\u001b[0m\u001b[0;34m)\u001b[0m\u001b[0;34m\u001b[0m\u001b[0;34m\u001b[0m\u001b[0m\n\u001b[0m\u001b[1;32m    363\u001b[0m \u001b[0;34m\u001b[0m\u001b[0m\n\u001b[1;32m    364\u001b[0m     \u001b[0m_preprocess_data\u001b[0m \u001b[0;34m=\u001b[0m \u001b[0mstaticmethod\u001b[0m\u001b[0;34m(\u001b[0m\u001b[0m_preprocess_data\u001b[0m\u001b[0;34m)\u001b[0m\u001b[0;34m\u001b[0m\u001b[0;34m\u001b[0m\u001b[0m\n",
            "\u001b[0;32m/usr/local/lib/python3.7/dist-packages/sklearn/linear_model/_base.py\u001b[0m in \u001b[0;36m_decision_function\u001b[0;34m(self, X)\u001b[0m\n\u001b[1;32m    343\u001b[0m         \u001b[0mcheck_is_fitted\u001b[0m\u001b[0;34m(\u001b[0m\u001b[0mself\u001b[0m\u001b[0;34m)\u001b[0m\u001b[0;34m\u001b[0m\u001b[0;34m\u001b[0m\u001b[0m\n\u001b[1;32m    344\u001b[0m \u001b[0;34m\u001b[0m\u001b[0m\n\u001b[0;32m--> 345\u001b[0;31m         \u001b[0mX\u001b[0m \u001b[0;34m=\u001b[0m \u001b[0mself\u001b[0m\u001b[0;34m.\u001b[0m\u001b[0m_validate_data\u001b[0m\u001b[0;34m(\u001b[0m\u001b[0mX\u001b[0m\u001b[0;34m,\u001b[0m \u001b[0maccept_sparse\u001b[0m\u001b[0;34m=\u001b[0m\u001b[0;34m[\u001b[0m\u001b[0;34m\"csr\"\u001b[0m\u001b[0;34m,\u001b[0m \u001b[0;34m\"csc\"\u001b[0m\u001b[0;34m,\u001b[0m \u001b[0;34m\"coo\"\u001b[0m\u001b[0;34m]\u001b[0m\u001b[0;34m,\u001b[0m \u001b[0mreset\u001b[0m\u001b[0;34m=\u001b[0m\u001b[0;32mFalse\u001b[0m\u001b[0;34m)\u001b[0m\u001b[0;34m\u001b[0m\u001b[0;34m\u001b[0m\u001b[0m\n\u001b[0m\u001b[1;32m    346\u001b[0m         \u001b[0;32mreturn\u001b[0m \u001b[0msafe_sparse_dot\u001b[0m\u001b[0;34m(\u001b[0m\u001b[0mX\u001b[0m\u001b[0;34m,\u001b[0m \u001b[0mself\u001b[0m\u001b[0;34m.\u001b[0m\u001b[0mcoef_\u001b[0m\u001b[0;34m.\u001b[0m\u001b[0mT\u001b[0m\u001b[0;34m,\u001b[0m \u001b[0mdense_output\u001b[0m\u001b[0;34m=\u001b[0m\u001b[0;32mTrue\u001b[0m\u001b[0;34m)\u001b[0m \u001b[0;34m+\u001b[0m \u001b[0mself\u001b[0m\u001b[0;34m.\u001b[0m\u001b[0mintercept_\u001b[0m\u001b[0;34m\u001b[0m\u001b[0;34m\u001b[0m\u001b[0m\n\u001b[1;32m    347\u001b[0m \u001b[0;34m\u001b[0m\u001b[0m\n",
            "\u001b[0;32m/usr/local/lib/python3.7/dist-packages/sklearn/base.py\u001b[0m in \u001b[0;36m_validate_data\u001b[0;34m(self, X, y, reset, validate_separately, **check_params)\u001b[0m\n\u001b[1;32m    583\u001b[0m \u001b[0;34m\u001b[0m\u001b[0m\n\u001b[1;32m    584\u001b[0m         \u001b[0;32mif\u001b[0m \u001b[0;32mnot\u001b[0m \u001b[0mno_val_X\u001b[0m \u001b[0;32mand\u001b[0m \u001b[0mcheck_params\u001b[0m\u001b[0;34m.\u001b[0m\u001b[0mget\u001b[0m\u001b[0;34m(\u001b[0m\u001b[0;34m\"ensure_2d\"\u001b[0m\u001b[0;34m,\u001b[0m \u001b[0;32mTrue\u001b[0m\u001b[0;34m)\u001b[0m\u001b[0;34m:\u001b[0m\u001b[0;34m\u001b[0m\u001b[0;34m\u001b[0m\u001b[0m\n\u001b[0;32m--> 585\u001b[0;31m             \u001b[0mself\u001b[0m\u001b[0;34m.\u001b[0m\u001b[0m_check_n_features\u001b[0m\u001b[0;34m(\u001b[0m\u001b[0mX\u001b[0m\u001b[0;34m,\u001b[0m \u001b[0mreset\u001b[0m\u001b[0;34m=\u001b[0m\u001b[0mreset\u001b[0m\u001b[0;34m)\u001b[0m\u001b[0;34m\u001b[0m\u001b[0;34m\u001b[0m\u001b[0m\n\u001b[0m\u001b[1;32m    586\u001b[0m \u001b[0;34m\u001b[0m\u001b[0m\n\u001b[1;32m    587\u001b[0m         \u001b[0;32mreturn\u001b[0m \u001b[0mout\u001b[0m\u001b[0;34m\u001b[0m\u001b[0;34m\u001b[0m\u001b[0m\n",
            "\u001b[0;32m/usr/local/lib/python3.7/dist-packages/sklearn/base.py\u001b[0m in \u001b[0;36m_check_n_features\u001b[0;34m(self, X, reset)\u001b[0m\n\u001b[1;32m    399\u001b[0m         \u001b[0;32mif\u001b[0m \u001b[0mn_features\u001b[0m \u001b[0;34m!=\u001b[0m \u001b[0mself\u001b[0m\u001b[0;34m.\u001b[0m\u001b[0mn_features_in_\u001b[0m\u001b[0;34m:\u001b[0m\u001b[0;34m\u001b[0m\u001b[0;34m\u001b[0m\u001b[0m\n\u001b[1;32m    400\u001b[0m             raise ValueError(\n\u001b[0;32m--> 401\u001b[0;31m                 \u001b[0;34mf\"X has {n_features} features, but {self.__class__.__name__} \"\u001b[0m\u001b[0;34m\u001b[0m\u001b[0;34m\u001b[0m\u001b[0m\n\u001b[0m\u001b[1;32m    402\u001b[0m                 \u001b[0;34mf\"is expecting {self.n_features_in_} features as input.\"\u001b[0m\u001b[0;34m\u001b[0m\u001b[0;34m\u001b[0m\u001b[0m\n\u001b[1;32m    403\u001b[0m             )\n",
            "\u001b[0;31mValueError\u001b[0m: X has 1 features, but LinearRegression is expecting 15 features as input."
          ]
        }
      ]
    },
    {
      "cell_type": "code",
      "metadata": {
        "id": "MPvXzvRgqVQ9"
      },
      "source": [],
      "execution_count": null,
      "outputs": []
    },
    {
      "cell_type": "code",
      "metadata": {
        "id": "CZTkVXRzqVOl"
      },
      "source": [],
      "execution_count": null,
      "outputs": []
    },
    {
      "cell_type": "code",
      "metadata": {
        "id": "bb7-7AqrqVL7"
      },
      "source": [],
      "execution_count": null,
      "outputs": []
    },
    {
      "cell_type": "code",
      "metadata": {
        "id": "PqhO37KIqVJT"
      },
      "source": [],
      "execution_count": null,
      "outputs": []
    },
    {
      "cell_type": "code",
      "metadata": {
        "id": "KG9r19SUqVG5"
      },
      "source": [],
      "execution_count": null,
      "outputs": []
    },
    {
      "cell_type": "code",
      "metadata": {
        "id": "vJzlG1d7qVDu"
      },
      "source": [],
      "execution_count": null,
      "outputs": []
    },
    {
      "cell_type": "markdown",
      "metadata": {
        "id": "kdA0WQC2F_db"
      },
      "source": [
        "###Try with PyTorch"
      ]
    },
    {
      "cell_type": "code",
      "metadata": {
        "id": "2LOOd4M2GHaH"
      },
      "source": [
        "import torch\n",
        "import torch.nn as nn"
      ],
      "execution_count": null,
      "outputs": []
    },
    {
      "cell_type": "code",
      "metadata": {
        "id": "AbVTeXSYGOn1"
      },
      "source": [
        "df_nu = df.copy(deep=True)\n",
        "x_inputs = df_nu.iloc[:, :-4].values\n",
        "y_targets = df_nu.iloc[:, -4:].values\n"
      ],
      "execution_count": null,
      "outputs": []
    },
    {
      "cell_type": "code",
      "metadata": {
        "colab": {
          "base_uri": "https://localhost:8080/"
        },
        "id": "Vx-lSTWlL1nv",
        "outputId": "30623673-5ec2-40e6-e445-8b776c16f5e4"
      },
      "source": [
        "x_inputs.shape"
      ],
      "execution_count": null,
      "outputs": [
        {
          "output_type": "execute_result",
          "data": {
            "text/plain": [
              "(914, 15)"
            ]
          },
          "metadata": {},
          "execution_count": 98
        }
      ]
    },
    {
      "cell_type": "code",
      "metadata": {
        "id": "CSrLdcoMHV3R"
      },
      "source": [
        "inputs_tr = torch.tensor(x_inputs)\n",
        "targets_tr = torch.tensor(y_targets)"
      ],
      "execution_count": null,
      "outputs": []
    },
    {
      "cell_type": "code",
      "metadata": {
        "id": "2q-e-ujDPGHu"
      },
      "source": [],
      "execution_count": null,
      "outputs": []
    },
    {
      "cell_type": "code",
      "metadata": {
        "id": "saX-UVY3PSD1"
      },
      "source": [
        "from torch.utils.data import DataLoader"
      ],
      "execution_count": null,
      "outputs": []
    },
    {
      "cell_type": "code",
      "metadata": {
        "id": "8lczEM2OPIbR"
      },
      "source": [
        "train_dl = DataLoader(inputs_tr)"
      ],
      "execution_count": null,
      "outputs": []
    },
    {
      "cell_type": "code",
      "metadata": {
        "id": "Hdf4xyQKQT00"
      },
      "source": [],
      "execution_count": null,
      "outputs": []
    },
    {
      "cell_type": "code",
      "metadata": {
        "id": "tpTqhK4NIZ5j"
      },
      "source": [
        "from torch.utils.data import TensorDataset"
      ],
      "execution_count": null,
      "outputs": []
    },
    {
      "cell_type": "code",
      "metadata": {
        "colab": {
          "base_uri": "https://localhost:8080/"
        },
        "id": "A2pj-6CxJB-1",
        "outputId": "3203fa9d-7dc0-4686-ea36-f342fc112393"
      },
      "source": [
        "model = nn.Linear(15, 4)\n",
        "\n",
        "print(model.weight)\n",
        "print(model.bias)"
      ],
      "execution_count": null,
      "outputs": [
        {
          "output_type": "stream",
          "name": "stdout",
          "text": [
            "Parameter containing:\n",
            "tensor([[ 0.2077,  0.0540,  0.1324,  0.0648,  0.0133, -0.1806,  0.0160,  0.0504,\n",
            "         -0.2023, -0.0131, -0.1572,  0.1091,  0.2163, -0.1176,  0.2536],\n",
            "        [-0.1597,  0.1915, -0.0621, -0.1737, -0.2274, -0.1214, -0.0754, -0.0326,\n",
            "         -0.1640, -0.1085,  0.0911,  0.2371,  0.2562,  0.1934, -0.0334],\n",
            "        [ 0.0105, -0.1085,  0.1150, -0.1566,  0.1005, -0.0869, -0.0413,  0.1702,\n",
            "          0.0369,  0.0487, -0.0424,  0.2093,  0.0949, -0.1022,  0.0030],\n",
            "        [ 0.0316, -0.1058, -0.1075,  0.0628, -0.0770,  0.0882,  0.0382, -0.0472,\n",
            "          0.1882,  0.1437,  0.1232, -0.0321, -0.2458,  0.1235, -0.2279]],\n",
            "       requires_grad=True)\n",
            "Parameter containing:\n",
            "tensor([ 0.2027,  0.0028, -0.1411,  0.1051], requires_grad=True)\n"
          ]
        }
      ]
    },
    {
      "cell_type": "code",
      "metadata": {
        "colab": {
          "base_uri": "https://localhost:8080/"
        },
        "id": "kuWBwIGnMVLX",
        "outputId": "aedf5e6c-48ad-415d-d6bf-9079956a3cfa"
      },
      "source": [
        "preds = model(inputs_tr.float())\n",
        "preds"
      ],
      "execution_count": null,
      "outputs": [
        {
          "output_type": "execute_result",
          "data": {
            "text/plain": [
              "tensor([[   8.0669,   -1.5483,    0.2712,   -6.7999],\n",
              "        [  26.5784,   -3.9880,    0.4884,  -23.4366],\n",
              "        [  51.9367,   -7.3300,    0.7859,  -46.2267],\n",
              "        ...,\n",
              "        [ 115.3481,  -15.6159,    1.5454, -103.2284],\n",
              "        [ 128.0273,  -17.2869,    1.6942, -114.6234],\n",
              "        [ 140.7065,  -18.9580,    1.8429, -126.0184]],\n",
              "       grad_fn=<AddmmBackward0>)"
            ]
          },
          "metadata": {},
          "execution_count": 104
        }
      ]
    },
    {
      "cell_type": "markdown",
      "metadata": {
        "id": "QSNt3pjHSc0E"
      },
      "source": [
        "###Loss Function"
      ]
    },
    {
      "cell_type": "code",
      "metadata": {
        "id": "XRzdxJ0qN2LJ"
      },
      "source": [
        "import torch.nn.functional as F"
      ],
      "execution_count": null,
      "outputs": []
    },
    {
      "cell_type": "code",
      "metadata": {
        "id": "J_lO_xuQSosY"
      },
      "source": [
        "loss_fn = F.mse_loss"
      ],
      "execution_count": null,
      "outputs": []
    },
    {
      "cell_type": "code",
      "metadata": {
        "colab": {
          "base_uri": "https://localhost:8080/"
        },
        "id": "tqZ7xbAkSvja",
        "outputId": "f4cf837a-6b09-473d-af71-accc65ce9e99"
      },
      "source": [
        "loss = loss_fn(model(inputs_tr.float()), targets_tr)\n",
        "print(loss)"
      ],
      "execution_count": null,
      "outputs": [
        {
          "output_type": "stream",
          "name": "stdout",
          "text": [
            "tensor(93419.5298, dtype=torch.float64, grad_fn=<MseLossBackward0>)\n"
          ]
        }
      ]
    },
    {
      "cell_type": "code",
      "metadata": {
        "id": "ojSTXGTYER0S"
      },
      "source": [],
      "execution_count": null,
      "outputs": []
    },
    {
      "cell_type": "markdown",
      "metadata": {
        "id": "jWE2My0ATHa-"
      },
      "source": [
        "### Optimizer"
      ]
    },
    {
      "cell_type": "code",
      "metadata": {
        "id": "w2fPBSv0S8Xo"
      },
      "source": [
        "opt = torch.optim.SGD(model.parameters(), lr=10**(-5))"
      ],
      "execution_count": null,
      "outputs": []
    },
    {
      "cell_type": "code",
      "metadata": {
        "id": "wq5D0sMHTep9"
      },
      "source": [
        "def fit(num_epochs, model, loss_fn, opt, train_dl, targets_tr):\n",
        "  for epoch in range(num_epochs):\n",
        "    for xb in train_dl:\n",
        "      pred = model(xb.float())\n",
        "      loss = loss_fn(pred, targets_tr)\n",
        "      loss.backward()\n",
        "      opt.step()\n",
        "      opt.zero_grad()\n",
        "\n",
        "\n",
        "  if (epoch+1)%10 == 0:\n",
        "    print('Epoch [{}/{}], loss : {:.4f}'.format(epoch+1, num_epochs, loss.item()))"
      ],
      "execution_count": null,
      "outputs": []
    },
    {
      "cell_type": "code",
      "metadata": {
        "colab": {
          "base_uri": "https://localhost:8080/"
        },
        "id": "wo0PX7UrVpCg",
        "outputId": "2d6a272a-d6d3-4b1a-a911-66d2f6815e8e"
      },
      "source": [
        "\n",
        "fit(100, model, loss_fn, opt, train_dl, targets_tr.float())"
      ],
      "execution_count": null,
      "outputs": [
        {
          "output_type": "stream",
          "name": "stderr",
          "text": [
            "/usr/local/lib/python3.7/dist-packages/ipykernel_launcher.py:5: UserWarning: Using a target size (torch.Size([914, 4])) that is different to the input size (torch.Size([1, 4])). This will likely lead to incorrect results due to broadcasting. Please ensure they have the same size.\n",
            "  \"\"\"\n"
          ]
        },
        {
          "output_type": "stream",
          "name": "stdout",
          "text": [
            "Epoch [100/100], loss : 8320.8906\n"
          ]
        }
      ]
    },
    {
      "cell_type": "code",
      "metadata": {
        "id": "ol5woEhnV30S",
        "colab": {
          "base_uri": "https://localhost:8080/"
        },
        "outputId": "ad3288d6-a00b-467e-f281-031cca15b19d"
      },
      "source": [
        "preds = model(inputs_tr.float())\n",
        "preds"
      ],
      "execution_count": null,
      "outputs": [
        {
          "output_type": "execute_result",
          "data": {
            "text/plain": [
              "tensor([[341.4894, 509.5228,   3.3509,  73.0946],\n",
              "        [343.3795, 512.3780,   3.3679,  73.5191],\n",
              "        [345.9687, 516.2892,   3.3912,  74.1006],\n",
              "        ...,\n",
              "        [324.8907, 484.7915,   3.2112,  69.5522],\n",
              "        [326.1853, 486.7471,   3.2228,  69.8430],\n",
              "        [327.4799, 488.7026,   3.2345,  70.1337]], grad_fn=<AddmmBackward0>)"
            ]
          },
          "metadata": {},
          "execution_count": 111
        }
      ]
    },
    {
      "cell_type": "code",
      "metadata": {
        "colab": {
          "base_uri": "https://localhost:8080/",
          "height": 241
        },
        "id": "qj4majHe9BjO",
        "outputId": "ba04a136-d247-41ea-be2b-2ad709a97001"
      },
      "source": [
        "df.head()"
      ],
      "execution_count": null,
      "outputs": [
        {
          "output_type": "execute_result",
          "data": {
            "text/html": [
              "<div>\n",
              "<style scoped>\n",
              "    .dataframe tbody tr th:only-of-type {\n",
              "        vertical-align: middle;\n",
              "    }\n",
              "\n",
              "    .dataframe tbody tr th {\n",
              "        vertical-align: top;\n",
              "    }\n",
              "\n",
              "    .dataframe thead th {\n",
              "        text-align: right;\n",
              "    }\n",
              "</style>\n",
              "<table border=\"1\" class=\"dataframe\">\n",
              "  <thead>\n",
              "    <tr style=\"text-align: right;\">\n",
              "      <th></th>\n",
              "      <th>C</th>\n",
              "      <th>Si</th>\n",
              "      <th>Mn</th>\n",
              "      <th>P</th>\n",
              "      <th>S</th>\n",
              "      <th>Ni</th>\n",
              "      <th>Cr</th>\n",
              "      <th>Mo</th>\n",
              "      <th>sqrt(Cu)</th>\n",
              "      <th>V</th>\n",
              "      <th>log(Al)</th>\n",
              "      <th>N</th>\n",
              "      <th>Ceq</th>\n",
              "      <th>Nb + Ta</th>\n",
              "      <th>Temperature (°C)</th>\n",
              "      <th>0.2% Proof Stress (MPa)</th>\n",
              "      <th>Tensile Strength (MPa)</th>\n",
              "      <th>log(Elongation (%))</th>\n",
              "      <th>Reduction in Area (%)</th>\n",
              "    </tr>\n",
              "  </thead>\n",
              "  <tbody>\n",
              "    <tr>\n",
              "      <th>0</th>\n",
              "      <td>0.12</td>\n",
              "      <td>0.36</td>\n",
              "      <td>0.52</td>\n",
              "      <td>0.009</td>\n",
              "      <td>0.003</td>\n",
              "      <td>0.089</td>\n",
              "      <td>0.97</td>\n",
              "      <td>0.61</td>\n",
              "      <td>0.2</td>\n",
              "      <td>0.0</td>\n",
              "      <td>-5.809143</td>\n",
              "      <td>0.0066</td>\n",
              "      <td>0.0</td>\n",
              "      <td>0.0</td>\n",
              "      <td>27</td>\n",
              "      <td>342</td>\n",
              "      <td>490</td>\n",
              "      <td>3.401197</td>\n",
              "      <td>71</td>\n",
              "    </tr>\n",
              "    <tr>\n",
              "      <th>1</th>\n",
              "      <td>0.12</td>\n",
              "      <td>0.36</td>\n",
              "      <td>0.52</td>\n",
              "      <td>0.009</td>\n",
              "      <td>0.003</td>\n",
              "      <td>0.089</td>\n",
              "      <td>0.97</td>\n",
              "      <td>0.61</td>\n",
              "      <td>0.2</td>\n",
              "      <td>0.0</td>\n",
              "      <td>-5.809143</td>\n",
              "      <td>0.0066</td>\n",
              "      <td>0.0</td>\n",
              "      <td>0.0</td>\n",
              "      <td>100</td>\n",
              "      <td>338</td>\n",
              "      <td>454</td>\n",
              "      <td>3.295837</td>\n",
              "      <td>72</td>\n",
              "    </tr>\n",
              "    <tr>\n",
              "      <th>2</th>\n",
              "      <td>0.12</td>\n",
              "      <td>0.36</td>\n",
              "      <td>0.52</td>\n",
              "      <td>0.009</td>\n",
              "      <td>0.003</td>\n",
              "      <td>0.089</td>\n",
              "      <td>0.97</td>\n",
              "      <td>0.61</td>\n",
              "      <td>0.2</td>\n",
              "      <td>0.0</td>\n",
              "      <td>-5.809143</td>\n",
              "      <td>0.0066</td>\n",
              "      <td>0.0</td>\n",
              "      <td>0.0</td>\n",
              "      <td>200</td>\n",
              "      <td>337</td>\n",
              "      <td>465</td>\n",
              "      <td>3.135494</td>\n",
              "      <td>69</td>\n",
              "    </tr>\n",
              "    <tr>\n",
              "      <th>3</th>\n",
              "      <td>0.12</td>\n",
              "      <td>0.36</td>\n",
              "      <td>0.52</td>\n",
              "      <td>0.009</td>\n",
              "      <td>0.003</td>\n",
              "      <td>0.089</td>\n",
              "      <td>0.97</td>\n",
              "      <td>0.61</td>\n",
              "      <td>0.2</td>\n",
              "      <td>0.0</td>\n",
              "      <td>-5.809143</td>\n",
              "      <td>0.0066</td>\n",
              "      <td>0.0</td>\n",
              "      <td>0.0</td>\n",
              "      <td>300</td>\n",
              "      <td>346</td>\n",
              "      <td>495</td>\n",
              "      <td>3.044522</td>\n",
              "      <td>70</td>\n",
              "    </tr>\n",
              "    <tr>\n",
              "      <th>4</th>\n",
              "      <td>0.12</td>\n",
              "      <td>0.36</td>\n",
              "      <td>0.52</td>\n",
              "      <td>0.009</td>\n",
              "      <td>0.003</td>\n",
              "      <td>0.089</td>\n",
              "      <td>0.97</td>\n",
              "      <td>0.61</td>\n",
              "      <td>0.2</td>\n",
              "      <td>0.0</td>\n",
              "      <td>-5.809143</td>\n",
              "      <td>0.0066</td>\n",
              "      <td>0.0</td>\n",
              "      <td>0.0</td>\n",
              "      <td>400</td>\n",
              "      <td>316</td>\n",
              "      <td>489</td>\n",
              "      <td>3.258097</td>\n",
              "      <td>79</td>\n",
              "    </tr>\n",
              "  </tbody>\n",
              "</table>\n",
              "</div>"
            ],
            "text/plain": [
              "      C    Si  ...  log(Elongation (%))   Reduction in Area (%)\n",
              "0  0.12  0.36  ...             3.401197                      71\n",
              "1  0.12  0.36  ...             3.295837                      72\n",
              "2  0.12  0.36  ...             3.135494                      69\n",
              "3  0.12  0.36  ...             3.044522                      70\n",
              "4  0.12  0.36  ...             3.258097                      79\n",
              "\n",
              "[5 rows x 19 columns]"
            ]
          },
          "metadata": {},
          "execution_count": 112
        }
      ]
    },
    {
      "cell_type": "code",
      "metadata": {
        "id": "DhOBggE39_tH"
      },
      "source": [],
      "execution_count": null,
      "outputs": []
    }
  ]
}